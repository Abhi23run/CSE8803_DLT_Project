{
 "cells": [
  {
   "cell_type": "code",
   "execution_count": 40,
   "metadata": {},
   "outputs": [],
   "source": [
    "import matplotlib.pyplot as plt\n",
    "import pandas as pd\n",
    "import numpy as np\n",
    "import transformers\n",
    "from torch.optim import Adam\n",
    "from tqdm import tqdm"
   ]
  },
  {
   "cell_type": "code",
   "execution_count": 41,
   "metadata": {},
   "outputs": [],
   "source": [
    "import torch\n",
    "from torch.utils.data import Dataset, DataLoader, Subset\n",
    "from transformers import T5Tokenizer, T5Model, T5ForConditionalGeneration, T5TokenizerFast"
   ]
  },
  {
   "cell_type": "code",
   "execution_count": 42,
   "metadata": {},
   "outputs": [],
   "source": [
    "from utils import FinQA_Dataset"
   ]
  },
  {
   "cell_type": "code",
   "execution_count": 43,
   "metadata": {},
   "outputs": [
    {
     "name": "stderr",
     "output_type": "stream",
     "text": [
      "/Users/ashish1610dhiman/opt/anaconda3/envs/dlt_project/lib/python3.10/site-packages/transformers/models/t5/tokenization_t5.py:199: FutureWarning: This tokenizer was incorrectly instantiated with a model max length of 512 which will be corrected in Transformers v5.\n",
      "For now, this behavior is kept to avoid breaking backwards compatibility when padding/encoding with `truncation is True`.\n",
      "- Be aware that you SHOULD NOT rely on t5-base automatically truncating your input to 512 when padding/encoding.\n",
      "- If you want to encode/pad to sequences longer than 512 you can either instantiate this tokenizer with `model_max_length` or pass `max_length` when encoding/padding.\n",
      "- To avoid this warning, please instantiate this tokenizer with `model_max_length` set to your preferred value.\n",
      "  warnings.warn(\n"
     ]
    }
   ],
   "source": [
    "TOKENIZER = T5Tokenizer.from_pretrained(\"t5-base\")\n",
    "MODEL = T5ForConditionalGeneration.from_pretrained(\"../finqa_finetune_t5.pth/\")\n",
    "BATCH_SIZE = 8\n",
    "TESTING = True"
   ]
  },
  {
   "cell_type": "code",
   "execution_count": 44,
   "metadata": {},
   "outputs": [
    {
     "data": {
      "text/plain": [
       "device(type='cpu')"
      ]
     },
     "execution_count": 44,
     "metadata": {},
     "output_type": "execute_result"
    }
   ],
   "source": [
    "DEVICE = torch.device(\"cuda\" if torch.cuda.is_available() else \"cpu\")\n",
    "DEVICE"
   ]
  },
  {
   "cell_type": "markdown",
   "metadata": {},
   "source": [
    "### Read Test and do inference"
   ]
  },
  {
   "cell_type": "code",
   "execution_count": 45,
   "metadata": {},
   "outputs": [
    {
     "data": {
      "text/plain": [
       "1108"
      ]
     },
     "execution_count": 45,
     "metadata": {},
     "output_type": "execute_result"
    }
   ],
   "source": [
    "finqa_test = torch.load('../finqa_dataset/finqa_test.pth')\n",
    "len(finqa_test)"
   ]
  },
  {
   "cell_type": "code",
   "execution_count": 46,
   "metadata": {},
   "outputs": [],
   "source": [
    "if TESTING:\n",
    "    test_loader = DataLoader(Subset(finqa_test, range(100)), batch_size=BATCH_SIZE)\n",
    "else:\n",
    "    test_loader = DataLoader(finqa_test, batch_size=BATCH_SIZE)"
   ]
  },
  {
   "cell_type": "code",
   "execution_count": 47,
   "metadata": {},
   "outputs": [
    {
     "data": {
      "text/plain": [
       "'Step 1: Subtract 5735 from 5829. This gives the result: 94'"
      ]
     },
     "execution_count": 47,
     "metadata": {},
     "output_type": "execute_result"
    }
   ],
   "source": [
    "TOKENIZER.decode([x for x in finqa_test[0]['labels'] if x!= -100], skip_special_tokens=True)"
   ]
  },
  {
   "cell_type": "code",
   "execution_count": 48,
   "metadata": {},
   "outputs": [
    {
     "name": "stderr",
     "output_type": "stream",
     "text": [
      "Generation batches:   0%|          | 0/13 [00:00<?, ?it/s]"
     ]
    },
    {
     "name": "stderr",
     "output_type": "stream",
     "text": [
      "Generation batches:  23%|██▎       | 3/13 [04:38<15:34, 93.40s/it] Be aware, overflowing tokens are not returned for the setting you have chosen, i.e. sequence pairs with the 'longest_first' truncation strategy. So the returned list will always be empty even if some tokens have been removed.\n",
      "Generation batches:  85%|████████▍ | 11/13 [18:30<03:53, 116.69s/it]Be aware, overflowing tokens are not returned for the setting you have chosen, i.e. sequence pairs with the 'longest_first' truncation strategy. So the returned list will always be empty even if some tokens have been removed.\n",
      "Generation batches:  92%|█████████▏| 12/13 [21:02<02:07, 127.38s/it]Be aware, overflowing tokens are not returned for the setting you have chosen, i.e. sequence pairs with the 'longest_first' truncation strategy. So the returned list will always be empty even if some tokens have been removed.\n",
      "Generation batches: 100%|██████████| 13/13 [22:12<00:00, 102.49s/it]\n"
     ]
    }
   ],
   "source": [
    "MODEL.eval();\n",
    "generated_texts = []\n",
    "for batch in tqdm(test_loader, desc=\"Generation batches\"):\n",
    "    input_ids = batch[\"input_ids\"].to(DEVICE)\n",
    "    attention_mask = batch[\"attention_mask\"].to(DEVICE)\n",
    "    decoder_attention_mask = batch[\"decoder_attention_mask\"].to(DEVICE)    \n",
    "    with torch.no_grad():\n",
    "        # Use the `generate` method for text generation\n",
    "        generated_output = MODEL.generate(\n",
    "            input_ids=input_ids,\n",
    "            max_length=128,  # Set the desired maximum length for generated text\n",
    "            num_beams=5,    # You can adjust the number of beams for beam search\n",
    "            temperature=0.8  # You can adjust the temperature for sampling,\n",
    "            )\n",
    "        generated_text = TOKENIZER.decode([x for x in generated_output[0] if x!= -100], skip_special_tokens=True)\n",
    "        generated_texts.append(generated_text)"
   ]
  },
  {
   "cell_type": "code",
   "execution_count": 49,
   "metadata": {},
   "outputs": [
    {
     "data": {
      "text/plain": [
       "['Step 1: Subtract 5735 from 5829. This gives the result: 350',\n",
       " 'Step 1: Check if 153.55 is greater than 198.09. This gives the result: yes',\n",
       " 'Step 1: Add 705.4 and 703.1. This gives the result: 177.9 ####### Step 2: Add 177.9 and const_2. This gives the result: 177.9 ####### Step 3: Divide 177.9 by const_2. This gives the result: 705.4',\n",
       " 'Step 1: Divide 219000 by 83000. This gives the result: 1.1',\n",
       " 'Step 1: Subtract 61912 from 51052. This gives the result: 61912',\n",
       " 'Step 1: Multiply 160196 by 58.02. This gives the result: 2082082.5 ####### Step 2: Multiply 1601962.5 by const_1000000. This gives the result: 1601965000000 ####### Step 3: Multiply 1601965000000 by 52.35. This gives the result: 20800000000 ####### Step 4: Divide 20800000000 by const_1000. This gives the result: 20800000000 ####### Step 5: Multiply 160196 by 58.02. This gives',\n",
       " 'Step 1: Subtract 201 from 189. This gives the result: -12 ####### Step 2: Divide -12 by 201. This gives the result: -4%',\n",
       " 'Step 1: Subtract 18.6 from 26.4. This gives the result: 6.4 ####### Step 2: Divide 6.4 by 18.6. This gives the result: 4%',\n",
       " 'Step 1: Multiply 216 by const_1000. This gives the result: 16000000 ####### Step 2: Divide 216 by 1126. This gives the result: 61%',\n",
       " 'Step 1: Subtract 100 from 128. This gives the result: 28',\n",
       " 'Step 1: Divide 102400 by 1256.1. This gives the result: 1.1',\n",
       " 'Step 1: Multiply 45686 by const_1000. This gives the result: 45686000 ####### Step 2: Divide 45686 by 37.73. This gives the result: 61%',\n",
       " 'Step 1: Divide 40620 by 177947. This gives the result: 59.1%']"
      ]
     },
     "execution_count": 49,
     "metadata": {},
     "output_type": "execute_result"
    }
   ],
   "source": [
    "generated_texts"
   ]
  },
  {
   "cell_type": "code",
   "execution_count": null,
   "metadata": {},
   "outputs": [],
   "source": [
    "import pickle\n",
    "file_path = 'generated_sentences_test.pkl'\n",
    "# Open the file in binary read mode and use pickle.load() to load the list\n",
    "with open(file_path, 'wb') as file:\n",
    "    pickle.dump(generated_texts, file)"
   ]
  }
 ],
 "metadata": {
  "kernelspec": {
   "display_name": "dlt_project",
   "language": "python",
   "name": "python3"
  },
  "language_info": {
   "codemirror_mode": {
    "name": "ipython",
    "version": 3
   },
   "file_extension": ".py",
   "mimetype": "text/x-python",
   "name": "python",
   "nbconvert_exporter": "python",
   "pygments_lexer": "ipython3",
   "version": "3.10.12"
  }
 },
 "nbformat": 4,
 "nbformat_minor": 2
}
