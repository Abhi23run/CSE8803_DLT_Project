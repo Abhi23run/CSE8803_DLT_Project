{
  "nbformat": 4,
  "nbformat_minor": 0,
  "metadata": {
    "colab": {
      "provenance": [],
      "authorship_tag": "ABX9TyNv+KLe7qAB2tBL9vQjoCsQ",
      "include_colab_link": true
    },
    "kernelspec": {
      "name": "python3",
      "display_name": "Python 3"
    },
    "language_info": {
      "name": "python"
    }
  },
  "cells": [
    {
      "cell_type": "markdown",
      "metadata": {
        "id": "view-in-github",
        "colab_type": "text"
      },
      "source": [
        "<a href=\"https://colab.research.google.com/github/Abhi23run/CSE8803_DLT_Project/blob/main/CodeBase/test_finQA.ipynb\" target=\"_parent\"><img src=\"https://colab.research.google.com/assets/colab-badge.svg\" alt=\"Open In Colab\"/></a>"
      ]
    },
    {
      "cell_type": "code",
      "execution_count": null,
      "metadata": {
        "colab": {
          "base_uri": "https://localhost:8080/"
        },
        "id": "NIrYCxUL7v-E",
        "outputId": "4a57b95a-9173-4b3d-9927-a31a4ad7d716"
      },
      "outputs": [
        {
          "output_type": "stream",
          "name": "stdout",
          "text": [
            "Collecting PyPDF2\n",
            "  Downloading pypdf2-3.0.1-py3-none-any.whl (232 kB)\n",
            "\u001b[?25l     \u001b[90m━━━━━━━━━━━━━━━━━━━━━━━━━━━━━━━━━━━━━━━━\u001b[0m \u001b[32m0.0/232.6 kB\u001b[0m \u001b[31m?\u001b[0m eta \u001b[36m-:--:--\u001b[0m\r\u001b[2K     \u001b[91m━━━━━━━━━━━━━━━\u001b[0m\u001b[91m╸\u001b[0m\u001b[90m━━━━━━━━━━━━━━━━━━━━━━━━\u001b[0m \u001b[32m92.2/232.6 kB\u001b[0m \u001b[31m2.7 MB/s\u001b[0m eta \u001b[36m0:00:01\u001b[0m\r\u001b[2K     \u001b[90m━━━━━━━━━━━━━━━━━━━━━━━━━━━━━━━━━━━━━━━━\u001b[0m \u001b[32m232.6/232.6 kB\u001b[0m \u001b[31m4.4 MB/s\u001b[0m eta \u001b[36m0:00:00\u001b[0m\n",
            "\u001b[?25hInstalling collected packages: PyPDF2\n",
            "Successfully installed PyPDF2-3.0.1\n"
          ]
        }
      ],
      "source": [
        "!pip install PyPDF2"
      ]
    },
    {
      "cell_type": "code",
      "source": [
        "from google.colab import drive\n",
        "drive.mount('/content/drive', force_remount = True)"
      ],
      "metadata": {
        "colab": {
          "base_uri": "https://localhost:8080/"
        },
        "id": "QF2FnkIX8CUP",
        "outputId": "db24b15e-6d7a-4b72-c60f-a404b5170e8d"
      },
      "execution_count": 1,
      "outputs": [
        {
          "output_type": "stream",
          "name": "stdout",
          "text": [
            "Mounted at /content/drive\n"
          ]
        }
      ]
    },
    {
      "cell_type": "code",
      "source": [
        "%cd /content/drive/MyDrive/CSE8803_DLT_Project/FinQA/"
      ],
      "metadata": {
        "colab": {
          "base_uri": "https://localhost:8080/"
        },
        "id": "cdADXCWX8J6W",
        "outputId": "790c1606-061d-4fd8-be20-3e07c61e676f"
      },
      "execution_count": 2,
      "outputs": [
        {
          "output_type": "stream",
          "name": "stdout",
          "text": [
            "/content/drive/MyDrive/CSE8803_DLT_Project/FinQA\n"
          ]
        }
      ]
    },
    {
      "cell_type": "code",
      "source": [
        "from PyPDF2 import PdfReader\n",
        "import pandas as pd\n",
        "import io\n",
        "\n",
        "def extract_text_and_table(pdf_path):\n",
        "    # Initialize a PDF reader\n",
        "    reader = PdfReader(pdf_path)\n",
        "\n",
        "    # Variables to store text before and after table\n",
        "    pre_text, post_text = \"\", \"\"\n",
        "    table_started = False\n",
        "    table_ended = False\n",
        "    table_lines = []\n",
        "\n",
        "    # Iterate through each page\n",
        "    for page in reader.pages:\n",
        "        # Extract text from the page\n",
        "        text = page.extract_text()\n",
        "\n",
        "        if text:\n",
        "            lines = text.split('\\n')\n",
        "            for line in lines:\n",
        "                # Identify the start and end of the table\n",
        "                if 'Table' in line:\n",
        "                    table_started = True\n",
        "                    continue\n",
        "                if table_started and line.strip() == '':\n",
        "                    table_ended = True\n",
        "\n",
        "                # Collecting text before, inside, and after the table\n",
        "                if not table_started:\n",
        "                    pre_text += line + '\\n'\n",
        "                elif table_started and not table_ended:\n",
        "                    table_lines.append(line)\n",
        "                elif table_ended:\n",
        "                    post_text += line + '\\n'\n",
        "\n",
        "    # Converting table lines to DataFrame for better visualization\n",
        "    table_data = io.StringIO('\\n'.join(table_lines))\n",
        "    df = pd.read_fwf(table_data)\n",
        "\n",
        "    return pre_text, post_text"
      ],
      "metadata": {
        "id": "iSKuUfOW70w7"
      },
      "execution_count": 3,
      "outputs": []
    },
    {
      "cell_type": "code",
      "source": [
        "%ls"
      ],
      "metadata": {
        "colab": {
          "base_uri": "https://localhost:8080/"
        },
        "id": "mQ1pMnv99OVd",
        "outputId": "2c5aa067-3763-4542-cc61-1d5fc20628ef"
      },
      "execution_count": 4,
      "outputs": [
        {
          "output_type": "stream",
          "name": "stdout",
          "text": [
            "\u001b[0m\u001b[01;34mcode\u001b[0m/  \u001b[01;34mdataset\u001b[0m/  eg-intro.png  LICENSE  README.md  test_finQA.ipynb  test_image.pdf  test_qa.pdf\n"
          ]
        }
      ]
    },
    {
      "cell_type": "code",
      "source": [
        "!pip install tabula-py"
      ],
      "metadata": {
        "colab": {
          "base_uri": "https://localhost:8080/",
          "height": 374
        },
        "id": "DhdND7M6-xnr",
        "outputId": "27266c7b-4a2d-4463-9d1e-ad0f54899375"
      },
      "execution_count": 25,
      "outputs": [
        {
          "output_type": "stream",
          "name": "stdout",
          "text": [
            "Collecting tabula-py\n",
            "  Downloading tabula_py-2.8.2-py3-none-any.whl (12.0 MB)\n",
            "\u001b[2K     \u001b[90m━━━━━━━━━━━━━━━━━━━━━━━━━━━━━━━━━━━━━━━━\u001b[0m \u001b[32m12.0/12.0 MB\u001b[0m \u001b[31m22.3 MB/s\u001b[0m eta \u001b[36m0:00:00\u001b[0m\n",
            "\u001b[?25hRequirement already satisfied: pandas>=0.25.3 in /usr/local/lib/python3.10/dist-packages (from tabula-py) (1.5.3)\n",
            "Requirement already satisfied: numpy in /usr/local/lib/python3.10/dist-packages (from tabula-py) (1.23.5)\n",
            "Requirement already satisfied: distro in /usr/lib/python3/dist-packages (from tabula-py) (1.7.0)\n",
            "Collecting jpype1 (from tabula-py)\n",
            "  Downloading JPype1-1.4.1-cp310-cp310-manylinux_2_12_x86_64.manylinux2010_x86_64.whl (465 kB)\n",
            "\u001b[2K     \u001b[90m━━━━━━━━━━━━━━━━━━━━━━━━━━━━━━━━━━━━━━━━\u001b[0m \u001b[32m465.3/465.3 kB\u001b[0m \u001b[31m32.9 MB/s\u001b[0m eta \u001b[36m0:00:00\u001b[0m\n",
            "\u001b[?25hRequirement already satisfied: python-dateutil>=2.8.1 in /usr/local/lib/python3.10/dist-packages (from pandas>=0.25.3->tabula-py) (2.8.2)\n",
            "Requirement already satisfied: pytz>=2020.1 in /usr/local/lib/python3.10/dist-packages (from pandas>=0.25.3->tabula-py) (2023.3.post1)\n",
            "Requirement already satisfied: packaging in /usr/local/lib/python3.10/dist-packages (from jpype1->tabula-py) (23.2)\n",
            "Requirement already satisfied: six>=1.5 in /usr/local/lib/python3.10/dist-packages (from python-dateutil>=2.8.1->pandas>=0.25.3->tabula-py) (1.16.0)\n",
            "Installing collected packages: jpype1, tabula-py\n",
            "Successfully installed jpype1-1.4.1 tabula-py-2.8.2\n"
          ]
        },
        {
          "output_type": "display_data",
          "data": {
            "application/vnd.colab-display-data+json": {
              "pip_warning": {
                "packages": [
                  "tabula"
                ]
              }
            }
          },
          "metadata": {}
        }
      ]
    },
    {
      "cell_type": "code",
      "source": [
        "from tabula import read_pdf\n",
        "import pandas as pd\n",
        "\n",
        "def extract_tables_from_pdf_tabula(pdf_path):\n",
        "    # Using tabula to read tables from the PDF\n",
        "    tables = read_pdf(pdf_path, pages='all', multiple_tables=True, lattice=True, stream=True)\n",
        "\n",
        "    # Convert tables to a readable text format\n",
        "    table_texts = []\n",
        "    for table in tables:\n",
        "        if isinstance(table, pd.DataFrame):\n",
        "            table_texts.append(table.to_string(index=False))\n",
        "\n",
        "    return '\\n\\n'.join(table_texts)\n",
        "\n",
        "# # Path to the PDF file\n",
        "# pdf_path = '/mnt/data/test_image.pdf'\n",
        "\n",
        "# # Extract table text using tabula\n",
        "# extracted_table_text = extract_tables_from_pdf_tabula(pdf_path)\n",
        "# extracted_table_text\n"
      ],
      "metadata": {
        "id": "nzfCOMLR75lr"
      },
      "execution_count": 5,
      "outputs": []
    },
    {
      "cell_type": "code",
      "source": [
        "print(extract_tables_from_pdf_tabula('./test_qa_2.pdf'))"
      ],
      "metadata": {
        "id": "DXdtfLQH77V3",
        "colab": {
          "base_uri": "https://localhost:8080/"
        },
        "outputId": "ccbae3df-5453-44e9-ba40-a3999dbd7da2"
      },
      "execution_count": 26,
      "outputs": [
        {
          "output_type": "stream",
          "name": "stdout",
          "text": [
            "                   ( dollars in millions )              2006                      2005              2004\n",
            "net cash provided by operating\\ractivities          $ 1410.5                  $ 1143.3          $ 1229.0\n",
            "                   additions to properties -453.1 ( 453.1\\r)          -374.2 ( 374.2 ) -278.6 (\\r278.6 )\n",
            "                                 cash flow           $ 957.4                   $ 769.1           $ 950.4\n",
            "                      year-over-yearchange 24.5% ( 24.5\\r% ) 221219.1% ( 221219.1\\r% )               NaN\n",
            "\n",
            "Empty DataFrame\n",
            "Columns: [Prev]\n",
            "Index: []\n"
          ]
        }
      ]
    },
    {
      "cell_type": "code",
      "source": [
        "!pip install PyMuPDF"
      ],
      "metadata": {
        "colab": {
          "base_uri": "https://localhost:8080/"
        },
        "id": "UM5ir2jTA3Bw",
        "outputId": "18b4c7a7-bc36-4ac9-d2ca-eda494eb6a5e"
      },
      "execution_count": 10,
      "outputs": [
        {
          "output_type": "stream",
          "name": "stdout",
          "text": [
            "Collecting PyMuPDF\n",
            "  Downloading PyMuPDF-1.23.6-cp310-none-manylinux2014_x86_64.whl (4.3 MB)\n",
            "\u001b[2K     \u001b[90m━━━━━━━━━━━━━━━━━━━━━━━━━━━━━━━━━━━━━━━━\u001b[0m \u001b[32m4.3/4.3 MB\u001b[0m \u001b[31m14.0 MB/s\u001b[0m eta \u001b[36m0:00:00\u001b[0m\n",
            "\u001b[?25hCollecting PyMuPDFb==1.23.6 (from PyMuPDF)\n",
            "  Downloading PyMuPDFb-1.23.6-py3-none-manylinux2014_x86_64.manylinux_2_17_x86_64.whl (30.6 MB)\n",
            "\u001b[2K     \u001b[90m━━━━━━━━━━━━━━━━━━━━━━━━━━━━━━━━━━━━━━━━\u001b[0m \u001b[32m30.6/30.6 MB\u001b[0m \u001b[31m36.1 MB/s\u001b[0m eta \u001b[36m0:00:00\u001b[0m\n",
            "\u001b[?25hInstalling collected packages: PyMuPDFb, PyMuPDF\n",
            "Successfully installed PyMuPDF-1.23.6 PyMuPDFb-1.23.6\n"
          ]
        }
      ]
    },
    {
      "cell_type": "code",
      "source": [
        "!pip install fitz\n",
        "!pip install frontend"
      ],
      "metadata": {
        "colab": {
          "base_uri": "https://localhost:8080/"
        },
        "id": "-j4FzxvEAVZj",
        "outputId": "633603a7-a377-4885-f4e6-ff480805eac5"
      },
      "execution_count": 9,
      "outputs": [
        {
          "output_type": "stream",
          "name": "stdout",
          "text": [
            "Requirement already satisfied: fitz in /usr/local/lib/python3.10/dist-packages (0.0.1.dev2)\n",
            "Requirement already satisfied: configobj in /usr/local/lib/python3.10/dist-packages (from fitz) (5.0.8)\n",
            "Requirement already satisfied: configparser in /usr/local/lib/python3.10/dist-packages (from fitz) (6.0.0)\n",
            "Requirement already satisfied: httplib2 in /usr/local/lib/python3.10/dist-packages (from fitz) (0.22.0)\n",
            "Requirement already satisfied: nibabel in /usr/local/lib/python3.10/dist-packages (from fitz) (4.0.2)\n",
            "Requirement already satisfied: nipype in /usr/local/lib/python3.10/dist-packages (from fitz) (1.8.6)\n",
            "Requirement already satisfied: numpy in /usr/local/lib/python3.10/dist-packages (from fitz) (1.23.5)\n",
            "Requirement already satisfied: pandas in /usr/local/lib/python3.10/dist-packages (from fitz) (1.5.3)\n",
            "Requirement already satisfied: pyxnat in /usr/local/lib/python3.10/dist-packages (from fitz) (1.6)\n",
            "Requirement already satisfied: scipy in /usr/local/lib/python3.10/dist-packages (from fitz) (1.11.3)\n",
            "Requirement already satisfied: six in /usr/local/lib/python3.10/dist-packages (from configobj->fitz) (1.16.0)\n",
            "Requirement already satisfied: pyparsing!=3.0.0,!=3.0.1,!=3.0.2,!=3.0.3,<4,>=2.4.2 in /usr/local/lib/python3.10/dist-packages (from httplib2->fitz) (3.1.1)\n",
            "Requirement already satisfied: packaging>=17.0 in /usr/local/lib/python3.10/dist-packages (from nibabel->fitz) (23.2)\n",
            "Requirement already satisfied: setuptools in /usr/local/lib/python3.10/dist-packages (from nibabel->fitz) (67.7.2)\n",
            "Requirement already satisfied: click>=6.6.0 in /usr/local/lib/python3.10/dist-packages (from nipype->fitz) (8.1.7)\n",
            "Requirement already satisfied: networkx>=2.0 in /usr/local/lib/python3.10/dist-packages (from nipype->fitz) (3.2.1)\n",
            "Requirement already satisfied: prov>=1.5.2 in /usr/local/lib/python3.10/dist-packages (from nipype->fitz) (2.0.0)\n",
            "Requirement already satisfied: pydot>=1.2.3 in /usr/local/lib/python3.10/dist-packages (from nipype->fitz) (1.4.2)\n",
            "Requirement already satisfied: python-dateutil>=2.2 in /usr/local/lib/python3.10/dist-packages (from nipype->fitz) (2.8.2)\n",
            "Requirement already satisfied: rdflib>=5.0.0 in /usr/local/lib/python3.10/dist-packages (from nipype->fitz) (7.0.0)\n",
            "Requirement already satisfied: simplejson>=3.8.0 in /usr/local/lib/python3.10/dist-packages (from nipype->fitz) (3.19.2)\n",
            "Requirement already satisfied: traits!=5.0,<6.4,>=4.6 in /usr/local/lib/python3.10/dist-packages (from nipype->fitz) (6.3.2)\n",
            "Requirement already satisfied: filelock>=3.0.0 in /usr/local/lib/python3.10/dist-packages (from nipype->fitz) (3.13.1)\n",
            "Requirement already satisfied: etelemetry>=0.2.0 in /usr/local/lib/python3.10/dist-packages (from nipype->fitz) (0.3.1)\n",
            "Requirement already satisfied: looseversion in /usr/local/lib/python3.10/dist-packages (from nipype->fitz) (1.3.0)\n",
            "Requirement already satisfied: pytz>=2020.1 in /usr/local/lib/python3.10/dist-packages (from pandas->fitz) (2023.3.post1)\n",
            "Requirement already satisfied: future>=0.16 in /usr/local/lib/python3.10/dist-packages (from pyxnat->fitz) (0.18.3)\n",
            "Requirement already satisfied: lxml>=4.3 in /usr/local/lib/python3.10/dist-packages (from pyxnat->fitz) (4.9.3)\n",
            "Requirement already satisfied: pathlib>=1.0 in /usr/local/lib/python3.10/dist-packages (from pyxnat->fitz) (1.0.1)\n",
            "Requirement already satisfied: requests>=2.20 in /usr/local/lib/python3.10/dist-packages (from pyxnat->fitz) (2.31.0)\n",
            "Requirement already satisfied: ci-info>=0.2 in /usr/local/lib/python3.10/dist-packages (from etelemetry>=0.2.0->nipype->fitz) (0.3.0)\n",
            "Requirement already satisfied: isodate<0.7.0,>=0.6.0 in /usr/local/lib/python3.10/dist-packages (from rdflib>=5.0.0->nipype->fitz) (0.6.1)\n",
            "Requirement already satisfied: charset-normalizer<4,>=2 in /usr/local/lib/python3.10/dist-packages (from requests>=2.20->pyxnat->fitz) (3.3.2)\n",
            "Requirement already satisfied: idna<4,>=2.5 in /usr/local/lib/python3.10/dist-packages (from requests>=2.20->pyxnat->fitz) (3.4)\n",
            "Requirement already satisfied: urllib3<3,>=1.21.1 in /usr/local/lib/python3.10/dist-packages (from requests>=2.20->pyxnat->fitz) (2.0.7)\n",
            "Requirement already satisfied: certifi>=2017.4.17 in /usr/local/lib/python3.10/dist-packages (from requests>=2.20->pyxnat->fitz) (2023.7.22)\n",
            "Collecting frontend\n",
            "  Downloading frontend-0.0.3-py3-none-any.whl (32 kB)\n",
            "Collecting starlette>=0.12.0 (from frontend)\n",
            "  Downloading starlette-0.32.0.post1-py3-none-any.whl (70 kB)\n",
            "\u001b[2K     \u001b[90m━━━━━━━━━━━━━━━━━━━━━━━━━━━━━━━━━━━━━━━━\u001b[0m \u001b[32m70.0/70.0 kB\u001b[0m \u001b[31m4.1 MB/s\u001b[0m eta \u001b[36m0:00:00\u001b[0m\n",
            "\u001b[?25hCollecting uvicorn>=0.7.1 (from frontend)\n",
            "  Downloading uvicorn-0.24.0.post1-py3-none-any.whl (59 kB)\n",
            "\u001b[2K     \u001b[90m━━━━━━━━━━━━━━━━━━━━━━━━━━━━━━━━━━━━━━━━\u001b[0m \u001b[32m59.7/59.7 kB\u001b[0m \u001b[31m7.6 MB/s\u001b[0m eta \u001b[36m0:00:00\u001b[0m\n",
            "\u001b[?25hRequirement already satisfied: itsdangerous>=1.1.0 in /usr/local/lib/python3.10/dist-packages (from frontend) (2.1.2)\n",
            "Collecting aiofiles (from frontend)\n",
            "  Downloading aiofiles-23.2.1-py3-none-any.whl (15 kB)\n",
            "Requirement already satisfied: anyio<5,>=3.4.0 in /usr/local/lib/python3.10/dist-packages (from starlette>=0.12.0->frontend) (3.7.1)\n",
            "Requirement already satisfied: click>=7.0 in /usr/local/lib/python3.10/dist-packages (from uvicorn>=0.7.1->frontend) (8.1.7)\n",
            "Collecting h11>=0.8 (from uvicorn>=0.7.1->frontend)\n",
            "  Downloading h11-0.14.0-py3-none-any.whl (58 kB)\n",
            "\u001b[2K     \u001b[90m━━━━━━━━━━━━━━━━━━━━━━━━━━━━━━━━━━━━━━━━\u001b[0m \u001b[32m58.3/58.3 kB\u001b[0m \u001b[31m7.0 MB/s\u001b[0m eta \u001b[36m0:00:00\u001b[0m\n",
            "\u001b[?25hRequirement already satisfied: typing-extensions>=4.0 in /usr/local/lib/python3.10/dist-packages (from uvicorn>=0.7.1->frontend) (4.5.0)\n",
            "Requirement already satisfied: idna>=2.8 in /usr/local/lib/python3.10/dist-packages (from anyio<5,>=3.4.0->starlette>=0.12.0->frontend) (3.4)\n",
            "Requirement already satisfied: sniffio>=1.1 in /usr/local/lib/python3.10/dist-packages (from anyio<5,>=3.4.0->starlette>=0.12.0->frontend) (1.3.0)\n",
            "Requirement already satisfied: exceptiongroup in /usr/local/lib/python3.10/dist-packages (from anyio<5,>=3.4.0->starlette>=0.12.0->frontend) (1.1.3)\n",
            "Installing collected packages: h11, aiofiles, uvicorn, starlette, frontend\n",
            "\u001b[31mERROR: pip's dependency resolver does not currently take into account all the packages that are installed. This behaviour is the source of the following dependency conflicts.\n",
            "lida 0.0.10 requires fastapi, which is not installed.\n",
            "lida 0.0.10 requires kaleido, which is not installed.\n",
            "lida 0.0.10 requires python-multipart, which is not installed.\u001b[0m\u001b[31m\n",
            "\u001b[0mSuccessfully installed aiofiles-23.2.1 frontend-0.0.3 h11-0.14.0 starlette-0.32.0.post1 uvicorn-0.24.0.post1\n"
          ]
        }
      ]
    },
    {
      "cell_type": "code",
      "source": [
        "import fitz  # PyMuPDF\n",
        "from tabula import read_pdf\n",
        "import pandas as pd\n",
        "\n",
        "def extract_contents_from_pdf(pdf_path):\n",
        "    # Open the PDF\n",
        "    doc = fitz.open(pdf_path)\n",
        "\n",
        "    pre_text, post_text = \"\", \"\"\n",
        "    table_started = False\n",
        "\n",
        "    # Use tabula to read tables from the PDF\n",
        "    tables = read_pdf(pdf_path, pages='all', multiple_tables=True, lattice=True, stream=True, silent=True)\n",
        "    table_texts = [table.to_string(index=False) for table in tables if isinstance(table, pd.DataFrame)]\n",
        "\n",
        "    for page_num in range(len(doc)):\n",
        "        page = doc.load_page(page_num)\n",
        "        text = page.get_text().split('\\n')\n",
        "\n",
        "        for line in text:\n",
        "            if any(table_text in line for table_text in table_texts):\n",
        "                table_started = True\n",
        "                continue\n",
        "\n",
        "            if not table_started:\n",
        "                pre_text += line + '\\n'\n",
        "            else:\n",
        "                post_text += line + '\\n'\n",
        "\n",
        "    return pre_text, '\\n\\n'.join(table_texts), post_text\n"
      ],
      "metadata": {
        "id": "U0UXSFOp_3uu"
      },
      "execution_count": 11,
      "outputs": []
    },
    {
      "cell_type": "code",
      "source": [
        "pre_text, table_texts, post_text = extract_contents_from_pdf('./test_qa_2.pdf')"
      ],
      "metadata": {
        "id": "aTIX3wSAAUC0"
      },
      "execution_count": 20,
      "outputs": []
    },
    {
      "cell_type": "code",
      "source": [
        "print(f'''Pre Text''')\n",
        "print(f'{pre_text}')\n",
        "print('-'.join('' for i in range(100)))\n",
        "print(f'''Post Text''')\n",
        "print(f'{post_text}')\n",
        "print('-'.join('' for i in range(100)))\n",
        "print(f'''Table Text''')\n",
        "print(f'{table_texts}')\n",
        "print('-'.join('' for i in range(100)))"
      ],
      "metadata": {
        "colab": {
          "base_uri": "https://localhost:8080/"
        },
        "id": "QkAO1m_5BTiy",
        "outputId": "55ff8ac7-fcaa-4b79-e677-abb244fa2807"
      },
      "execution_count": 23,
      "outputs": [
        {
          "output_type": "stream",
          "name": "stdout",
          "text": [
            "Pre Text\n",
            "11/16/23, 4:05 PM\n",
            "Explore FinQA\n",
            "https://ﬁnqasite.github.io/explore.html\n",
            "1/2\n",
            "Explore FinQA\n",
            "abiomed , inc . and subsidiaries notes to consolidated ﬁnancial statements\n",
            "2014 ( continued ) note 14 . income taxes ( continued ) and transition and\n",
            "deﬁnes the criteria that must be met for the beneﬁts of a tax position to be\n",
            "recognized . as a result of its adoption of ﬁn no . 48 , the company has\n",
            "recorded the cumulative eﬀect of the change in accounting principle of $ 0.3\n",
            "million as a decrease to opening retained earnings and an increase to other\n",
            "long-term liabilities as of april 1 , 2007 . this adjustment relates to state nexus\n",
            "for failure to ﬁle tax returns in various states for the years ended march 31 ,\n",
            "2003 , 2004 , and 2005 . the company has initiated a voluntary disclosure\n",
            "plan . the company has elected to recognize interest and/or penalties related\n",
            "to income tax matters in income tax expense in its consolidated statements\n",
            "of operations . as of april 1 , 2007 , accrued interest was not signiﬁcant and\n",
            "was recorded as part of the $ 0.3 million adjustment to the opening balance\n",
            "of retained earnings . as of march 31 , 2008 , no penalties have been accrued\n",
            "which is consistent with the company 2019s discussions with states in\n",
            "connection with the company 2019s voluntary disclosure plan . on a\n",
            "quarterly basis , the company accrues for the eﬀects of uncertain tax\n",
            "positions and the related potential penalties and interest . the company has\n",
            "recorded a liability for unrecognized tax beneﬁts in other liabilities including\n",
            "accrued interest , of $ 0.2 million at march 31 , 2008 . it is reasonably\n",
            "possible that the amount of the unrecognized tax beneﬁt with respect to\n",
            "certain of the unrecognized tax positions will increase or decrease during the\n",
            "next 12 months ; however , it is not expected that the change will have a\n",
            "signiﬁcant eﬀect on the company 2019s results of operations or ﬁnancial\n",
            "position . a reconciliation of the beginning and ending balance of\n",
            "unrecognized tax beneﬁts , excluding accrued interest recorded at march 31\n",
            ", 2008 ( in thousands ) is as follows: .\n",
            "balance at april 1 2007\n",
            "$ 224\n",
            "reductions for tax positions for closing of the applicable statute of limitations\n",
            "-56 ( 56 )\n",
            "balance at march 31 2008\n",
            "$ 168\n",
            "the company and its subsidiaries are subject to u.s . federal income tax , as\n",
            "well as income tax of multiple state and foreign jurisdictions . the company\n",
            "has accumulated signiﬁcant losses since its inception in 1981 . all tax years\n",
            "remain subject to examination by major tax jurisdictions , including the\n",
            "Example id : ABMD/2008/page_86.pdf-1\n",
            "Question : assuming the same level of settlements as in ﬁscal 2007 ,\n",
            "what would be the ending balance at march 31 2008 in millions for\n",
            "unrecognized tax beneﬁts?\\\\n\n",
            "Program : subtract(168, 56)\n",
            "Answer : 112\n",
            "\n",
            "\n",
            "---------------------------------------------------------------------------------------------------\n",
            "Post Text\n",
            "\n",
            "---------------------------------------------------------------------------------------------------\n",
            "Table Text\n",
            "                                                          balance at april 1 2007      $ 224\n",
            "reductions for tax positions for closing of the applicable statute of limitations -56 ( 56 )\n",
            "                                                         balance at march 31 2008      $ 168\n",
            "---------------------------------------------------------------------------------------------------\n"
          ]
        }
      ]
    },
    {
      "cell_type": "code",
      "source": [
        "extract_tables_from_pdf_tabula('./test_qa.pdf')"
      ],
      "metadata": {
        "colab": {
          "base_uri": "https://localhost:8080/",
          "height": 52
        },
        "id": "bWKvkqAUCvJg",
        "outputId": "5f7355ea-7d46-4bb1-8dbe-0ea2d3c5cdee"
      },
      "execution_count": 19,
      "outputs": [
        {
          "output_type": "execute_result",
          "data": {
            "text/plain": [
              "'                                                          balance at april 1 2007      $ 224\\nreductions for tax positions for closing of the applicable statute of limitations -56 ( 56 )\\n                                                         balance at march 31 2008      $ 168'"
            ],
            "application/vnd.google.colaboratory.intrinsic+json": {
              "type": "string"
            }
          },
          "metadata": {},
          "execution_count": 19
        }
      ]
    },
    {
      "cell_type": "code",
      "source": [],
      "metadata": {
        "id": "eiO59bb0DApW"
      },
      "execution_count": null,
      "outputs": []
    }
  ]
}