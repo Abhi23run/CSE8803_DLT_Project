{
  "nbformat": 4,
  "nbformat_minor": 0,
  "metadata": {
    "colab": {
      "provenance": [],
      "gpuType": "T4",
      "authorship_tag": "ABX9TyMK0pu7uD3mfxDPthiiXL1v",
      "include_colab_link": true
    },
    "kernelspec": {
      "name": "python3",
      "display_name": "Python 3"
    },
    "language_info": {
      "name": "python"
    },
    "accelerator": "GPU",
    "widgets": {
      "application/vnd.jupyter.widget-state+json": {
        "903b2734e2ca4abfa9dae1edb8de12ae": {
          "model_module": "@jupyter-widgets/controls",
          "model_name": "HBoxModel",
          "model_module_version": "1.5.0",
          "state": {
            "_dom_classes": [],
            "_model_module": "@jupyter-widgets/controls",
            "_model_module_version": "1.5.0",
            "_model_name": "HBoxModel",
            "_view_count": null,
            "_view_module": "@jupyter-widgets/controls",
            "_view_module_version": "1.5.0",
            "_view_name": "HBoxView",
            "box_style": "",
            "children": [
              "IPY_MODEL_7b66cdf43fa741e9abb5f33d9bd7b307",
              "IPY_MODEL_52ff9f8385af4c4993d75bba20ae39ab",
              "IPY_MODEL_c0a978f30dc24cc5b00a6ab854a7b441"
            ],
            "layout": "IPY_MODEL_5dc69a53b6af4e67a007ad7a22722ea5"
          }
        },
        "7b66cdf43fa741e9abb5f33d9bd7b307": {
          "model_module": "@jupyter-widgets/controls",
          "model_name": "HTMLModel",
          "model_module_version": "1.5.0",
          "state": {
            "_dom_classes": [],
            "_model_module": "@jupyter-widgets/controls",
            "_model_module_version": "1.5.0",
            "_model_name": "HTMLModel",
            "_view_count": null,
            "_view_module": "@jupyter-widgets/controls",
            "_view_module_version": "1.5.0",
            "_view_name": "HTMLView",
            "description": "",
            "description_tooltip": null,
            "layout": "IPY_MODEL_43e928acad4f49958259e6700ae920d5",
            "placeholder": "​",
            "style": "IPY_MODEL_fd49c52debf0404e9ad4406091a56fa5",
            "value": "Map: 100%"
          }
        },
        "52ff9f8385af4c4993d75bba20ae39ab": {
          "model_module": "@jupyter-widgets/controls",
          "model_name": "FloatProgressModel",
          "model_module_version": "1.5.0",
          "state": {
            "_dom_classes": [],
            "_model_module": "@jupyter-widgets/controls",
            "_model_module_version": "1.5.0",
            "_model_name": "FloatProgressModel",
            "_view_count": null,
            "_view_module": "@jupyter-widgets/controls",
            "_view_module_version": "1.5.0",
            "_view_name": "ProgressView",
            "bar_style": "success",
            "description": "",
            "description_tooltip": null,
            "layout": "IPY_MODEL_0bb3d7ffa3c74ffa8522f74a5b4f2e05",
            "max": 2902,
            "min": 0,
            "orientation": "horizontal",
            "style": "IPY_MODEL_c12f43d12f1943f99ea52b876407045f",
            "value": 2902
          }
        },
        "c0a978f30dc24cc5b00a6ab854a7b441": {
          "model_module": "@jupyter-widgets/controls",
          "model_name": "HTMLModel",
          "model_module_version": "1.5.0",
          "state": {
            "_dom_classes": [],
            "_model_module": "@jupyter-widgets/controls",
            "_model_module_version": "1.5.0",
            "_model_name": "HTMLModel",
            "_view_count": null,
            "_view_module": "@jupyter-widgets/controls",
            "_view_module_version": "1.5.0",
            "_view_name": "HTMLView",
            "description": "",
            "description_tooltip": null,
            "layout": "IPY_MODEL_6ab80fd34c114c6a8622fc674b9463eb",
            "placeholder": "​",
            "style": "IPY_MODEL_0f39ba1a3f774cf98b71e82b680b31fb",
            "value": " 2902/2902 [00:00&lt;00:00, 4260.25 examples/s]"
          }
        },
        "5dc69a53b6af4e67a007ad7a22722ea5": {
          "model_module": "@jupyter-widgets/base",
          "model_name": "LayoutModel",
          "model_module_version": "1.2.0",
          "state": {
            "_model_module": "@jupyter-widgets/base",
            "_model_module_version": "1.2.0",
            "_model_name": "LayoutModel",
            "_view_count": null,
            "_view_module": "@jupyter-widgets/base",
            "_view_module_version": "1.2.0",
            "_view_name": "LayoutView",
            "align_content": null,
            "align_items": null,
            "align_self": null,
            "border": null,
            "bottom": null,
            "display": null,
            "flex": null,
            "flex_flow": null,
            "grid_area": null,
            "grid_auto_columns": null,
            "grid_auto_flow": null,
            "grid_auto_rows": null,
            "grid_column": null,
            "grid_gap": null,
            "grid_row": null,
            "grid_template_areas": null,
            "grid_template_columns": null,
            "grid_template_rows": null,
            "height": null,
            "justify_content": null,
            "justify_items": null,
            "left": null,
            "margin": null,
            "max_height": null,
            "max_width": null,
            "min_height": null,
            "min_width": null,
            "object_fit": null,
            "object_position": null,
            "order": null,
            "overflow": null,
            "overflow_x": null,
            "overflow_y": null,
            "padding": null,
            "right": null,
            "top": null,
            "visibility": null,
            "width": null
          }
        },
        "43e928acad4f49958259e6700ae920d5": {
          "model_module": "@jupyter-widgets/base",
          "model_name": "LayoutModel",
          "model_module_version": "1.2.0",
          "state": {
            "_model_module": "@jupyter-widgets/base",
            "_model_module_version": "1.2.0",
            "_model_name": "LayoutModel",
            "_view_count": null,
            "_view_module": "@jupyter-widgets/base",
            "_view_module_version": "1.2.0",
            "_view_name": "LayoutView",
            "align_content": null,
            "align_items": null,
            "align_self": null,
            "border": null,
            "bottom": null,
            "display": null,
            "flex": null,
            "flex_flow": null,
            "grid_area": null,
            "grid_auto_columns": null,
            "grid_auto_flow": null,
            "grid_auto_rows": null,
            "grid_column": null,
            "grid_gap": null,
            "grid_row": null,
            "grid_template_areas": null,
            "grid_template_columns": null,
            "grid_template_rows": null,
            "height": null,
            "justify_content": null,
            "justify_items": null,
            "left": null,
            "margin": null,
            "max_height": null,
            "max_width": null,
            "min_height": null,
            "min_width": null,
            "object_fit": null,
            "object_position": null,
            "order": null,
            "overflow": null,
            "overflow_x": null,
            "overflow_y": null,
            "padding": null,
            "right": null,
            "top": null,
            "visibility": null,
            "width": null
          }
        },
        "fd49c52debf0404e9ad4406091a56fa5": {
          "model_module": "@jupyter-widgets/controls",
          "model_name": "DescriptionStyleModel",
          "model_module_version": "1.5.0",
          "state": {
            "_model_module": "@jupyter-widgets/controls",
            "_model_module_version": "1.5.0",
            "_model_name": "DescriptionStyleModel",
            "_view_count": null,
            "_view_module": "@jupyter-widgets/base",
            "_view_module_version": "1.2.0",
            "_view_name": "StyleView",
            "description_width": ""
          }
        },
        "0bb3d7ffa3c74ffa8522f74a5b4f2e05": {
          "model_module": "@jupyter-widgets/base",
          "model_name": "LayoutModel",
          "model_module_version": "1.2.0",
          "state": {
            "_model_module": "@jupyter-widgets/base",
            "_model_module_version": "1.2.0",
            "_model_name": "LayoutModel",
            "_view_count": null,
            "_view_module": "@jupyter-widgets/base",
            "_view_module_version": "1.2.0",
            "_view_name": "LayoutView",
            "align_content": null,
            "align_items": null,
            "align_self": null,
            "border": null,
            "bottom": null,
            "display": null,
            "flex": null,
            "flex_flow": null,
            "grid_area": null,
            "grid_auto_columns": null,
            "grid_auto_flow": null,
            "grid_auto_rows": null,
            "grid_column": null,
            "grid_gap": null,
            "grid_row": null,
            "grid_template_areas": null,
            "grid_template_columns": null,
            "grid_template_rows": null,
            "height": null,
            "justify_content": null,
            "justify_items": null,
            "left": null,
            "margin": null,
            "max_height": null,
            "max_width": null,
            "min_height": null,
            "min_width": null,
            "object_fit": null,
            "object_position": null,
            "order": null,
            "overflow": null,
            "overflow_x": null,
            "overflow_y": null,
            "padding": null,
            "right": null,
            "top": null,
            "visibility": null,
            "width": null
          }
        },
        "c12f43d12f1943f99ea52b876407045f": {
          "model_module": "@jupyter-widgets/controls",
          "model_name": "ProgressStyleModel",
          "model_module_version": "1.5.0",
          "state": {
            "_model_module": "@jupyter-widgets/controls",
            "_model_module_version": "1.5.0",
            "_model_name": "ProgressStyleModel",
            "_view_count": null,
            "_view_module": "@jupyter-widgets/base",
            "_view_module_version": "1.2.0",
            "_view_name": "StyleView",
            "bar_color": null,
            "description_width": ""
          }
        },
        "6ab80fd34c114c6a8622fc674b9463eb": {
          "model_module": "@jupyter-widgets/base",
          "model_name": "LayoutModel",
          "model_module_version": "1.2.0",
          "state": {
            "_model_module": "@jupyter-widgets/base",
            "_model_module_version": "1.2.0",
            "_model_name": "LayoutModel",
            "_view_count": null,
            "_view_module": "@jupyter-widgets/base",
            "_view_module_version": "1.2.0",
            "_view_name": "LayoutView",
            "align_content": null,
            "align_items": null,
            "align_self": null,
            "border": null,
            "bottom": null,
            "display": null,
            "flex": null,
            "flex_flow": null,
            "grid_area": null,
            "grid_auto_columns": null,
            "grid_auto_flow": null,
            "grid_auto_rows": null,
            "grid_column": null,
            "grid_gap": null,
            "grid_row": null,
            "grid_template_areas": null,
            "grid_template_columns": null,
            "grid_template_rows": null,
            "height": null,
            "justify_content": null,
            "justify_items": null,
            "left": null,
            "margin": null,
            "max_height": null,
            "max_width": null,
            "min_height": null,
            "min_width": null,
            "object_fit": null,
            "object_position": null,
            "order": null,
            "overflow": null,
            "overflow_x": null,
            "overflow_y": null,
            "padding": null,
            "right": null,
            "top": null,
            "visibility": null,
            "width": null
          }
        },
        "0f39ba1a3f774cf98b71e82b680b31fb": {
          "model_module": "@jupyter-widgets/controls",
          "model_name": "DescriptionStyleModel",
          "model_module_version": "1.5.0",
          "state": {
            "_model_module": "@jupyter-widgets/controls",
            "_model_module_version": "1.5.0",
            "_model_name": "DescriptionStyleModel",
            "_view_count": null,
            "_view_module": "@jupyter-widgets/base",
            "_view_module_version": "1.2.0",
            "_view_name": "StyleView",
            "description_width": ""
          }
        },
        "3c4f2ca8ebda41f784df77e99fa2cf4d": {
          "model_module": "@jupyter-widgets/controls",
          "model_name": "HBoxModel",
          "model_module_version": "1.5.0",
          "state": {
            "_dom_classes": [],
            "_model_module": "@jupyter-widgets/controls",
            "_model_module_version": "1.5.0",
            "_model_name": "HBoxModel",
            "_view_count": null,
            "_view_module": "@jupyter-widgets/controls",
            "_view_module_version": "1.5.0",
            "_view_name": "HBoxView",
            "box_style": "",
            "children": [
              "IPY_MODEL_be96a28a4b16478d9d88e2486e06c4e3",
              "IPY_MODEL_b2e581aab8134d84bba0ffb33ed95d17",
              "IPY_MODEL_517553c4b8b64bf7b64ce7e8cf87fe20"
            ],
            "layout": "IPY_MODEL_9412332aadbb4f25989563c2dc6eb2fb"
          }
        },
        "be96a28a4b16478d9d88e2486e06c4e3": {
          "model_module": "@jupyter-widgets/controls",
          "model_name": "HTMLModel",
          "model_module_version": "1.5.0",
          "state": {
            "_dom_classes": [],
            "_model_module": "@jupyter-widgets/controls",
            "_model_module_version": "1.5.0",
            "_model_name": "HTMLModel",
            "_view_count": null,
            "_view_module": "@jupyter-widgets/controls",
            "_view_module_version": "1.5.0",
            "_view_name": "HTMLView",
            "description": "",
            "description_tooltip": null,
            "layout": "IPY_MODEL_02ab6e56585d4fb7beabcf623470d1f7",
            "placeholder": "​",
            "style": "IPY_MODEL_38b9417f2c5b40cc963cb1638f94481d",
            "value": "Filter: 100%"
          }
        },
        "b2e581aab8134d84bba0ffb33ed95d17": {
          "model_module": "@jupyter-widgets/controls",
          "model_name": "FloatProgressModel",
          "model_module_version": "1.5.0",
          "state": {
            "_dom_classes": [],
            "_model_module": "@jupyter-widgets/controls",
            "_model_module_version": "1.5.0",
            "_model_name": "FloatProgressModel",
            "_view_count": null,
            "_view_module": "@jupyter-widgets/controls",
            "_view_module_version": "1.5.0",
            "_view_name": "ProgressView",
            "bar_style": "success",
            "description": "",
            "description_tooltip": null,
            "layout": "IPY_MODEL_9310a242073e4c1bbca17db33898a10f",
            "max": 2902,
            "min": 0,
            "orientation": "horizontal",
            "style": "IPY_MODEL_082aea8c467b49d78c5bc6bdd9de3f39",
            "value": 2902
          }
        },
        "517553c4b8b64bf7b64ce7e8cf87fe20": {
          "model_module": "@jupyter-widgets/controls",
          "model_name": "HTMLModel",
          "model_module_version": "1.5.0",
          "state": {
            "_dom_classes": [],
            "_model_module": "@jupyter-widgets/controls",
            "_model_module_version": "1.5.0",
            "_model_name": "HTMLModel",
            "_view_count": null,
            "_view_module": "@jupyter-widgets/controls",
            "_view_module_version": "1.5.0",
            "_view_name": "HTMLView",
            "description": "",
            "description_tooltip": null,
            "layout": "IPY_MODEL_92bcc944c65043b3a5473f6e465e2ba2",
            "placeholder": "​",
            "style": "IPY_MODEL_79ed562ee29249579e11c3f62e1df599",
            "value": " 2902/2902 [00:00&lt;00:00, 13672.14 examples/s]"
          }
        },
        "9412332aadbb4f25989563c2dc6eb2fb": {
          "model_module": "@jupyter-widgets/base",
          "model_name": "LayoutModel",
          "model_module_version": "1.2.0",
          "state": {
            "_model_module": "@jupyter-widgets/base",
            "_model_module_version": "1.2.0",
            "_model_name": "LayoutModel",
            "_view_count": null,
            "_view_module": "@jupyter-widgets/base",
            "_view_module_version": "1.2.0",
            "_view_name": "LayoutView",
            "align_content": null,
            "align_items": null,
            "align_self": null,
            "border": null,
            "bottom": null,
            "display": null,
            "flex": null,
            "flex_flow": null,
            "grid_area": null,
            "grid_auto_columns": null,
            "grid_auto_flow": null,
            "grid_auto_rows": null,
            "grid_column": null,
            "grid_gap": null,
            "grid_row": null,
            "grid_template_areas": null,
            "grid_template_columns": null,
            "grid_template_rows": null,
            "height": null,
            "justify_content": null,
            "justify_items": null,
            "left": null,
            "margin": null,
            "max_height": null,
            "max_width": null,
            "min_height": null,
            "min_width": null,
            "object_fit": null,
            "object_position": null,
            "order": null,
            "overflow": null,
            "overflow_x": null,
            "overflow_y": null,
            "padding": null,
            "right": null,
            "top": null,
            "visibility": null,
            "width": null
          }
        },
        "02ab6e56585d4fb7beabcf623470d1f7": {
          "model_module": "@jupyter-widgets/base",
          "model_name": "LayoutModel",
          "model_module_version": "1.2.0",
          "state": {
            "_model_module": "@jupyter-widgets/base",
            "_model_module_version": "1.2.0",
            "_model_name": "LayoutModel",
            "_view_count": null,
            "_view_module": "@jupyter-widgets/base",
            "_view_module_version": "1.2.0",
            "_view_name": "LayoutView",
            "align_content": null,
            "align_items": null,
            "align_self": null,
            "border": null,
            "bottom": null,
            "display": null,
            "flex": null,
            "flex_flow": null,
            "grid_area": null,
            "grid_auto_columns": null,
            "grid_auto_flow": null,
            "grid_auto_rows": null,
            "grid_column": null,
            "grid_gap": null,
            "grid_row": null,
            "grid_template_areas": null,
            "grid_template_columns": null,
            "grid_template_rows": null,
            "height": null,
            "justify_content": null,
            "justify_items": null,
            "left": null,
            "margin": null,
            "max_height": null,
            "max_width": null,
            "min_height": null,
            "min_width": null,
            "object_fit": null,
            "object_position": null,
            "order": null,
            "overflow": null,
            "overflow_x": null,
            "overflow_y": null,
            "padding": null,
            "right": null,
            "top": null,
            "visibility": null,
            "width": null
          }
        },
        "38b9417f2c5b40cc963cb1638f94481d": {
          "model_module": "@jupyter-widgets/controls",
          "model_name": "DescriptionStyleModel",
          "model_module_version": "1.5.0",
          "state": {
            "_model_module": "@jupyter-widgets/controls",
            "_model_module_version": "1.5.0",
            "_model_name": "DescriptionStyleModel",
            "_view_count": null,
            "_view_module": "@jupyter-widgets/base",
            "_view_module_version": "1.2.0",
            "_view_name": "StyleView",
            "description_width": ""
          }
        },
        "9310a242073e4c1bbca17db33898a10f": {
          "model_module": "@jupyter-widgets/base",
          "model_name": "LayoutModel",
          "model_module_version": "1.2.0",
          "state": {
            "_model_module": "@jupyter-widgets/base",
            "_model_module_version": "1.2.0",
            "_model_name": "LayoutModel",
            "_view_count": null,
            "_view_module": "@jupyter-widgets/base",
            "_view_module_version": "1.2.0",
            "_view_name": "LayoutView",
            "align_content": null,
            "align_items": null,
            "align_self": null,
            "border": null,
            "bottom": null,
            "display": null,
            "flex": null,
            "flex_flow": null,
            "grid_area": null,
            "grid_auto_columns": null,
            "grid_auto_flow": null,
            "grid_auto_rows": null,
            "grid_column": null,
            "grid_gap": null,
            "grid_row": null,
            "grid_template_areas": null,
            "grid_template_columns": null,
            "grid_template_rows": null,
            "height": null,
            "justify_content": null,
            "justify_items": null,
            "left": null,
            "margin": null,
            "max_height": null,
            "max_width": null,
            "min_height": null,
            "min_width": null,
            "object_fit": null,
            "object_position": null,
            "order": null,
            "overflow": null,
            "overflow_x": null,
            "overflow_y": null,
            "padding": null,
            "right": null,
            "top": null,
            "visibility": null,
            "width": null
          }
        },
        "082aea8c467b49d78c5bc6bdd9de3f39": {
          "model_module": "@jupyter-widgets/controls",
          "model_name": "ProgressStyleModel",
          "model_module_version": "1.5.0",
          "state": {
            "_model_module": "@jupyter-widgets/controls",
            "_model_module_version": "1.5.0",
            "_model_name": "ProgressStyleModel",
            "_view_count": null,
            "_view_module": "@jupyter-widgets/base",
            "_view_module_version": "1.2.0",
            "_view_name": "StyleView",
            "bar_color": null,
            "description_width": ""
          }
        },
        "92bcc944c65043b3a5473f6e465e2ba2": {
          "model_module": "@jupyter-widgets/base",
          "model_name": "LayoutModel",
          "model_module_version": "1.2.0",
          "state": {
            "_model_module": "@jupyter-widgets/base",
            "_model_module_version": "1.2.0",
            "_model_name": "LayoutModel",
            "_view_count": null,
            "_view_module": "@jupyter-widgets/base",
            "_view_module_version": "1.2.0",
            "_view_name": "LayoutView",
            "align_content": null,
            "align_items": null,
            "align_self": null,
            "border": null,
            "bottom": null,
            "display": null,
            "flex": null,
            "flex_flow": null,
            "grid_area": null,
            "grid_auto_columns": null,
            "grid_auto_flow": null,
            "grid_auto_rows": null,
            "grid_column": null,
            "grid_gap": null,
            "grid_row": null,
            "grid_template_areas": null,
            "grid_template_columns": null,
            "grid_template_rows": null,
            "height": null,
            "justify_content": null,
            "justify_items": null,
            "left": null,
            "margin": null,
            "max_height": null,
            "max_width": null,
            "min_height": null,
            "min_width": null,
            "object_fit": null,
            "object_position": null,
            "order": null,
            "overflow": null,
            "overflow_x": null,
            "overflow_y": null,
            "padding": null,
            "right": null,
            "top": null,
            "visibility": null,
            "width": null
          }
        },
        "79ed562ee29249579e11c3f62e1df599": {
          "model_module": "@jupyter-widgets/controls",
          "model_name": "DescriptionStyleModel",
          "model_module_version": "1.5.0",
          "state": {
            "_model_module": "@jupyter-widgets/controls",
            "_model_module_version": "1.5.0",
            "_model_name": "DescriptionStyleModel",
            "_view_count": null,
            "_view_module": "@jupyter-widgets/base",
            "_view_module_version": "1.2.0",
            "_view_name": "StyleView",
            "description_width": ""
          }
        },
        "92f4ae005db148e487801cdc06e5ca7d": {
          "model_module": "@jupyter-widgets/controls",
          "model_name": "HBoxModel",
          "model_module_version": "1.5.0",
          "state": {
            "_dom_classes": [],
            "_model_module": "@jupyter-widgets/controls",
            "_model_module_version": "1.5.0",
            "_model_name": "HBoxModel",
            "_view_count": null,
            "_view_module": "@jupyter-widgets/controls",
            "_view_module_version": "1.5.0",
            "_view_name": "HBoxView",
            "box_style": "",
            "children": [
              "IPY_MODEL_d0116e3a392b499a9ee7bd1d9114053e",
              "IPY_MODEL_bd4151a640e44ba89a83feb300c6b9db",
              "IPY_MODEL_1e9916d460ae48ac837590a09e8ca5c7"
            ],
            "layout": "IPY_MODEL_589bd3390855451781b1525b6b8ee92a"
          }
        },
        "d0116e3a392b499a9ee7bd1d9114053e": {
          "model_module": "@jupyter-widgets/controls",
          "model_name": "HTMLModel",
          "model_module_version": "1.5.0",
          "state": {
            "_dom_classes": [],
            "_model_module": "@jupyter-widgets/controls",
            "_model_module_version": "1.5.0",
            "_model_name": "HTMLModel",
            "_view_count": null,
            "_view_module": "@jupyter-widgets/controls",
            "_view_module_version": "1.5.0",
            "_view_name": "HTMLView",
            "description": "",
            "description_tooltip": null,
            "layout": "IPY_MODEL_ce94e5cd0bf0486cbb1afdc945772214",
            "placeholder": "​",
            "style": "IPY_MODEL_aa23dde5040c47f8afc6a12b6a8806fa",
            "value": "Loading checkpoint shards: 100%"
          }
        },
        "bd4151a640e44ba89a83feb300c6b9db": {
          "model_module": "@jupyter-widgets/controls",
          "model_name": "FloatProgressModel",
          "model_module_version": "1.5.0",
          "state": {
            "_dom_classes": [],
            "_model_module": "@jupyter-widgets/controls",
            "_model_module_version": "1.5.0",
            "_model_name": "FloatProgressModel",
            "_view_count": null,
            "_view_module": "@jupyter-widgets/controls",
            "_view_module_version": "1.5.0",
            "_view_name": "ProgressView",
            "bar_style": "success",
            "description": "",
            "description_tooltip": null,
            "layout": "IPY_MODEL_c7161ce490c74345a5f5743fa30c889c",
            "max": 2,
            "min": 0,
            "orientation": "horizontal",
            "style": "IPY_MODEL_c7ca31f563634349be98cd5a0ca7b7e6",
            "value": 2
          }
        },
        "1e9916d460ae48ac837590a09e8ca5c7": {
          "model_module": "@jupyter-widgets/controls",
          "model_name": "HTMLModel",
          "model_module_version": "1.5.0",
          "state": {
            "_dom_classes": [],
            "_model_module": "@jupyter-widgets/controls",
            "_model_module_version": "1.5.0",
            "_model_name": "HTMLModel",
            "_view_count": null,
            "_view_module": "@jupyter-widgets/controls",
            "_view_module_version": "1.5.0",
            "_view_name": "HTMLView",
            "description": "",
            "description_tooltip": null,
            "layout": "IPY_MODEL_da62c07f03f1490d93919ee8908ccd35",
            "placeholder": "​",
            "style": "IPY_MODEL_574a83771896407681258e1ca2fae295",
            "value": " 2/2 [01:05&lt;00:00, 29.96s/it]"
          }
        },
        "589bd3390855451781b1525b6b8ee92a": {
          "model_module": "@jupyter-widgets/base",
          "model_name": "LayoutModel",
          "model_module_version": "1.2.0",
          "state": {
            "_model_module": "@jupyter-widgets/base",
            "_model_module_version": "1.2.0",
            "_model_name": "LayoutModel",
            "_view_count": null,
            "_view_module": "@jupyter-widgets/base",
            "_view_module_version": "1.2.0",
            "_view_name": "LayoutView",
            "align_content": null,
            "align_items": null,
            "align_self": null,
            "border": null,
            "bottom": null,
            "display": null,
            "flex": null,
            "flex_flow": null,
            "grid_area": null,
            "grid_auto_columns": null,
            "grid_auto_flow": null,
            "grid_auto_rows": null,
            "grid_column": null,
            "grid_gap": null,
            "grid_row": null,
            "grid_template_areas": null,
            "grid_template_columns": null,
            "grid_template_rows": null,
            "height": null,
            "justify_content": null,
            "justify_items": null,
            "left": null,
            "margin": null,
            "max_height": null,
            "max_width": null,
            "min_height": null,
            "min_width": null,
            "object_fit": null,
            "object_position": null,
            "order": null,
            "overflow": null,
            "overflow_x": null,
            "overflow_y": null,
            "padding": null,
            "right": null,
            "top": null,
            "visibility": null,
            "width": null
          }
        },
        "ce94e5cd0bf0486cbb1afdc945772214": {
          "model_module": "@jupyter-widgets/base",
          "model_name": "LayoutModel",
          "model_module_version": "1.2.0",
          "state": {
            "_model_module": "@jupyter-widgets/base",
            "_model_module_version": "1.2.0",
            "_model_name": "LayoutModel",
            "_view_count": null,
            "_view_module": "@jupyter-widgets/base",
            "_view_module_version": "1.2.0",
            "_view_name": "LayoutView",
            "align_content": null,
            "align_items": null,
            "align_self": null,
            "border": null,
            "bottom": null,
            "display": null,
            "flex": null,
            "flex_flow": null,
            "grid_area": null,
            "grid_auto_columns": null,
            "grid_auto_flow": null,
            "grid_auto_rows": null,
            "grid_column": null,
            "grid_gap": null,
            "grid_row": null,
            "grid_template_areas": null,
            "grid_template_columns": null,
            "grid_template_rows": null,
            "height": null,
            "justify_content": null,
            "justify_items": null,
            "left": null,
            "margin": null,
            "max_height": null,
            "max_width": null,
            "min_height": null,
            "min_width": null,
            "object_fit": null,
            "object_position": null,
            "order": null,
            "overflow": null,
            "overflow_x": null,
            "overflow_y": null,
            "padding": null,
            "right": null,
            "top": null,
            "visibility": null,
            "width": null
          }
        },
        "aa23dde5040c47f8afc6a12b6a8806fa": {
          "model_module": "@jupyter-widgets/controls",
          "model_name": "DescriptionStyleModel",
          "model_module_version": "1.5.0",
          "state": {
            "_model_module": "@jupyter-widgets/controls",
            "_model_module_version": "1.5.0",
            "_model_name": "DescriptionStyleModel",
            "_view_count": null,
            "_view_module": "@jupyter-widgets/base",
            "_view_module_version": "1.2.0",
            "_view_name": "StyleView",
            "description_width": ""
          }
        },
        "c7161ce490c74345a5f5743fa30c889c": {
          "model_module": "@jupyter-widgets/base",
          "model_name": "LayoutModel",
          "model_module_version": "1.2.0",
          "state": {
            "_model_module": "@jupyter-widgets/base",
            "_model_module_version": "1.2.0",
            "_model_name": "LayoutModel",
            "_view_count": null,
            "_view_module": "@jupyter-widgets/base",
            "_view_module_version": "1.2.0",
            "_view_name": "LayoutView",
            "align_content": null,
            "align_items": null,
            "align_self": null,
            "border": null,
            "bottom": null,
            "display": null,
            "flex": null,
            "flex_flow": null,
            "grid_area": null,
            "grid_auto_columns": null,
            "grid_auto_flow": null,
            "grid_auto_rows": null,
            "grid_column": null,
            "grid_gap": null,
            "grid_row": null,
            "grid_template_areas": null,
            "grid_template_columns": null,
            "grid_template_rows": null,
            "height": null,
            "justify_content": null,
            "justify_items": null,
            "left": null,
            "margin": null,
            "max_height": null,
            "max_width": null,
            "min_height": null,
            "min_width": null,
            "object_fit": null,
            "object_position": null,
            "order": null,
            "overflow": null,
            "overflow_x": null,
            "overflow_y": null,
            "padding": null,
            "right": null,
            "top": null,
            "visibility": null,
            "width": null
          }
        },
        "c7ca31f563634349be98cd5a0ca7b7e6": {
          "model_module": "@jupyter-widgets/controls",
          "model_name": "ProgressStyleModel",
          "model_module_version": "1.5.0",
          "state": {
            "_model_module": "@jupyter-widgets/controls",
            "_model_module_version": "1.5.0",
            "_model_name": "ProgressStyleModel",
            "_view_count": null,
            "_view_module": "@jupyter-widgets/base",
            "_view_module_version": "1.2.0",
            "_view_name": "StyleView",
            "bar_color": null,
            "description_width": ""
          }
        },
        "da62c07f03f1490d93919ee8908ccd35": {
          "model_module": "@jupyter-widgets/base",
          "model_name": "LayoutModel",
          "model_module_version": "1.2.0",
          "state": {
            "_model_module": "@jupyter-widgets/base",
            "_model_module_version": "1.2.0",
            "_model_name": "LayoutModel",
            "_view_count": null,
            "_view_module": "@jupyter-widgets/base",
            "_view_module_version": "1.2.0",
            "_view_name": "LayoutView",
            "align_content": null,
            "align_items": null,
            "align_self": null,
            "border": null,
            "bottom": null,
            "display": null,
            "flex": null,
            "flex_flow": null,
            "grid_area": null,
            "grid_auto_columns": null,
            "grid_auto_flow": null,
            "grid_auto_rows": null,
            "grid_column": null,
            "grid_gap": null,
            "grid_row": null,
            "grid_template_areas": null,
            "grid_template_columns": null,
            "grid_template_rows": null,
            "height": null,
            "justify_content": null,
            "justify_items": null,
            "left": null,
            "margin": null,
            "max_height": null,
            "max_width": null,
            "min_height": null,
            "min_width": null,
            "object_fit": null,
            "object_position": null,
            "order": null,
            "overflow": null,
            "overflow_x": null,
            "overflow_y": null,
            "padding": null,
            "right": null,
            "top": null,
            "visibility": null,
            "width": null
          }
        },
        "574a83771896407681258e1ca2fae295": {
          "model_module": "@jupyter-widgets/controls",
          "model_name": "DescriptionStyleModel",
          "model_module_version": "1.5.0",
          "state": {
            "_model_module": "@jupyter-widgets/controls",
            "_model_module_version": "1.5.0",
            "_model_name": "DescriptionStyleModel",
            "_view_count": null,
            "_view_module": "@jupyter-widgets/base",
            "_view_module_version": "1.2.0",
            "_view_name": "StyleView",
            "description_width": ""
          }
        }
      }
    }
  },
  "cells": [
    {
      "cell_type": "markdown",
      "metadata": {
        "id": "view-in-github",
        "colab_type": "text"
      },
      "source": [
        "<a href=\"https://colab.research.google.com/github/Abhi23run/CSE8803_DLT_Project/blob/main/CodeBase/DLT_Project_Pipeline.ipynb\" target=\"_parent\"><img src=\"https://colab.research.google.com/assets/colab-badge.svg\" alt=\"Open In Colab\"/></a>"
      ]
    },
    {
      "cell_type": "code",
      "execution_count": 1,
      "metadata": {
        "id": "jIrXw4UTwhXW"
      },
      "outputs": [],
      "source": [
        "%%capture\n",
        "!pip install -q -U bitsandbytes\n",
        "# !pip install -q -U git+https://github.com/huggingface/transformers.git\n",
        "!pip install transformers==4.31\n",
        "!pip install -q -U git+https://github.com/huggingface/peft.git\n",
        "!pip install -q -U git+https://github.com/huggingface/accelerate.git\n",
        "!pip install -q datasets\n",
        "!pip install evaluate\n",
        "!pip install -qqq trl==0.7.1\n",
        "!pip install torch"
      ]
    },
    {
      "cell_type": "code",
      "source": [
        "from google.colab import drive\n",
        "drive.mount('/content/drive')"
      ],
      "metadata": {
        "colab": {
          "base_uri": "https://localhost:8080/"
        },
        "id": "aSPI6dmYwtPr",
        "outputId": "e4538b09-2289-454a-b78f-1aed41f29d19"
      },
      "execution_count": 2,
      "outputs": [
        {
          "output_type": "stream",
          "name": "stdout",
          "text": [
            "Drive already mounted at /content/drive; to attempt to forcibly remount, call drive.mount(\"/content/drive\", force_remount=True).\n"
          ]
        }
      ]
    },
    {
      "cell_type": "code",
      "source": [
        "%cd /content/drive/MyDrive/CSE8803_DLT_Project/"
      ],
      "metadata": {
        "colab": {
          "base_uri": "https://localhost:8080/"
        },
        "id": "zBTuMxzTUWsb",
        "outputId": "007d6b52-111c-420a-ba3b-6777bf3da47e"
      },
      "execution_count": 3,
      "outputs": [
        {
          "output_type": "stream",
          "name": "stdout",
          "text": [
            "/content/drive/MyDrive/CSE8803_DLT_Project\n"
          ]
        }
      ]
    },
    {
      "cell_type": "code",
      "source": [
        "import os\n",
        "dir_path = '/content/drive/MyDrive/finqa_dataset'\n",
        "os.chdir(dir_path)\n",
        "import matplotlib.pyplot as plt\n",
        "import pandas as pd\n",
        "import numpy as np\n",
        "import transformers\n",
        "from torch.optim import Adam\n",
        "from tqdm import tqdm\n",
        "from ashish_test import utils\n",
        "from utils import *\n",
        "import json\n",
        "import pandas as pd\n",
        "import torch\n",
        "# from torch.utils.data import Dataset, DataLoader\n",
        "import time\n",
        "import evaluate\n",
        "from datasets import Dataset, load_dataset\n",
        "import random"
      ],
      "metadata": {
        "id": "htfU8oAGoaTq"
      },
      "execution_count": 6,
      "outputs": []
    },
    {
      "cell_type": "code",
      "source": [],
      "metadata": {
        "id": "tjaX4dWOTMw-"
      },
      "execution_count": null,
      "outputs": []
    },
    {
      "cell_type": "code",
      "source": [
        "# dir_path = '/content/drive/MyDrive/finqa_dataset'\n",
        "# os.chdir(dir_path)"
      ],
      "metadata": {
        "id": "UkR7WpCEStJz"
      },
      "execution_count": 5,
      "outputs": []
    },
    {
      "cell_type": "code",
      "source": [
        "with open(f\"{dir_path}/train.json\") as input_file:\n",
        "        train_data = json.load(input_file)\n",
        "\n",
        "with open(f\"{dir_path}/dev.json\") as input_file:\n",
        "        valid_data = json.load(input_file)\n",
        "\n",
        "with open(f\"{dir_path}/test.json\") as input_file:\n",
        "        test_data = json.load(input_file)"
      ],
      "metadata": {
        "id": "nekssLkSVQ97"
      },
      "execution_count": 7,
      "outputs": []
    },
    {
      "cell_type": "code",
      "source": [
        "assert len(train_data) == 6251, \"The train data seems to be off, please check\"\n",
        "assert len(valid_data) == 883, \"The validation data seems to be off, please check\"\n",
        "assert len(test_data) == 1147, \"The test data seems to be off, please check\""
      ],
      "metadata": {
        "id": "Po-ZjfhbVUko"
      },
      "execution_count": 8,
      "outputs": []
    },
    {
      "cell_type": "markdown",
      "source": [
        "Loading Ground Truth Serialized Dataset"
      ],
      "metadata": {
        "id": "DXKYwFm4V-1q"
      }
    },
    {
      "cell_type": "code",
      "source": [
        "df_serialized=pd.read_csv(f\"{dir_path}/df_combined_table_ser_sample3000.csv\")"
      ],
      "metadata": {
        "id": "yDyjCrHGVWC5"
      },
      "execution_count": 9,
      "outputs": []
    },
    {
      "cell_type": "code",
      "source": [
        "df_serialized.columns"
      ],
      "metadata": {
        "colab": {
          "base_uri": "https://localhost:8080/"
        },
        "id": "kfcwF8VQWfzd",
        "outputId": "7aa0f437-926c-4b6f-bdcd-9be1276ef5b5"
      },
      "execution_count": 10,
      "outputs": [
        {
          "output_type": "execute_result",
          "data": {
            "text/plain": [
              "Index(['pre_text', 'post_text', 'filename', 'table_ori', 'table', 'id',\n",
              "       'dataset', 'prompt', 'serialized_text_gpt35'],\n",
              "      dtype='object')"
            ]
          },
          "metadata": {},
          "execution_count": 10
        }
      ]
    },
    {
      "cell_type": "code",
      "source": [
        "df_serialized.shape"
      ],
      "metadata": {
        "colab": {
          "base_uri": "https://localhost:8080/"
        },
        "id": "tnjIbIbIXPqz",
        "outputId": "fe13b5ac-ea98-4720-f25f-8bb76931df6f"
      },
      "execution_count": 11,
      "outputs": [
        {
          "output_type": "execute_result",
          "data": {
            "text/plain": [
              "(3000, 9)"
            ]
          },
          "metadata": {},
          "execution_count": 11
        }
      ]
    },
    {
      "cell_type": "code",
      "source": [
        "train_data=pd.DataFrame(train_data).merge(df_serialized[df_serialized['dataset']=='train'][['id','serialized_text_gpt35']],on='id',how='inner').to_dict(orient='records')"
      ],
      "metadata": {
        "id": "6pl2zcsGWHFB"
      },
      "execution_count": 12,
      "outputs": []
    },
    {
      "cell_type": "code",
      "source": [
        "train_data[0].keys()"
      ],
      "metadata": {
        "colab": {
          "base_uri": "https://localhost:8080/"
        },
        "id": "LnZ1VPDAXF_A",
        "outputId": "8af0b98c-4f29-4788-d252-05dd09335779"
      },
      "execution_count": 13,
      "outputs": [
        {
          "output_type": "execute_result",
          "data": {
            "text/plain": [
              "dict_keys(['pre_text', 'post_text', 'filename', 'table_ori', 'table', 'qa', 'id', 'table_retrieved', 'text_retrieved', 'table_retrieved_all', 'text_retrieved_all', 'serialized_text_gpt35'])"
            ]
          },
          "metadata": {},
          "execution_count": 13
        }
      ]
    },
    {
      "cell_type": "code",
      "source": [
        "train_data[0]['qa']"
      ],
      "metadata": {
        "colab": {
          "base_uri": "https://localhost:8080/"
        },
        "id": "c1AVLB1uWIbL",
        "outputId": "f0da3a1a-9f53-438e-8a40-8c7626b9192f"
      },
      "execution_count": 14,
      "outputs": [
        {
          "output_type": "execute_result",
          "data": {
            "text/plain": [
              "{'question': 'for acquired customer-related and network location intangibles , what is the expected annual amortization expenses , in millions?',\n",
              " 'answer': '7.4',\n",
              " 'explanation': '',\n",
              " 'ann_table_rows': [],\n",
              " 'ann_text_rows': [0, 1],\n",
              " 'steps': [{'op': 'add1-1', 'arg1': '75.0', 'arg2': '72.7', 'res': '147.7'},\n",
              "  {'op': 'divide1-2', 'arg1': '#0', 'arg2': '20', 'res': '7.4'}],\n",
              " 'program': 'add(75.0, 72.7), divide(#0, 20)',\n",
              " 'gold_inds': {'text_0': 'american tower corporation and subsidiaries notes to consolidated financial statements ( 3 ) consists of customer-related intangibles of approximately $ 75.0 million and network location intangibles of approximately $ 72.7 million .',\n",
              "  'text_1': 'the customer-related intangibles and network location intangibles are being amortized on a straight-line basis over periods of up to 20 years .'},\n",
              " 'exe_ans': 7.385,\n",
              " 'tfidftopn': {'text_8': 'the customer-related intangibles and network location intangibles are being amortized on a straight-line basis over periods of up to 20 years .'},\n",
              " 'program_re': 'divide(add(75.0, 72.7), 20)',\n",
              " 'model_input': [['text_0',\n",
              "   'american tower corporation and subsidiaries notes to consolidated financial statements ( 3 ) consists of customer-related intangibles of approximately $ 75.0 million and network location intangibles of approximately $ 72.7 million .'],\n",
              "  ['text_1',\n",
              "   'the customer-related intangibles and network location intangibles are being amortized on a straight-line basis over periods of up to 20 years .'],\n",
              "  ['text_7',\n",
              "   '( 1 ) consists of customer-related intangibles of approximately $ 10.7 million and network location intangibles of approximately $ 10.4 million .']]}"
            ]
          },
          "metadata": {},
          "execution_count": 14
        }
      ]
    },
    {
      "cell_type": "code",
      "source": [
        "def prepare_data(json_data, verbose=True):\n",
        "    net=[]\n",
        "    err_cnt=0\n",
        "    for example in json_data:\n",
        "        question = example[\"qa\"][\"question\"]\n",
        "        table = example[\"table\"]\n",
        "        id=example[\"id\"]\n",
        "        table_ori=example[\"table_ori\"]\n",
        "        answer_steps=example[\"qa\"][\"steps\"]\n",
        "        serialized_text=example[\"serialized_text_gpt35\"]\n",
        "        table_text = \"\"\n",
        "        for row in table[1:]:\n",
        "            this_sent = table_row_to_text(table[0], row)\n",
        "            table_text += this_sent\n",
        "        try:\n",
        "            steps_text = format_steps(example[\"qa\"][\"steps\"])\n",
        "            inputs = {\"id\":id, \"context\": serialized_text, \"question\": question, \"answer\": steps_text,\\\n",
        "                      \"table\":table_ori,\"answer_steps\":answer_steps}\n",
        "            net.append(inputs)\n",
        "        except:\n",
        "            err_cnt+=1\n",
        "            if verbose:\n",
        "                print (\"-\"*25)\n",
        "                print (example[\"filename\"])\n",
        "                print (example[\"qa\"][\"steps\"])\n",
        "                print (\"-\"*25+\"\\n\")\n",
        "    if err_cnt>0:\n",
        "        print (\"Net Errors:\",err_cnt)\n",
        "    return net"
      ],
      "metadata": {
        "id": "JQRznD9AW_qv"
      },
      "execution_count": 15,
      "outputs": []
    },
    {
      "cell_type": "code",
      "source": [
        "## Preparing huggingface dataset\n",
        "data_splits = {'train': train_data}\n",
        "datasets = {split: Dataset.from_pandas(pd.DataFrame(prepare_data(data, False))) for split, data in data_splits.items()}"
      ],
      "metadata": {
        "colab": {
          "base_uri": "https://localhost:8080/"
        },
        "id": "lXu5EYSVXqCJ",
        "outputId": "bc4abea7-95c8-4a2a-9185-b354e67d379a"
      },
      "execution_count": 16,
      "outputs": [
        {
          "output_type": "stream",
          "name": "stdout",
          "text": [
            "Net Errors: 98\n"
          ]
        }
      ]
    },
    {
      "cell_type": "code",
      "source": [
        "index=0\n",
        "datasets['train'][index]"
      ],
      "metadata": {
        "colab": {
          "base_uri": "https://localhost:8080/"
        },
        "id": "DdqqXDzOXr5G",
        "outputId": "e7eb823f-a48d-47fc-85cd-f66c0e93c7ce"
      },
      "execution_count": 17,
      "outputs": [
        {
          "output_type": "execute_result",
          "data": {
            "text/plain": [
              "{'id': 'AMT/2012/page_121.pdf-1',\n",
              " 'context': 'The table represents the preliminary purchase price allocation for an acquisition. The acquisition resulted in the acquisition of current assets amounting to $8,763 and non-current assets amounting to $2,332. The non-current assets included property and equipment worth $26,711 and intangible assets worth $21,079. Other non-current liabilities amounting to ($1,349) were also acquired. The fair value of net assets acquired was $57,536, and the goodwill resulting from the acquisition was $5,998.',\n",
              " 'question': 'for acquired customer-related and network location intangibles , what is the expected annual amortization expenses , in millions?',\n",
              " 'answer': 'Step 1: Add 75.0 and 72.7. This gives the result: 147.7 ####### Step 2: Divide 147.7 by 20. This gives the result: 7.4',\n",
              " 'table': [['', 'Preliminary Purchase Price Allocation'],\n",
              "  ['Current assets', '$8,763'],\n",
              "  ['Non-current assets', '2,332'],\n",
              "  ['Property and equipment', '26,711'],\n",
              "  ['Intangible assets (1)', '21,079'],\n",
              "  ['Other non-current liabilities', '(1,349)'],\n",
              "  ['Fair value of net assets acquired', '$57,536'],\n",
              "  ['Goodwill (2)', '5,998']],\n",
              " 'answer_steps': [{'arg1': '75.0',\n",
              "   'arg2': '72.7',\n",
              "   'op': 'add1-1',\n",
              "   'res': '147.7'},\n",
              "  {'arg1': '#0', 'arg2': '20', 'op': 'divide1-2', 'res': '7.4'}]}"
            ]
          },
          "metadata": {},
          "execution_count": 17
        }
      ]
    },
    {
      "cell_type": "code",
      "source": [
        "step_pattern = r\"Step \\d+\"\n",
        "import re"
      ],
      "metadata": {
        "id": "Y-O6l5yYXvGE"
      },
      "execution_count": 18,
      "outputs": []
    },
    {
      "cell_type": "code",
      "source": [
        "def num_steps_dict_fn(example):\n",
        "    example[\"num_steps\"] = len(re.findall(step_pattern, example[\"answer\"]))\n",
        "    return example"
      ],
      "metadata": {
        "id": "8gI4z6vygRvb"
      },
      "execution_count": 19,
      "outputs": []
    },
    {
      "cell_type": "code",
      "source": [
        "datasets['train']=datasets['train'].map(num_steps_dict_fn)\n",
        "# datasets['valid']=datasets['valid'].map(num_steps_dict_fn)\n",
        "# datasets['test']=datasets['test'].map(num_steps_dict_fn)"
      ],
      "metadata": {
        "colab": {
          "base_uri": "https://localhost:8080/",
          "height": 49,
          "referenced_widgets": [
            "903b2734e2ca4abfa9dae1edb8de12ae",
            "7b66cdf43fa741e9abb5f33d9bd7b307",
            "52ff9f8385af4c4993d75bba20ae39ab",
            "c0a978f30dc24cc5b00a6ab854a7b441",
            "5dc69a53b6af4e67a007ad7a22722ea5",
            "43e928acad4f49958259e6700ae920d5",
            "fd49c52debf0404e9ad4406091a56fa5",
            "0bb3d7ffa3c74ffa8522f74a5b4f2e05",
            "c12f43d12f1943f99ea52b876407045f",
            "6ab80fd34c114c6a8622fc674b9463eb",
            "0f39ba1a3f774cf98b71e82b680b31fb"
          ]
        },
        "id": "1h-QY0uKm92B",
        "outputId": "0aa7c636-b8d7-40d4-cd11-3b2ba49b40f2"
      },
      "execution_count": 20,
      "outputs": [
        {
          "output_type": "display_data",
          "data": {
            "text/plain": [
              "Map:   0%|          | 0/2902 [00:00<?, ? examples/s]"
            ],
            "application/vnd.jupyter.widget-view+json": {
              "version_major": 2,
              "version_minor": 0,
              "model_id": "903b2734e2ca4abfa9dae1edb8de12ae"
            }
          },
          "metadata": {}
        }
      ]
    },
    {
      "cell_type": "code",
      "source": [
        "datasets['train']"
      ],
      "metadata": {
        "colab": {
          "base_uri": "https://localhost:8080/"
        },
        "id": "lbUL9uLHnhE2",
        "outputId": "8798d654-38e1-47f6-95e0-eb37355bffb2"
      },
      "execution_count": 21,
      "outputs": [
        {
          "output_type": "execute_result",
          "data": {
            "text/plain": [
              "Dataset({\n",
              "    features: ['id', 'context', 'question', 'answer', 'table', 'answer_steps', 'num_steps'],\n",
              "    num_rows: 2902\n",
              "})"
            ]
          },
          "metadata": {},
          "execution_count": 21
        }
      ]
    },
    {
      "cell_type": "markdown",
      "source": [
        "**Filtering Datasets for 1 Step**"
      ],
      "metadata": {
        "id": "_zff5Tqmnk4s"
      }
    },
    {
      "cell_type": "code",
      "source": [
        "datasets['train']=datasets['train'].filter(lambda example: example['num_steps']==1)\n",
        "# datasets['valid']=datasets['valid'].filter(lambda example: example['num_steps']==1)\n",
        "# datasets['test']=datasets['test'].filter(lambda example: example['num_steps']==1)"
      ],
      "metadata": {
        "colab": {
          "base_uri": "https://localhost:8080/",
          "height": 49,
          "referenced_widgets": [
            "3c4f2ca8ebda41f784df77e99fa2cf4d",
            "be96a28a4b16478d9d88e2486e06c4e3",
            "b2e581aab8134d84bba0ffb33ed95d17",
            "517553c4b8b64bf7b64ce7e8cf87fe20",
            "9412332aadbb4f25989563c2dc6eb2fb",
            "02ab6e56585d4fb7beabcf623470d1f7",
            "38b9417f2c5b40cc963cb1638f94481d",
            "9310a242073e4c1bbca17db33898a10f",
            "082aea8c467b49d78c5bc6bdd9de3f39",
            "92bcc944c65043b3a5473f6e465e2ba2",
            "79ed562ee29249579e11c3f62e1df599"
          ]
        },
        "id": "3qdihtWIiI2Q",
        "outputId": "e153d249-373b-48e3-b2c3-19a42184329e"
      },
      "execution_count": 22,
      "outputs": [
        {
          "output_type": "display_data",
          "data": {
            "text/plain": [
              "Filter:   0%|          | 0/2902 [00:00<?, ? examples/s]"
            ],
            "application/vnd.jupyter.widget-view+json": {
              "version_major": 2,
              "version_minor": 0,
              "model_id": "3c4f2ca8ebda41f784df77e99fa2cf4d"
            }
          },
          "metadata": {}
        }
      ]
    },
    {
      "cell_type": "code",
      "source": [
        "datasets"
      ],
      "metadata": {
        "colab": {
          "base_uri": "https://localhost:8080/"
        },
        "id": "R4mQnqG5iUcD",
        "outputId": "57a3cdcf-12e7-480b-e850-88635db3f79e"
      },
      "execution_count": 23,
      "outputs": [
        {
          "output_type": "execute_result",
          "data": {
            "text/plain": [
              "{'train': Dataset({\n",
              "     features: ['id', 'context', 'question', 'answer', 'table', 'answer_steps', 'num_steps'],\n",
              "     num_rows: 1713\n",
              " })}"
            ]
          },
          "metadata": {},
          "execution_count": 23
        }
      ]
    },
    {
      "cell_type": "markdown",
      "source": [
        "Loading Model"
      ],
      "metadata": {
        "id": "bt_PgM3ooHEW"
      }
    },
    {
      "cell_type": "code",
      "source": [
        "import torch\n",
        "from transformers import AutoTokenizer, AutoModelForCausalLM, BitsAndBytesConfig"
      ],
      "metadata": {
        "id": "nqZFEIZ_ooAy"
      },
      "execution_count": 24,
      "outputs": []
    },
    {
      "cell_type": "code",
      "source": [
        "import getpass\n",
        "\n",
        "# Prompt for the Hugging Face token\n",
        "hf_token = getpass.getpass(\"Enter your Hugging Face token: \")\n",
        "\n",
        "import os\n",
        "os.environ['HUGGINGFACE_TOKEN'] = hf_token"
      ],
      "metadata": {
        "colab": {
          "base_uri": "https://localhost:8080/"
        },
        "id": "Y6OdzCT4n0Hg",
        "outputId": "373bca2b-339a-412e-8241-ac28ff602ef1"
      },
      "execution_count": 25,
      "outputs": [
        {
          "name": "stdout",
          "output_type": "stream",
          "text": [
            "Enter your Hugging Face token: ··········\n"
          ]
        }
      ]
    },
    {
      "cell_type": "code",
      "source": [
        "# model_id =  \"NousResearch/Llama-2-7b-hf\"\n",
        "model_id = \"meta-llama/Llama-2-7b-chat-hf\"\n",
        "bnb_config = BitsAndBytesConfig(\n",
        "    load_in_4bit=True,\n",
        "    bnb_4bit_use_double_quant=True,\n",
        "    bnb_4bit_quant_type=\"nf4\",\n",
        "    bnb_4bit_compute_dtype=torch.bfloat16\n",
        ")\n",
        "\n",
        "model = AutoModelForCausalLM.from_pretrained(model_id, quantization_config=bnb_config, device_map=\"auto\",use_auth_token=hf_token)\n",
        "\n",
        "tokenizer = AutoTokenizer.from_pretrained(model_id,use_auth_token=hf_token)\n",
        "tokenizer.pad_token = tokenizer.eos_token\n",
        "tokenizer.padding_side = \"right\""
      ],
      "metadata": {
        "colab": {
          "base_uri": "https://localhost:8080/",
          "height": 118,
          "referenced_widgets": [
            "92f4ae005db148e487801cdc06e5ca7d",
            "d0116e3a392b499a9ee7bd1d9114053e",
            "bd4151a640e44ba89a83feb300c6b9db",
            "1e9916d460ae48ac837590a09e8ca5c7",
            "589bd3390855451781b1525b6b8ee92a",
            "ce94e5cd0bf0486cbb1afdc945772214",
            "aa23dde5040c47f8afc6a12b6a8806fa",
            "c7161ce490c74345a5f5743fa30c889c",
            "c7ca31f563634349be98cd5a0ca7b7e6",
            "da62c07f03f1490d93919ee8908ccd35",
            "574a83771896407681258e1ca2fae295"
          ]
        },
        "id": "B6g-HZkooa9D",
        "outputId": "c11b1928-683d-40d5-94b0-4b3e92912650"
      },
      "execution_count": 26,
      "outputs": [
        {
          "output_type": "stream",
          "name": "stderr",
          "text": [
            "/usr/local/lib/python3.10/dist-packages/transformers/modeling_utils.py:2193: FutureWarning: The `use_auth_token` argument is deprecated and will be removed in v5 of Transformers.\n",
            "  warnings.warn(\n"
          ]
        },
        {
          "output_type": "display_data",
          "data": {
            "text/plain": [
              "Loading checkpoint shards:   0%|          | 0/2 [00:00<?, ?it/s]"
            ],
            "application/vnd.jupyter.widget-view+json": {
              "version_major": 2,
              "version_minor": 0,
              "model_id": "92f4ae005db148e487801cdc06e5ca7d"
            }
          },
          "metadata": {}
        },
        {
          "output_type": "stream",
          "name": "stderr",
          "text": [
            "/usr/local/lib/python3.10/dist-packages/transformers/tokenization_utils_base.py:1714: FutureWarning: The `use_auth_token` argument is deprecated and will be removed in v5 of Transformers.\n",
            "  warnings.warn(\n"
          ]
        }
      ]
    },
    {
      "cell_type": "code",
      "source": [
        "datasets['train'][15]['answer'],datasets['train'][45]['answer'],datasets['train'][21]['answer'],datasets['train'][129]['answer']"
      ],
      "metadata": {
        "colab": {
          "base_uri": "https://localhost:8080/"
        },
        "id": "evE-Q0skuFBc",
        "outputId": "b170e4c3-2788-45ed-c4a1-84b7b25dc681"
      },
      "execution_count": 27,
      "outputs": [
        {
          "output_type": "execute_result",
          "data": {
            "text/plain": [
              "('Step 1: Add 286 and 272. This gives the result: 558',\n",
              " 'Step 1: Divide 48 by 116. This gives the result: 41.4%',\n",
              " 'Step 1: Multiply 0.0425 by 1000. This gives the result: 42.5',\n",
              " 'Step 1: Subtract 41 from 117. This gives the result: 76')"
            ]
          },
          "metadata": {},
          "execution_count": 27
        }
      ]
    },
    {
      "cell_type": "code",
      "source": [
        "datasets['train'][15]['question'],datasets['train'][45]['question'],datasets['train'][21]['question'],datasets['train'][129]['question']"
      ],
      "metadata": {
        "colab": {
          "base_uri": "https://localhost:8080/"
        },
        "id": "ZbK1d33MvdCb",
        "outputId": "ff1f4615-fad4-4ec3-ca70-0c9dd9a0368c"
      },
      "execution_count": 28,
      "outputs": [
        {
          "output_type": "execute_result",
          "data": {
            "text/plain": [
              "('for 2013 and 2012 , what was total noninterest income in millions?',\n",
              " 'what is the tax benefit as a percentage of nonoperating income ( expense ) on a gaap basis in 2013?',\n",
              " 'if you held 1000 shares on may 30 , 2014 , how much would you receive in dividends?',\n",
              " 'the pretax pension expenses that reduced primarily due to the amortization impact of the favorable 2009 investment returns as compared with the expected long-term return assumption resulted in how much of a decreased expense from 2009 to 2010 , in millions?')"
            ]
          },
          "metadata": {},
          "execution_count": 28
        }
      ]
    },
    {
      "cell_type": "code",
      "source": [
        "datasets['train'][15]['context'],datasets['train'][45]['context'],datasets['train'][21]['context'],datasets['train'][129]['context']"
      ],
      "metadata": {
        "colab": {
          "base_uri": "https://localhost:8080/"
        },
        "id": "21QNbXrvvg_A",
        "outputId": "0fc18f3b-33a5-4b38-eb1b-9ba274280d32"
      },
      "execution_count": 29,
      "outputs": [
        {
          "output_type": "execute_result",
          "data": {
            "text/plain": [
              "('In the year ended December 31, 2013, the net interest income for the company was $31 million, which decreased from $38 million in 2012. The noninterest income increased from $272 million in 2012 to $286 million in 2013. The total customer-related trading revenue was $317 million in both years. However, the securities underwriting and trading revenue decreased from $100 million in 2012 to $78 million in 2013. The company also generated $94 million and $92 million from foreign exchange in 2013 and 2012, respectively. Additionally, they earned $145 million and $118 million from financial derivatives and other sources in 2013 and 2012, respectively.',\n",
              " \"In 2013, the nonoperating income on a GAAP basis was $116 million, whereas in 2012, it was a loss of $54 million. In 2011, it was a loss of $114 million. After subtracting the net income attributable to noncontrolling interests, the nonoperating income for 2013 was $97 million, a decrease from 2012's $36 million loss and 2011's $116 million loss. There was a gain of $80 million related to charitable contribution in 2013. Additionally, there was a compensation expense of $10 million related to the appreciation and depreciation on deferred compensation plans in 2013. When adjusted for the net income attributable to noncontrolling interests, the nonoperating income for 2013 was $7 million, whereas it was a loss of $42 million and $113 million in 2012 and 2011, respectively.\",\n",
              " \"This table lists the dividend amounts, declaration dates, record dates, and payment dates for a company's stock. The first column lists the amount of the dividend, while the following columns list the dates associated with each dividend payment. The company paid a dividend of $0.0425 on February 12, 2014, with a record date of February 25, 2014, and a payment date of March 10, 2014. Subsequent dividends of the same amount were paid on May 8, 2014 (record date of May 27, 2014, payment date of June 10, 2014) and July 31, 2014 (record date of August 25, 2014, payment date of September 10, 2014). The company then increased the dividend to $0.0675, with the next payment on November 6, 2014 (record date of November 25, 2014, payment date of December 10, 2014).\",\n",
              " 'The table lists the estimated increase to the 2010 pension expense in millions of dollars for various changes in assumption. A .5% decrease in the discount rate is estimated to result in a $10 million increase, while a .5% decrease in expected long-term return on assets is estimated to result in an $18 million increase. Additionally, a .5% increase in compensation rate is estimated to result in a $3 million increase to the 2010 pension expense.')"
            ]
          },
          "metadata": {},
          "execution_count": 29
        }
      ]
    },
    {
      "cell_type": "code",
      "source": [
        "datasets['train'][129]"
      ],
      "metadata": {
        "colab": {
          "base_uri": "https://localhost:8080/"
        },
        "id": "2ZkfyJHk2Yi9",
        "outputId": "a876f4bb-f352-41ba-a888-e4a04a8fe524"
      },
      "execution_count": 30,
      "outputs": [
        {
          "output_type": "execute_result",
          "data": {
            "text/plain": [
              "{'id': 'PNC/2009/page_68.pdf-1',\n",
              " 'context': 'The table lists the estimated increase to the 2010 pension expense in millions of dollars for various changes in assumption. A .5% decrease in the discount rate is estimated to result in a $10 million increase, while a .5% decrease in expected long-term return on assets is estimated to result in an $18 million increase. Additionally, a .5% increase in compensation rate is estimated to result in a $3 million increase to the 2010 pension expense.',\n",
              " 'question': 'the pretax pension expenses that reduced primarily due to the amortization impact of the favorable 2009 investment returns as compared with the expected long-term return assumption resulted in how much of a decreased expense from 2009 to 2010 , in millions?',\n",
              " 'answer': 'Step 1: Subtract 41 from 117. This gives the result: 76',\n",
              " 'table': [['Change in Assumption(a)',\n",
              "   'EstimatedIncrease to 2010PensionExpense(Inmillions)'],\n",
              "  ['.5% decrease in discount rate', '$10'],\n",
              "  ['.5% decrease in expected long-term return on assets', '$18'],\n",
              "  ['.5% increase in compensation rate', '$3']],\n",
              " 'answer_steps': [{'arg1': '117',\n",
              "   'arg2': '41',\n",
              "   'op': 'minus1-1',\n",
              "   'res': '76'}],\n",
              " 'num_steps': 1}"
            ]
          },
          "metadata": {},
          "execution_count": 30
        }
      ]
    },
    {
      "cell_type": "code",
      "source": [
        "import warnings\n",
        "warnings.filterwarnings('ignore')\n",
        "# index = 10 (question not understood clearly), 11 (answer and context irrelevant to the question being asked)\n",
        "list_indices=[15,45,21,13]\n",
        "\n",
        "prompt=''\n",
        "dash_line = '-'.join('' for x in range(100))\n",
        "for i,j in enumerate(list_indices):\n",
        "  context = datasets['train'][j]['context']\n",
        "  answer = datasets['train'][j]['answer']\n",
        "  question = datasets['train'][j]['question']\n",
        "\n",
        "  prompt+= f\"\"\"\n",
        "  ### Instruction: Answer the question in a single step by extracting relevant values from the context given below. Perform the necessary arithmetic operation.\n",
        "\n",
        "  ### Context:\n",
        "  {context}\n",
        "\n",
        "  ### Question:\n",
        "  {question}\n",
        "\n",
        "  ### Answer:\n",
        "  {answer}\n",
        "  \"\"\"\n",
        "  prompt+=dash_line\n",
        "\n",
        "INDEX_TEST=108\n",
        "context_inf=datasets['train'][INDEX_TEST]['context']\n",
        "question_inf=datasets['train'][INDEX_TEST]['question']\n",
        "answer_inf=datasets['train'][INDEX_TEST]['answer']\n",
        "\n",
        "prompt+= f\"\"\"\n",
        "### Instruction: Answer the question in a single step by extracting relevant values from the context given below. Perform the necessary arithmetic operation.\n",
        "Follow the examples presented above and answer the question in a similar way.\n",
        "\n",
        "### Context:\n",
        "{context_inf}\n",
        "\n",
        "### Question:\n",
        "{question_inf}\n",
        "\n",
        "### Answer:\n",
        "\"\"\"\n",
        "\n",
        "inputs = tokenizer(prompt, return_tensors='pt')\n",
        "output = tokenizer.decode(\n",
        "    model.generate(\n",
        "        inputs[\"input_ids\"],\n",
        "        temperature=0.1,\n",
        "        do_sample=True,\n",
        "        max_new_tokens=128,\n",
        "    )[0],\n",
        "    skip_special_tokens=True\n",
        ")\n",
        "\n",
        "dash_line = '-'.join('' for x in range(100))\n",
        "print(dash_line)\n",
        "# print(f'INPUT PROMPT:\\n{prompt}')\n",
        "# print(dash_line)\n",
        "print(f'BASELINE ANSWER:\\n{answer_inf}\\n')\n",
        "print(dash_line)\n",
        "print(f'MODEL GENERATED ANSWER - FEW SHOT:\\n{output}')\n",
        "print('###ANSWER ABOVE###')"
      ],
      "metadata": {
        "colab": {
          "base_uri": "https://localhost:8080/"
        },
        "id": "g0eTg7sBokiP",
        "outputId": "e84999bd-5df6-46cb-e6ba-13cb70365b5f"
      },
      "execution_count": 31,
      "outputs": [
        {
          "output_type": "stream",
          "name": "stdout",
          "text": [
            "---------------------------------------------------------------------------------------------------\n",
            "BASELINE ANSWER:\n",
            "Step 1: Divide 110494 by 9038137. This gives the result: 1%\n",
            "\n",
            "---------------------------------------------------------------------------------------------------\n",
            "MODEL GENERATED ANSWER - FEW SHOT:\n",
            "\n",
            "  ### Instruction: Answer the question in a single step by extracting relevant values from the context given below. Perform the necessary arithmetic operation.\n",
            "\n",
            "  ### Context:\n",
            "  In the year ended December 31, 2013, the net interest income for the company was $31 million, which decreased from $38 million in 2012. The noninterest income increased from $272 million in 2012 to $286 million in 2013. The total customer-related trading revenue was $317 million in both years. However, the securities underwriting and trading revenue decreased from $100 million in 2012 to $78 million in 2013. The company also generated $94 million and $92 million from foreign exchange in 2013 and 2012, respectively. Additionally, they earned $145 million and $118 million from financial derivatives and other sources in 2013 and 2012, respectively.\n",
            "\n",
            "  ### Question:\n",
            "  for 2013 and 2012 , what was total noninterest income in millions?\n",
            "\n",
            "  ### Answer:\n",
            "  Step 1: Add 286 and 272. This gives the result: 558\n",
            "  ---------------------------------------------------------------------------------------------------\n",
            "  ### Instruction: Answer the question in a single step by extracting relevant values from the context given below. Perform the necessary arithmetic operation.\n",
            "\n",
            "  ### Context:\n",
            "  In 2013, the nonoperating income on a GAAP basis was $116 million, whereas in 2012, it was a loss of $54 million. In 2011, it was a loss of $114 million. After subtracting the net income attributable to noncontrolling interests, the nonoperating income for 2013 was $97 million, a decrease from 2012's $36 million loss and 2011's $116 million loss. There was a gain of $80 million related to charitable contribution in 2013. Additionally, there was a compensation expense of $10 million related to the appreciation and depreciation on deferred compensation plans in 2013. When adjusted for the net income attributable to noncontrolling interests, the nonoperating income for 2013 was $7 million, whereas it was a loss of $42 million and $113 million in 2012 and 2011, respectively.\n",
            "\n",
            "  ### Question:\n",
            "  what is the tax benefit as a percentage of nonoperating income ( expense ) on a gaap basis in 2013?\n",
            "\n",
            "  ### Answer:\n",
            "  Step 1: Divide 48 by 116. This gives the result: 41.4%\n",
            "  ---------------------------------------------------------------------------------------------------\n",
            "  ### Instruction: Answer the question in a single step by extracting relevant values from the context given below. Perform the necessary arithmetic operation.\n",
            "\n",
            "  ### Context:\n",
            "  This table lists the dividend amounts, declaration dates, record dates, and payment dates for a company's stock. The first column lists the amount of the dividend, while the following columns list the dates associated with each dividend payment. The company paid a dividend of $0.0425 on February 12, 2014, with a record date of February 25, 2014, and a payment date of March 10, 2014. Subsequent dividends of the same amount were paid on May 8, 2014 (record date of May 27, 2014, payment date of June 10, 2014) and July 31, 2014 (record date of August 25, 2014, payment date of September 10, 2014). The company then increased the dividend to $0.0675, with the next payment on November 6, 2014 (record date of November 25, 2014, payment date of December 10, 2014).\n",
            "\n",
            "  ### Question:\n",
            "  if you held 1000 shares on may 30 , 2014 , how much would you receive in dividends?\n",
            "\n",
            "  ### Answer:\n",
            "  Step 1: Multiply 0.0425 by 1000. This gives the result: 42.5\n",
            "  ---------------------------------------------------------------------------------------------------\n",
            "  ### Instruction: Answer the question in a single step by extracting relevant values from the context given below. Perform the necessary arithmetic operation.\n",
            "\n",
            "  ### Context:\n",
            "  The table provides information on deferred acquisition payments, redeemable noncontrolling interests and call options with affiliates, and contingent acquisition payments for the years 2013-2017 and thereafter. The total amount for each category is also provided. The table indicates that there was a total of $228.8 million in acquisition-related payments over the time period specified. It is worth noting that some of the payments were compensated for in cash, resulting in a net amount of $231.1 million in contingent acquisition payments.\n",
            "\n",
            "  ### Question:\n",
            "  what is the mathematical range for tedeemable noncontrolling interests and call options with affiliates from 2013-2017?\n",
            "\n",
            "  ### Answer:\n",
            "  Step 1: Subtract 9.7 from 46.4. This gives the result: 36.7\n",
            "  ---------------------------------------------------------------------------------------------------\n",
            "### Instruction: Answer the question in a single step by extracting relevant values from the context given below. Perform the necessary arithmetic operation. \n",
            "Follow the examples presented above and answer the question in a similar way.\n",
            "\n",
            "### Context:\n",
            "The table provides information on the vesting of restricted shares for a company over the years 2017 to thereafter. In 2017, 1,476,832 shares were vested, followed by 2,352,443 in 2018 and 4,358,728 in 2019. In 2020, 539,790 shares were vested, and in 2021, 199,850 shares were vested. Thereafter, 110,494 shares were vested. The total number of outstanding shares vested is 9,038,137.\n",
            "\n",
            "### Question:\n",
            "what percentage of restricted shares is set to vest after 2021?\n",
            "\n",
            "### Answer:\n",
            "Step 1: Divide 110,494 by 9,038,137. This gives the result: 12.1%\n",
            "###ANSWER ABOVE###\n"
          ]
        }
      ]
    },
    {
      "cell_type": "markdown",
      "source": [
        "Post Processing"
      ],
      "metadata": {
        "id": "R_xMoijO3gKW"
      }
    },
    {
      "cell_type": "code",
      "source": [
        "import re\n",
        "\n",
        "def extract_info(input_text):\n",
        "  try:\n",
        "      # Regular expression to match the answer pattern\n",
        "      answer_pattern = r\"Step 1: ([A-Za-z]+) ([-]?[$]?[\\d,.]+) .* ([-]?[$]?[\\d,.]+)\\.* This gives the result: ([-]?[$]?[\\d.]+%?)\"\n",
        "\n",
        "      # Find the matching groups\n",
        "      match = re.search(answer_pattern, input_text)\n",
        "      if match:\n",
        "          operation, arg1, arg2, result = match.groups()\n",
        "          # Removing commas from the arguments and converting to appropriate types\n",
        "\n",
        "          chars_to_replace=[',','$']\n",
        "          for char in chars_to_replace:\n",
        "              arg1=arg1.replace(char,'')\n",
        "              arg2=arg2.replace(char,'')\n",
        "              result=result.replace(char,'')\n",
        "          # arg1 = float(arg1)\n",
        "          # arg2 = float(arg2)\n",
        "          # Checking if result is a percentage or a number\n",
        "          if '%' in result:\n",
        "              result = (result.replace('%', ''))\n",
        "          else:\n",
        "              result = (result)\n",
        "\n",
        "          # Constructing the output dictionary\n",
        "          output = {\n",
        "              'Answer': match.group(0),\n",
        "              'Operation': operation.capitalize(),\n",
        "              'argument_1': arg1,\n",
        "              'argument_2': arg2,\n",
        "              'result': result\n",
        "          }\n",
        "          return output\n",
        "  except:\n",
        "      return \"Pattern not found\""
      ],
      "metadata": {
        "id": "GCAvcBwF34gP"
      },
      "execution_count": 31,
      "outputs": []
    },
    {
      "cell_type": "code",
      "source": [
        "split_text = re.split(r'-{5,}', output)\n",
        "last_segment = split_text[-1].strip()\n",
        "ans_dict=extract_info(last_segment)"
      ],
      "metadata": {
        "id": "kCEGUy8673um"
      },
      "execution_count": 33,
      "outputs": []
    },
    {
      "cell_type": "code",
      "source": [
        "ans_dict"
      ],
      "metadata": {
        "colab": {
          "base_uri": "https://localhost:8080/"
        },
        "id": "4ShT-UOoFTY4",
        "outputId": "54d4de11-40cc-4150-d232-ffa797836cb0"
      },
      "execution_count": 34,
      "outputs": [
        {
          "output_type": "execute_result",
          "data": {
            "text/plain": [
              "{'Answer': 'Step 1: Divide 110,494 by 9,038,137. This gives the result: 12.1%',\n",
              " 'Operation': 'Divide',\n",
              " 'argument_1': '110494',\n",
              " 'argument_2': '9038137.',\n",
              " 'result': '12.1'}"
            ]
          },
          "metadata": {},
          "execution_count": 34
        }
      ]
    },
    {
      "cell_type": "code",
      "source": [
        "ops_dict={'Divide':'/', 'Multiply':'*', 'Add':'+', 'Subtract':'-'}"
      ],
      "metadata": {
        "id": "LhdJOPwmFU2o"
      },
      "execution_count": 287,
      "outputs": []
    },
    {
      "cell_type": "code",
      "source": [
        "%%capture\n",
        "!pip install langchain-experimental\n",
        "from langchain.agents import Tool\n",
        "from langchain_experimental.utilities import PythonREPL\n",
        "python_repl = PythonREPL()"
      ],
      "metadata": {
        "id": "-zTNZA5KBHEm"
      },
      "execution_count": 281,
      "outputs": []
    },
    {
      "cell_type": "code",
      "source": [
        "ans_dict['argument_1'].replace('.','')+(ops_dict[ans_dict['Operation']])+ans_dict['argument_2'].replace('.','')"
      ],
      "metadata": {
        "colab": {
          "base_uri": "https://localhost:8080/",
          "height": 35
        },
        "id": "K9Osw7ttFNVh",
        "outputId": "d2eed6c8-71af-4306-f416-546ce6482860"
      },
      "execution_count": 290,
      "outputs": [
        {
          "output_type": "execute_result",
          "data": {
            "text/plain": [
              "'110494/9038137'"
            ],
            "application/vnd.google.colaboratory.intrinsic+json": {
              "type": "string"
            }
          },
          "metadata": {},
          "execution_count": 290
        }
      ]
    },
    {
      "cell_type": "code",
      "source": [
        "value_to_compute=ans_dict['argument_1'].replace('.','')+(ops_dict[ans_dict['Operation']])+ans_dict['argument_2'].replace('.','')\n",
        "python_repl.run(f\"print({value_to_compute})\")"
      ],
      "metadata": {
        "colab": {
          "base_uri": "https://localhost:8080/",
          "height": 35
        },
        "id": "HjsC_G8hErRI",
        "outputId": "e5b28a7a-858f-4313-8f30-02db6a6b8d66"
      },
      "execution_count": 291,
      "outputs": [
        {
          "output_type": "execute_result",
          "data": {
            "text/plain": [
              "'0.012225307051663413\\n'"
            ],
            "application/vnd.google.colaboratory.intrinsic+json": {
              "type": "string"
            }
          },
          "metadata": {},
          "execution_count": 291
        }
      ]
    },
    {
      "cell_type": "markdown",
      "source": [
        "Function to apply on all rows of the Dataset"
      ],
      "metadata": {
        "id": "c5tgaiUYiklY"
      }
    },
    {
      "cell_type": "code",
      "source": [
        "datasets"
      ],
      "metadata": {
        "colab": {
          "base_uri": "https://localhost:8080/"
        },
        "id": "wjsjD6p6iw9T",
        "outputId": "7499b114-6f55-4abb-fdbb-a14f4b453521"
      },
      "execution_count": 32,
      "outputs": [
        {
          "output_type": "execute_result",
          "data": {
            "text/plain": [
              "{'train': Dataset({\n",
              "     features: ['id', 'context', 'question', 'answer', 'table', 'answer_steps', 'num_steps'],\n",
              "     num_rows: 1713\n",
              " })}"
            ]
          },
          "metadata": {},
          "execution_count": 32
        }
      ]
    },
    {
      "cell_type": "code",
      "source": [
        "df_train=pd.DataFrame(datasets['train'])"
      ],
      "metadata": {
        "id": "wIYoVcmojN4-"
      },
      "execution_count": 33,
      "outputs": []
    },
    {
      "cell_type": "code",
      "source": [
        "df_train"
      ],
      "metadata": {
        "colab": {
          "base_uri": "https://localhost:8080/",
          "height": 545
        },
        "id": "6dKSDd7njS7_",
        "outputId": "3b76630c-3df8-4a59-a531-8eebed5df023"
      },
      "execution_count": 34,
      "outputs": [
        {
          "output_type": "execute_result",
          "data": {
            "text/plain": [
              "                           id  \\\n",
              "0      AAL/2015/page_74.pdf-1   \n",
              "1       GS/2014/page_47.pdf-3   \n",
              "2      AAL/2014/page_89.pdf-3   \n",
              "3      WRK/2018/page_56.pdf-3   \n",
              "4     INTC/2013/page_71.pdf-2   \n",
              "...                       ...   \n",
              "1708   UNP/2009/page_83.pdf-4   \n",
              "1709  ABMD/2015/page_86.pdf-3   \n",
              "1710    IP/2012/page_56.pdf-4   \n",
              "1711   BDX/2016/page_62.pdf-3   \n",
              "1712   UNP/2016/page_21.pdf-4   \n",
              "\n",
              "                                                context  \\\n",
              "0     The table above provides a breakdown of reorga...   \n",
              "1     The table above shows the financial informatio...   \n",
              "2     In 2013, a total of $2,640 was spent on reorga...   \n",
              "3     The table provides information on payments due...   \n",
              "4     As of December 28, 2013, the company had a tot...   \n",
              "...                                                 ...   \n",
              "1708  The table displays the amounts of various type...   \n",
              "1709  The table shows the total fair value of an acq...   \n",
              "1710  In 2012, the sales of the company were $6,230 ...   \n",
              "1711  This table provides information on the average...   \n",
              "1712  This table provides information about the shar...   \n",
              "\n",
              "                                               question  \\\n",
              "0     what is the percent of the labor-related deeme...   \n",
              "1     in 2013 what percentage of total net revenues ...   \n",
              "2     what percentage of total reorganization items ...   \n",
              "3     what was the percent of the total long-term de...   \n",
              "4     as part of the proceeds from the clear wire tr...   \n",
              "...                                                 ...   \n",
              "1708  what was the change in equipment rents payable...   \n",
              "1709  what portion of total consideration transferre...   \n",
              "1710  what was the operating margin from printing pa...   \n",
              "1711  what is the mathematical range of dilutive sha...   \n",
              "1712  what percentage of the total number of shares ...   \n",
              "\n",
              "                                                 answer  \\\n",
              "0     Step 1: Divide 1733 by 2655. This gives the re...   \n",
              "1     Step 1: Divide 1947 by 7018. This gives the re...   \n",
              "2     Step 1: Divide 1733 by 2640. This gives the re...   \n",
              "3     Step 1: Divide 726.6 by 6039.0. This gives the...   \n",
              "4     Step 1: Divide 439 by 470. This gives the resu...   \n",
              "...                                                 ...   \n",
              "1708  Step 1: Subtract 93 from 89. This gives the re...   \n",
              "1709  Step 1: Divide 15750 by 21750. This gives the ...   \n",
              "1710  Step 1: Divide 599 by 6230. This gives the res...   \n",
              "1711  Step 1: Subtract 4410 from 4972. This gives th...   \n",
              "1712  Step 1: Divide 2901167 by 9699127. This gives ...   \n",
              "\n",
              "                                                  table  \\\n",
              "0     [[, 2013], [Labor-related deemed claim (1), $1...   \n",
              "1     [[, Year Ended December], [<i>$ in millions</i...   \n",
              "2     [[, 2013], [Labor-related deemed claim (1), $1...   \n",
              "3     [[, Payments Due by Period], [(In millions), T...   \n",
              "4     [[(In Millions), Dec 28,2013, Dec 29,2012], [A...   \n",
              "...                                                 ...   \n",
              "1708  [[<i>Millions of Dollars</i>, <i>Dec. 31, 2009...   \n",
              "1709  [[, Total Acquisition Date Fair Value (in thou...   \n",
              "1710  [[In millions, 2012, 2011, 2010], [Sales, $6,2...   \n",
              "1711  [[, 2016, 2015, 2014], [Average common shares ...   \n",
              "1712  [[Period, Total Number of Shares Purchased [a]...   \n",
              "\n",
              "                                           answer_steps  num_steps  \n",
              "0     [{'arg1': '1733', 'arg2': '2655', 'op': 'divid...          1  \n",
              "1     [{'arg1': '1947', 'arg2': '7018', 'op': 'divid...          1  \n",
              "2     [{'arg1': '1733', 'arg2': '2640', 'op': 'divid...          1  \n",
              "3     [{'arg1': '726.6', 'arg2': '6039.0', 'op': 'di...          1  \n",
              "4     [{'arg1': '439', 'arg2': '470', 'op': 'divide2...          1  \n",
              "...                                                 ...        ...  \n",
              "1708  [{'arg1': '89', 'arg2': '93', 'op': 'minus2-1'...          1  \n",
              "1709  [{'arg1': '15750', 'arg2': '21750', 'op': 'div...          1  \n",
              "1710  [{'arg1': '599', 'arg2': '6230', 'op': 'divide...          1  \n",
              "1711  [{'arg1': '4972', 'arg2': '4410', 'op': 'minus...          1  \n",
              "1712  [{'arg1': '2901167', 'arg2': '9699127', 'op': ...          1  \n",
              "\n",
              "[1713 rows x 7 columns]"
            ],
            "text/html": [
              "\n",
              "  <div id=\"df-1b31bf0a-66de-4d8e-87b0-7e5fcae8b2a9\" class=\"colab-df-container\">\n",
              "    <div>\n",
              "<style scoped>\n",
              "    .dataframe tbody tr th:only-of-type {\n",
              "        vertical-align: middle;\n",
              "    }\n",
              "\n",
              "    .dataframe tbody tr th {\n",
              "        vertical-align: top;\n",
              "    }\n",
              "\n",
              "    .dataframe thead th {\n",
              "        text-align: right;\n",
              "    }\n",
              "</style>\n",
              "<table border=\"1\" class=\"dataframe\">\n",
              "  <thead>\n",
              "    <tr style=\"text-align: right;\">\n",
              "      <th></th>\n",
              "      <th>id</th>\n",
              "      <th>context</th>\n",
              "      <th>question</th>\n",
              "      <th>answer</th>\n",
              "      <th>table</th>\n",
              "      <th>answer_steps</th>\n",
              "      <th>num_steps</th>\n",
              "    </tr>\n",
              "  </thead>\n",
              "  <tbody>\n",
              "    <tr>\n",
              "      <th>0</th>\n",
              "      <td>AAL/2015/page_74.pdf-1</td>\n",
              "      <td>The table above provides a breakdown of reorga...</td>\n",
              "      <td>what is the percent of the labor-related deeme...</td>\n",
              "      <td>Step 1: Divide 1733 by 2655. This gives the re...</td>\n",
              "      <td>[[, 2013], [Labor-related deemed claim (1), $1...</td>\n",
              "      <td>[{'arg1': '1733', 'arg2': '2655', 'op': 'divid...</td>\n",
              "      <td>1</td>\n",
              "    </tr>\n",
              "    <tr>\n",
              "      <th>1</th>\n",
              "      <td>GS/2014/page_47.pdf-3</td>\n",
              "      <td>The table above shows the financial informatio...</td>\n",
              "      <td>in 2013 what percentage of total net revenues ...</td>\n",
              "      <td>Step 1: Divide 1947 by 7018. This gives the re...</td>\n",
              "      <td>[[, Year Ended December], [&lt;i&gt;$ in millions&lt;/i...</td>\n",
              "      <td>[{'arg1': '1947', 'arg2': '7018', 'op': 'divid...</td>\n",
              "      <td>1</td>\n",
              "    </tr>\n",
              "    <tr>\n",
              "      <th>2</th>\n",
              "      <td>AAL/2014/page_89.pdf-3</td>\n",
              "      <td>In 2013, a total of $2,640 was spent on reorga...</td>\n",
              "      <td>what percentage of total reorganization items ...</td>\n",
              "      <td>Step 1: Divide 1733 by 2640. This gives the re...</td>\n",
              "      <td>[[, 2013], [Labor-related deemed claim (1), $1...</td>\n",
              "      <td>[{'arg1': '1733', 'arg2': '2640', 'op': 'divid...</td>\n",
              "      <td>1</td>\n",
              "    </tr>\n",
              "    <tr>\n",
              "      <th>3</th>\n",
              "      <td>WRK/2018/page_56.pdf-3</td>\n",
              "      <td>The table provides information on payments due...</td>\n",
              "      <td>what was the percent of the total long-term de...</td>\n",
              "      <td>Step 1: Divide 726.6 by 6039.0. This gives the...</td>\n",
              "      <td>[[, Payments Due by Period], [(In millions), T...</td>\n",
              "      <td>[{'arg1': '726.6', 'arg2': '6039.0', 'op': 'di...</td>\n",
              "      <td>1</td>\n",
              "    </tr>\n",
              "    <tr>\n",
              "      <th>4</th>\n",
              "      <td>INTC/2013/page_71.pdf-2</td>\n",
              "      <td>As of December 28, 2013, the company had a tot...</td>\n",
              "      <td>as part of the proceeds from the clear wire tr...</td>\n",
              "      <td>Step 1: Divide 439 by 470. This gives the resu...</td>\n",
              "      <td>[[(In Millions), Dec 28,2013, Dec 29,2012], [A...</td>\n",
              "      <td>[{'arg1': '439', 'arg2': '470', 'op': 'divide2...</td>\n",
              "      <td>1</td>\n",
              "    </tr>\n",
              "    <tr>\n",
              "      <th>...</th>\n",
              "      <td>...</td>\n",
              "      <td>...</td>\n",
              "      <td>...</td>\n",
              "      <td>...</td>\n",
              "      <td>...</td>\n",
              "      <td>...</td>\n",
              "      <td>...</td>\n",
              "    </tr>\n",
              "    <tr>\n",
              "      <th>1708</th>\n",
              "      <td>UNP/2009/page_83.pdf-4</td>\n",
              "      <td>The table displays the amounts of various type...</td>\n",
              "      <td>what was the change in equipment rents payable...</td>\n",
              "      <td>Step 1: Subtract 93 from 89. This gives the re...</td>\n",
              "      <td>[[&lt;i&gt;Millions of Dollars&lt;/i&gt;, &lt;i&gt;Dec. 31, 2009...</td>\n",
              "      <td>[{'arg1': '89', 'arg2': '93', 'op': 'minus2-1'...</td>\n",
              "      <td>1</td>\n",
              "    </tr>\n",
              "    <tr>\n",
              "      <th>1709</th>\n",
              "      <td>ABMD/2015/page_86.pdf-3</td>\n",
              "      <td>The table shows the total fair value of an acq...</td>\n",
              "      <td>what portion of total consideration transferre...</td>\n",
              "      <td>Step 1: Divide 15750 by 21750. This gives the ...</td>\n",
              "      <td>[[, Total Acquisition Date Fair Value (in thou...</td>\n",
              "      <td>[{'arg1': '15750', 'arg2': '21750', 'op': 'div...</td>\n",
              "      <td>1</td>\n",
              "    </tr>\n",
              "    <tr>\n",
              "      <th>1710</th>\n",
              "      <td>IP/2012/page_56.pdf-4</td>\n",
              "      <td>In 2012, the sales of the company were $6,230 ...</td>\n",
              "      <td>what was the operating margin from printing pa...</td>\n",
              "      <td>Step 1: Divide 599 by 6230. This gives the res...</td>\n",
              "      <td>[[In millions, 2012, 2011, 2010], [Sales, $6,2...</td>\n",
              "      <td>[{'arg1': '599', 'arg2': '6230', 'op': 'divide...</td>\n",
              "      <td>1</td>\n",
              "    </tr>\n",
              "    <tr>\n",
              "      <th>1711</th>\n",
              "      <td>BDX/2016/page_62.pdf-3</td>\n",
              "      <td>This table provides information on the average...</td>\n",
              "      <td>what is the mathematical range of dilutive sha...</td>\n",
              "      <td>Step 1: Subtract 4410 from 4972. This gives th...</td>\n",
              "      <td>[[, 2016, 2015, 2014], [Average common shares ...</td>\n",
              "      <td>[{'arg1': '4972', 'arg2': '4410', 'op': 'minus...</td>\n",
              "      <td>1</td>\n",
              "    </tr>\n",
              "    <tr>\n",
              "      <th>1712</th>\n",
              "      <td>UNP/2016/page_21.pdf-4</td>\n",
              "      <td>This table provides information about the shar...</td>\n",
              "      <td>what percentage of the total number of shares ...</td>\n",
              "      <td>Step 1: Divide 2901167 by 9699127. This gives ...</td>\n",
              "      <td>[[Period, Total Number of Shares Purchased [a]...</td>\n",
              "      <td>[{'arg1': '2901167', 'arg2': '9699127', 'op': ...</td>\n",
              "      <td>1</td>\n",
              "    </tr>\n",
              "  </tbody>\n",
              "</table>\n",
              "<p>1713 rows × 7 columns</p>\n",
              "</div>\n",
              "    <div class=\"colab-df-buttons\">\n",
              "\n",
              "  <div class=\"colab-df-container\">\n",
              "    <button class=\"colab-df-convert\" onclick=\"convertToInteractive('df-1b31bf0a-66de-4d8e-87b0-7e5fcae8b2a9')\"\n",
              "            title=\"Convert this dataframe to an interactive table.\"\n",
              "            style=\"display:none;\">\n",
              "\n",
              "  <svg xmlns=\"http://www.w3.org/2000/svg\" height=\"24px\" viewBox=\"0 -960 960 960\">\n",
              "    <path d=\"M120-120v-720h720v720H120Zm60-500h600v-160H180v160Zm220 220h160v-160H400v160Zm0 220h160v-160H400v160ZM180-400h160v-160H180v160Zm440 0h160v-160H620v160ZM180-180h160v-160H180v160Zm440 0h160v-160H620v160Z\"/>\n",
              "  </svg>\n",
              "    </button>\n",
              "\n",
              "  <style>\n",
              "    .colab-df-container {\n",
              "      display:flex;\n",
              "      gap: 12px;\n",
              "    }\n",
              "\n",
              "    .colab-df-convert {\n",
              "      background-color: #E8F0FE;\n",
              "      border: none;\n",
              "      border-radius: 50%;\n",
              "      cursor: pointer;\n",
              "      display: none;\n",
              "      fill: #1967D2;\n",
              "      height: 32px;\n",
              "      padding: 0 0 0 0;\n",
              "      width: 32px;\n",
              "    }\n",
              "\n",
              "    .colab-df-convert:hover {\n",
              "      background-color: #E2EBFA;\n",
              "      box-shadow: 0px 1px 2px rgba(60, 64, 67, 0.3), 0px 1px 3px 1px rgba(60, 64, 67, 0.15);\n",
              "      fill: #174EA6;\n",
              "    }\n",
              "\n",
              "    .colab-df-buttons div {\n",
              "      margin-bottom: 4px;\n",
              "    }\n",
              "\n",
              "    [theme=dark] .colab-df-convert {\n",
              "      background-color: #3B4455;\n",
              "      fill: #D2E3FC;\n",
              "    }\n",
              "\n",
              "    [theme=dark] .colab-df-convert:hover {\n",
              "      background-color: #434B5C;\n",
              "      box-shadow: 0px 1px 3px 1px rgba(0, 0, 0, 0.15);\n",
              "      filter: drop-shadow(0px 1px 2px rgba(0, 0, 0, 0.3));\n",
              "      fill: #FFFFFF;\n",
              "    }\n",
              "  </style>\n",
              "\n",
              "    <script>\n",
              "      const buttonEl =\n",
              "        document.querySelector('#df-1b31bf0a-66de-4d8e-87b0-7e5fcae8b2a9 button.colab-df-convert');\n",
              "      buttonEl.style.display =\n",
              "        google.colab.kernel.accessAllowed ? 'block' : 'none';\n",
              "\n",
              "      async function convertToInteractive(key) {\n",
              "        const element = document.querySelector('#df-1b31bf0a-66de-4d8e-87b0-7e5fcae8b2a9');\n",
              "        const dataTable =\n",
              "          await google.colab.kernel.invokeFunction('convertToInteractive',\n",
              "                                                    [key], {});\n",
              "        if (!dataTable) return;\n",
              "\n",
              "        const docLinkHtml = 'Like what you see? Visit the ' +\n",
              "          '<a target=\"_blank\" href=https://colab.research.google.com/notebooks/data_table.ipynb>data table notebook</a>'\n",
              "          + ' to learn more about interactive tables.';\n",
              "        element.innerHTML = '';\n",
              "        dataTable['output_type'] = 'display_data';\n",
              "        await google.colab.output.renderOutput(dataTable, element);\n",
              "        const docLink = document.createElement('div');\n",
              "        docLink.innerHTML = docLinkHtml;\n",
              "        element.appendChild(docLink);\n",
              "      }\n",
              "    </script>\n",
              "  </div>\n",
              "\n",
              "\n",
              "<div id=\"df-1f5e69b0-5765-4048-a42c-331a700bfd04\">\n",
              "  <button class=\"colab-df-quickchart\" onclick=\"quickchart('df-1f5e69b0-5765-4048-a42c-331a700bfd04')\"\n",
              "            title=\"Suggest charts\"\n",
              "            style=\"display:none;\">\n",
              "\n",
              "<svg xmlns=\"http://www.w3.org/2000/svg\" height=\"24px\"viewBox=\"0 0 24 24\"\n",
              "     width=\"24px\">\n",
              "    <g>\n",
              "        <path d=\"M19 3H5c-1.1 0-2 .9-2 2v14c0 1.1.9 2 2 2h14c1.1 0 2-.9 2-2V5c0-1.1-.9-2-2-2zM9 17H7v-7h2v7zm4 0h-2V7h2v10zm4 0h-2v-4h2v4z\"/>\n",
              "    </g>\n",
              "</svg>\n",
              "  </button>\n",
              "\n",
              "<style>\n",
              "  .colab-df-quickchart {\n",
              "      --bg-color: #E8F0FE;\n",
              "      --fill-color: #1967D2;\n",
              "      --hover-bg-color: #E2EBFA;\n",
              "      --hover-fill-color: #174EA6;\n",
              "      --disabled-fill-color: #AAA;\n",
              "      --disabled-bg-color: #DDD;\n",
              "  }\n",
              "\n",
              "  [theme=dark] .colab-df-quickchart {\n",
              "      --bg-color: #3B4455;\n",
              "      --fill-color: #D2E3FC;\n",
              "      --hover-bg-color: #434B5C;\n",
              "      --hover-fill-color: #FFFFFF;\n",
              "      --disabled-bg-color: #3B4455;\n",
              "      --disabled-fill-color: #666;\n",
              "  }\n",
              "\n",
              "  .colab-df-quickchart {\n",
              "    background-color: var(--bg-color);\n",
              "    border: none;\n",
              "    border-radius: 50%;\n",
              "    cursor: pointer;\n",
              "    display: none;\n",
              "    fill: var(--fill-color);\n",
              "    height: 32px;\n",
              "    padding: 0;\n",
              "    width: 32px;\n",
              "  }\n",
              "\n",
              "  .colab-df-quickchart:hover {\n",
              "    background-color: var(--hover-bg-color);\n",
              "    box-shadow: 0 1px 2px rgba(60, 64, 67, 0.3), 0 1px 3px 1px rgba(60, 64, 67, 0.15);\n",
              "    fill: var(--button-hover-fill-color);\n",
              "  }\n",
              "\n",
              "  .colab-df-quickchart-complete:disabled,\n",
              "  .colab-df-quickchart-complete:disabled:hover {\n",
              "    background-color: var(--disabled-bg-color);\n",
              "    fill: var(--disabled-fill-color);\n",
              "    box-shadow: none;\n",
              "  }\n",
              "\n",
              "  .colab-df-spinner {\n",
              "    border: 2px solid var(--fill-color);\n",
              "    border-color: transparent;\n",
              "    border-bottom-color: var(--fill-color);\n",
              "    animation:\n",
              "      spin 1s steps(1) infinite;\n",
              "  }\n",
              "\n",
              "  @keyframes spin {\n",
              "    0% {\n",
              "      border-color: transparent;\n",
              "      border-bottom-color: var(--fill-color);\n",
              "      border-left-color: var(--fill-color);\n",
              "    }\n",
              "    20% {\n",
              "      border-color: transparent;\n",
              "      border-left-color: var(--fill-color);\n",
              "      border-top-color: var(--fill-color);\n",
              "    }\n",
              "    30% {\n",
              "      border-color: transparent;\n",
              "      border-left-color: var(--fill-color);\n",
              "      border-top-color: var(--fill-color);\n",
              "      border-right-color: var(--fill-color);\n",
              "    }\n",
              "    40% {\n",
              "      border-color: transparent;\n",
              "      border-right-color: var(--fill-color);\n",
              "      border-top-color: var(--fill-color);\n",
              "    }\n",
              "    60% {\n",
              "      border-color: transparent;\n",
              "      border-right-color: var(--fill-color);\n",
              "    }\n",
              "    80% {\n",
              "      border-color: transparent;\n",
              "      border-right-color: var(--fill-color);\n",
              "      border-bottom-color: var(--fill-color);\n",
              "    }\n",
              "    90% {\n",
              "      border-color: transparent;\n",
              "      border-bottom-color: var(--fill-color);\n",
              "    }\n",
              "  }\n",
              "</style>\n",
              "\n",
              "  <script>\n",
              "    async function quickchart(key) {\n",
              "      const quickchartButtonEl =\n",
              "        document.querySelector('#' + key + ' button');\n",
              "      quickchartButtonEl.disabled = true;  // To prevent multiple clicks.\n",
              "      quickchartButtonEl.classList.add('colab-df-spinner');\n",
              "      try {\n",
              "        const charts = await google.colab.kernel.invokeFunction(\n",
              "            'suggestCharts', [key], {});\n",
              "      } catch (error) {\n",
              "        console.error('Error during call to suggestCharts:', error);\n",
              "      }\n",
              "      quickchartButtonEl.classList.remove('colab-df-spinner');\n",
              "      quickchartButtonEl.classList.add('colab-df-quickchart-complete');\n",
              "    }\n",
              "    (() => {\n",
              "      let quickchartButtonEl =\n",
              "        document.querySelector('#df-1f5e69b0-5765-4048-a42c-331a700bfd04 button');\n",
              "      quickchartButtonEl.style.display =\n",
              "        google.colab.kernel.accessAllowed ? 'block' : 'none';\n",
              "    })();\n",
              "  </script>\n",
              "</div>\n",
              "\n",
              "  <div id=\"id_5603adff-7c2f-4a69-ab85-911b85a39331\">\n",
              "    <style>\n",
              "      .colab-df-generate {\n",
              "        background-color: #E8F0FE;\n",
              "        border: none;\n",
              "        border-radius: 50%;\n",
              "        cursor: pointer;\n",
              "        display: none;\n",
              "        fill: #1967D2;\n",
              "        height: 32px;\n",
              "        padding: 0 0 0 0;\n",
              "        width: 32px;\n",
              "      }\n",
              "\n",
              "      .colab-df-generate:hover {\n",
              "        background-color: #E2EBFA;\n",
              "        box-shadow: 0px 1px 2px rgba(60, 64, 67, 0.3), 0px 1px 3px 1px rgba(60, 64, 67, 0.15);\n",
              "        fill: #174EA6;\n",
              "      }\n",
              "\n",
              "      [theme=dark] .colab-df-generate {\n",
              "        background-color: #3B4455;\n",
              "        fill: #D2E3FC;\n",
              "      }\n",
              "\n",
              "      [theme=dark] .colab-df-generate:hover {\n",
              "        background-color: #434B5C;\n",
              "        box-shadow: 0px 1px 3px 1px rgba(0, 0, 0, 0.15);\n",
              "        filter: drop-shadow(0px 1px 2px rgba(0, 0, 0, 0.3));\n",
              "        fill: #FFFFFF;\n",
              "      }\n",
              "    </style>\n",
              "    <button class=\"colab-df-generate\" onclick=\"generateWithVariable('df_train')\"\n",
              "            title=\"Generate code using this dataframe.\"\n",
              "            style=\"display:none;\">\n",
              "\n",
              "  <svg xmlns=\"http://www.w3.org/2000/svg\" height=\"24px\"viewBox=\"0 0 24 24\"\n",
              "       width=\"24px\">\n",
              "    <path d=\"M7,19H8.4L18.45,9,17,7.55,7,17.6ZM5,21V16.75L18.45,3.32a2,2,0,0,1,2.83,0l1.4,1.43a1.91,1.91,0,0,1,.58,1.4,1.91,1.91,0,0,1-.58,1.4L9.25,21ZM18.45,9,17,7.55Zm-12,3A5.31,5.31,0,0,0,4.9,8.1,5.31,5.31,0,0,0,1,6.5,5.31,5.31,0,0,0,4.9,4.9,5.31,5.31,0,0,0,6.5,1,5.31,5.31,0,0,0,8.1,4.9,5.31,5.31,0,0,0,12,6.5,5.46,5.46,0,0,0,6.5,12Z\"/>\n",
              "  </svg>\n",
              "    </button>\n",
              "    <script>\n",
              "      (() => {\n",
              "      const buttonEl =\n",
              "        document.querySelector('#id_5603adff-7c2f-4a69-ab85-911b85a39331 button.colab-df-generate');\n",
              "      buttonEl.style.display =\n",
              "        google.colab.kernel.accessAllowed ? 'block' : 'none';\n",
              "\n",
              "      buttonEl.onclick = () => {\n",
              "        google.colab.notebook.generateWithVariable('df_train');\n",
              "      }\n",
              "      })();\n",
              "    </script>\n",
              "  </div>\n",
              "\n",
              "    </div>\n",
              "  </div>\n"
            ]
          },
          "metadata": {},
          "execution_count": 34
        }
      ]
    },
    {
      "cell_type": "code",
      "source": [
        "list_indices=[15,45,21]\n",
        "\n",
        "prompt=''\n",
        "dash_line = '-'.join('' for x in range(100))\n",
        "for i,j in enumerate(list_indices):\n",
        "  context = datasets['train'][j]['context']\n",
        "  answer = datasets['train'][j]['answer']\n",
        "  question = datasets['train'][j]['question']\n",
        "\n",
        "  prompt+= f\"\"\"\n",
        "  ### Instruction: Answer the question in a single step by extracting relevant values from the context given below. Perform the necessary arithmetic operation.\n",
        "\n",
        "  ### Context:\n",
        "  {context}\n",
        "\n",
        "  ### Question:\n",
        "  {question}\n",
        "\n",
        "  ### Answer:\n",
        "  {answer}\n",
        "  \"\"\"\n",
        "  prompt+=dash_line"
      ],
      "metadata": {
        "id": "oi7ty6Bei2eZ"
      },
      "execution_count": 35,
      "outputs": []
    },
    {
      "cell_type": "code",
      "source": [
        "print(prompt)"
      ],
      "metadata": {
        "colab": {
          "base_uri": "https://localhost:8080/"
        },
        "id": "Y1BDAiV5jWLH",
        "outputId": "b68dc84d-2fc6-4ca3-c16e-466a3054c5e5"
      },
      "execution_count": 36,
      "outputs": [
        {
          "output_type": "stream",
          "name": "stdout",
          "text": [
            "\n",
            "  ### Instruction: Answer the question in a single step by extracting relevant values from the context given below. Perform the necessary arithmetic operation.\n",
            "\n",
            "  ### Context:\n",
            "  In the year ended December 31, 2013, the net interest income for the company was $31 million, which decreased from $38 million in 2012. The noninterest income increased from $272 million in 2012 to $286 million in 2013. The total customer-related trading revenue was $317 million in both years. However, the securities underwriting and trading revenue decreased from $100 million in 2012 to $78 million in 2013. The company also generated $94 million and $92 million from foreign exchange in 2013 and 2012, respectively. Additionally, they earned $145 million and $118 million from financial derivatives and other sources in 2013 and 2012, respectively.\n",
            "\n",
            "  ### Question:\n",
            "  for 2013 and 2012 , what was total noninterest income in millions?\n",
            "\n",
            "  ### Answer:\n",
            "  Step 1: Add 286 and 272. This gives the result: 558\n",
            "  ---------------------------------------------------------------------------------------------------\n",
            "  ### Instruction: Answer the question in a single step by extracting relevant values from the context given below. Perform the necessary arithmetic operation.\n",
            "\n",
            "  ### Context:\n",
            "  In 2013, the nonoperating income on a GAAP basis was $116 million, whereas in 2012, it was a loss of $54 million. In 2011, it was a loss of $114 million. After subtracting the net income attributable to noncontrolling interests, the nonoperating income for 2013 was $97 million, a decrease from 2012's $36 million loss and 2011's $116 million loss. There was a gain of $80 million related to charitable contribution in 2013. Additionally, there was a compensation expense of $10 million related to the appreciation and depreciation on deferred compensation plans in 2013. When adjusted for the net income attributable to noncontrolling interests, the nonoperating income for 2013 was $7 million, whereas it was a loss of $42 million and $113 million in 2012 and 2011, respectively.\n",
            "\n",
            "  ### Question:\n",
            "  what is the tax benefit as a percentage of nonoperating income ( expense ) on a gaap basis in 2013?\n",
            "\n",
            "  ### Answer:\n",
            "  Step 1: Divide 48 by 116. This gives the result: 41.4%\n",
            "  ---------------------------------------------------------------------------------------------------\n",
            "  ### Instruction: Answer the question in a single step by extracting relevant values from the context given below. Perform the necessary arithmetic operation.\n",
            "\n",
            "  ### Context:\n",
            "  This table lists the dividend amounts, declaration dates, record dates, and payment dates for a company's stock. The first column lists the amount of the dividend, while the following columns list the dates associated with each dividend payment. The company paid a dividend of $0.0425 on February 12, 2014, with a record date of February 25, 2014, and a payment date of March 10, 2014. Subsequent dividends of the same amount were paid on May 8, 2014 (record date of May 27, 2014, payment date of June 10, 2014) and July 31, 2014 (record date of August 25, 2014, payment date of September 10, 2014). The company then increased the dividend to $0.0675, with the next payment on November 6, 2014 (record date of November 25, 2014, payment date of December 10, 2014).\n",
            "\n",
            "  ### Question:\n",
            "  if you held 1000 shares on may 30 , 2014 , how much would you receive in dividends?\n",
            "\n",
            "  ### Answer:\n",
            "  Step 1: Multiply 0.0425 by 1000. This gives the result: 42.5\n",
            "  ---------------------------------------------------------------------------------------------------\n"
          ]
        }
      ]
    },
    {
      "cell_type": "code",
      "source": [
        "def output_fewshot(row,prompt=prompt):\n",
        "  context = row['context']\n",
        "  question = row['question']\n",
        "  answer = row['answer']\n",
        "\n",
        "  prompt+= f\"\"\"\n",
        "### Instruction: Answer the question in a single step by extracting relevant values from the context given below. Perform the necessary arithmetic operation.\n",
        "Follow the examples presented above and answer the question in a similar way.\n",
        "\n",
        "### Context:\n",
        "{context}\n",
        "\n",
        "### Question:\n",
        "{question}\n",
        "\n",
        "### Answer:\n",
        "\"\"\"\n",
        "  try:\n",
        "    inputs = tokenizer(prompt, return_tensors='pt')\n",
        "    output = tokenizer.decode(\n",
        "        model.generate(\n",
        "            inputs[\"input_ids\"],\n",
        "            temperature=0.1,\n",
        "            do_sample=True,\n",
        "            max_new_tokens=128,\n",
        "        )[0],\n",
        "        skip_special_tokens=True\n",
        "    )\n",
        "    ##Post-Processing the Output\n",
        "    split_text = re.split(r'-{5,}', output)\n",
        "    last_segment = split_text[-1].strip()\n",
        "    ans_dict=extract_info(last_segment)\n",
        "\n",
        "    return ans_dict\n",
        "  except:\n",
        "    return {'answer':None}"
      ],
      "metadata": {
        "id": "v6DMmtrpjW8u"
      },
      "execution_count": 37,
      "outputs": []
    },
    {
      "cell_type": "code",
      "source": [
        "from tqdm import tqdm\n",
        "tqdm.pandas(desc=\"Progress:\")"
      ],
      "metadata": {
        "id": "muRHu531kyRt"
      },
      "execution_count": 38,
      "outputs": []
    },
    {
      "cell_type": "code",
      "source": [
        "import warnings\n",
        "warnings.filterwarnings('ignore')\n",
        "df_train.head(2).progress_apply(lambda row:output_fewshot(row,prompt),axis=1)"
      ],
      "metadata": {
        "colab": {
          "base_uri": "https://localhost:8080/"
        },
        "id": "qJpw4SKPpYJa",
        "outputId": "eded9b51-5069-4d6d-cf72-6abe1721a27b"
      },
      "execution_count": 41,
      "outputs": [
        {
          "output_type": "stream",
          "name": "stderr",
          "text": [
            "Progress:: 100%|██████████| 2/2 [00:34<00:00, 17.29s/it]\n"
          ]
        },
        {
          "output_type": "execute_result",
          "data": {
            "text/plain": [
              "0    {'Answer': 'Step 1: Divide 1733 by 2655. This ...\n",
              "1                                                 None\n",
              "dtype: object"
            ]
          },
          "metadata": {},
          "execution_count": 41
        }
      ]
    },
    {
      "cell_type": "code",
      "source": [
        "df_train_subset=df_train.head(500)"
      ],
      "metadata": {
        "id": "QlzDFT5Xpvfb"
      },
      "execution_count": 42,
      "outputs": []
    },
    {
      "cell_type": "code",
      "source": [
        "df_train_subset.loc[:,\"fewshot_answers\"]=df_train_subset.progress_apply(lambda row:output_fewshot(row,prompt),axis=1)"
      ],
      "metadata": {
        "colab": {
          "base_uri": "https://localhost:8080/"
        },
        "id": "8BsSD16WkcPy",
        "outputId": "dfdc278e-15d2-4697-948a-334b2da80cd8"
      },
      "execution_count": 43,
      "outputs": [
        {
          "output_type": "stream",
          "name": "stderr",
          "text": [
            "Progress:: 100%|██████████| 500/500 [1:58:56<00:00, 14.27s/it]\n"
          ]
        }
      ]
    },
    {
      "cell_type": "code",
      "source": [
        "df_train_subset.to_csv(\"./fewshot_answers_train_subset.csv\",index=False)"
      ],
      "metadata": {
        "id": "bD9TFEmlFI2X"
      },
      "execution_count": 47,
      "outputs": []
    },
    {
      "cell_type": "code",
      "source": [
        "df_train_subset[df_train_subset['fewshot_answers'].isna()].loc[1.'context']"
      ],
      "metadata": {
        "colab": {
          "base_uri": "https://localhost:8080/",
          "height": 597
        },
        "id": "zaW0Z2S6Fyls",
        "outputId": "8198fe9b-2eef-415b-b42a-7a841d142765"
      },
      "execution_count": 50,
      "outputs": [
        {
          "output_type": "execute_result",
          "data": {
            "text/plain": [
              "                          id  \\\n",
              "1      GS/2014/page_47.pdf-3   \n",
              "7     HII/2018/page_64.pdf-4   \n",
              "12    JPM/2018/page_73.pdf-5   \n",
              "19    WRK/2018/page_86.pdf-3   \n",
              "20    OKE/2008/page_38.pdf-2   \n",
              "..                       ...   \n",
              "477   JPM/2010/page_59.pdf-2   \n",
              "484  AAPL/2008/page_38.pdf-2   \n",
              "487  AAPL/2012/page_38.pdf-1   \n",
              "495  CDNS/2006/page_42.pdf-4   \n",
              "496  UPS/2015/page_108.pdf-1   \n",
              "\n",
              "                                               context  \\\n",
              "1    The table above shows the financial informatio...   \n",
              "7    The table above shows the backlog of three dif...   \n",
              "12   The table presents the stock prices and perfor...   \n",
              "19   The table provides information on the Weighted...   \n",
              "20   The table shows information about three differ...   \n",
              "..                                                 ...   \n",
              "477  The table provides a breakdown of revenue for ...   \n",
              "484  The given table provides the stock prices of A...   \n",
              "487  The table above shows financial data for a com...   \n",
              "495  The table displays the allocation of expenses ...   \n",
              "496  The table represents the financial information...   \n",
              "\n",
              "                                              question  \\\n",
              "1    in 2013 what percentage of total net revenues ...   \n",
              "7    what portion of total backlog is related to in...   \n",
              "12   did jpmorgan chase outperform the kbw bank index?   \n",
              "19   how much of the cost of the acquisition was no...   \n",
              "20   as of january 31 , 2009 what percentage of emp...   \n",
              "..                                                 ...   \n",
              "477  what was noninterest revenue as a percent of t...   \n",
              "484  what was the change in cumulative total return...   \n",
              "487  what was the increase in annual operating cash...   \n",
              "495  what was the change in research and developmen...   \n",
              "496  what is the difference in total property , pla...   \n",
              "\n",
              "                                                answer  \\\n",
              "1    Step 1: Divide 1947 by 7018. This gives the re...   \n",
              "7    Step 1: Divide 7991 by 21367. This gives the r...   \n",
              "12   Step 1: Check if 189.57 is greater than 137.82...   \n",
              "19   Step 1: Subtract 24.8 from 34.6. This gives th...   \n",
              "20   Step 1: Divide 312 by 4742. This gives the res...   \n",
              "..                                                 ...   \n",
              "477  Step 1: Divide 51693 by 102694. This gives the...   \n",
              "484  Step 1: Subtract 114 from const_100. This give...   \n",
              "487  Step 1: Subtract 18595 from 50856. This gives ...   \n",
              "495  Step 1: Subtract 29% from 31%. This gives the ...   \n",
              "496  Step 1: Subtract 1791 from 1721. This gives th...   \n",
              "\n",
              "                                                 table  \\\n",
              "1    [[, Year Ended December], [<i>$ in millions</i...   \n",
              "7    [[, December 31, 2018, December 31, 2017], [($...   \n",
              "12   [[December 31,(in dollars), 2013, 2014, 2015, ...   \n",
              "19   [[, Weighted Avg.Life, AmountsRecognized as of...   \n",
              "20   [[Union, Employees, Contract Expires], [United...   \n",
              "..                                                 ...   \n",
              "477  [[Year ended December 31, (in millions), 2010,...   \n",
              "484  [[, Sep-03, Sep-04, Sep-05, Sep-06, Sep-07, Se...   \n",
              "487  [[, 2012, 2011, 2010], [Cash, cash equivalents...   \n",
              "495  [[, 2006, 2005, 2004], [Marketing and sales, 2...   \n",
              "496  [[, 2015, 2014], [Vehicles, $74, $86], [Aircra...   \n",
              "\n",
              "                                          answer_steps  num_steps  \\\n",
              "1    [{'arg1': '1947', 'arg2': '7018', 'op': 'divid...          1   \n",
              "7    [{'arg1': '7991', 'arg2': '21367', 'op': 'divi...          1   \n",
              "12   [{'arg1': '189.57', 'arg2': '137.82', 'op': 'c...          1   \n",
              "19   [{'arg1': '34.6', 'arg2': '24.8', 'op': 'minus...          1   \n",
              "20   [{'arg1': '312', 'arg2': '4742', 'op': 'divide...          1   \n",
              "..                                                 ...        ...   \n",
              "477  [{'arg1': '51693', 'arg2': '102694', 'op': 'di...          1   \n",
              "484  [{'arg1': 'const_100', 'arg2': '114', 'op': 'm...          1   \n",
              "487  [{'arg1': '50856', 'arg2': '18595', 'op': 'min...          1   \n",
              "495  [{'arg1': '31%', 'arg2': '29%', 'op': 'minus2-...          1   \n",
              "496  [{'arg1': '1721', 'arg2': '1791', 'op': 'minus...          1   \n",
              "\n",
              "    fewshot_answers  \n",
              "1              None  \n",
              "7              None  \n",
              "12             None  \n",
              "19             None  \n",
              "20             None  \n",
              "..              ...  \n",
              "477            None  \n",
              "484            None  \n",
              "487            None  \n",
              "495            None  \n",
              "496            None  \n",
              "\n",
              "[153 rows x 8 columns]"
            ],
            "text/html": [
              "\n",
              "  <div id=\"df-3834e287-61de-4b2a-8c4d-88fa017334de\" class=\"colab-df-container\">\n",
              "    <div>\n",
              "<style scoped>\n",
              "    .dataframe tbody tr th:only-of-type {\n",
              "        vertical-align: middle;\n",
              "    }\n",
              "\n",
              "    .dataframe tbody tr th {\n",
              "        vertical-align: top;\n",
              "    }\n",
              "\n",
              "    .dataframe thead th {\n",
              "        text-align: right;\n",
              "    }\n",
              "</style>\n",
              "<table border=\"1\" class=\"dataframe\">\n",
              "  <thead>\n",
              "    <tr style=\"text-align: right;\">\n",
              "      <th></th>\n",
              "      <th>id</th>\n",
              "      <th>context</th>\n",
              "      <th>question</th>\n",
              "      <th>answer</th>\n",
              "      <th>table</th>\n",
              "      <th>answer_steps</th>\n",
              "      <th>num_steps</th>\n",
              "      <th>fewshot_answers</th>\n",
              "    </tr>\n",
              "  </thead>\n",
              "  <tbody>\n",
              "    <tr>\n",
              "      <th>1</th>\n",
              "      <td>GS/2014/page_47.pdf-3</td>\n",
              "      <td>The table above shows the financial informatio...</td>\n",
              "      <td>in 2013 what percentage of total net revenues ...</td>\n",
              "      <td>Step 1: Divide 1947 by 7018. This gives the re...</td>\n",
              "      <td>[[, Year Ended December], [&lt;i&gt;$ in millions&lt;/i...</td>\n",
              "      <td>[{'arg1': '1947', 'arg2': '7018', 'op': 'divid...</td>\n",
              "      <td>1</td>\n",
              "      <td>None</td>\n",
              "    </tr>\n",
              "    <tr>\n",
              "      <th>7</th>\n",
              "      <td>HII/2018/page_64.pdf-4</td>\n",
              "      <td>The table above shows the backlog of three dif...</td>\n",
              "      <td>what portion of total backlog is related to in...</td>\n",
              "      <td>Step 1: Divide 7991 by 21367. This gives the r...</td>\n",
              "      <td>[[, December 31, 2018, December 31, 2017], [($...</td>\n",
              "      <td>[{'arg1': '7991', 'arg2': '21367', 'op': 'divi...</td>\n",
              "      <td>1</td>\n",
              "      <td>None</td>\n",
              "    </tr>\n",
              "    <tr>\n",
              "      <th>12</th>\n",
              "      <td>JPM/2018/page_73.pdf-5</td>\n",
              "      <td>The table presents the stock prices and perfor...</td>\n",
              "      <td>did jpmorgan chase outperform the kbw bank index?</td>\n",
              "      <td>Step 1: Check if 189.57 is greater than 137.82...</td>\n",
              "      <td>[[December 31,(in dollars), 2013, 2014, 2015, ...</td>\n",
              "      <td>[{'arg1': '189.57', 'arg2': '137.82', 'op': 'c...</td>\n",
              "      <td>1</td>\n",
              "      <td>None</td>\n",
              "    </tr>\n",
              "    <tr>\n",
              "      <th>19</th>\n",
              "      <td>WRK/2018/page_86.pdf-3</td>\n",
              "      <td>The table provides information on the Weighted...</td>\n",
              "      <td>how much of the cost of the acquisition was no...</td>\n",
              "      <td>Step 1: Subtract 24.8 from 34.6. This gives th...</td>\n",
              "      <td>[[, Weighted Avg.Life, AmountsRecognized as of...</td>\n",
              "      <td>[{'arg1': '34.6', 'arg2': '24.8', 'op': 'minus...</td>\n",
              "      <td>1</td>\n",
              "      <td>None</td>\n",
              "    </tr>\n",
              "    <tr>\n",
              "      <th>20</th>\n",
              "      <td>OKE/2008/page_38.pdf-2</td>\n",
              "      <td>The table shows information about three differ...</td>\n",
              "      <td>as of january 31 , 2009 what percentage of emp...</td>\n",
              "      <td>Step 1: Divide 312 by 4742. This gives the res...</td>\n",
              "      <td>[[Union, Employees, Contract Expires], [United...</td>\n",
              "      <td>[{'arg1': '312', 'arg2': '4742', 'op': 'divide...</td>\n",
              "      <td>1</td>\n",
              "      <td>None</td>\n",
              "    </tr>\n",
              "    <tr>\n",
              "      <th>...</th>\n",
              "      <td>...</td>\n",
              "      <td>...</td>\n",
              "      <td>...</td>\n",
              "      <td>...</td>\n",
              "      <td>...</td>\n",
              "      <td>...</td>\n",
              "      <td>...</td>\n",
              "      <td>...</td>\n",
              "    </tr>\n",
              "    <tr>\n",
              "      <th>477</th>\n",
              "      <td>JPM/2010/page_59.pdf-2</td>\n",
              "      <td>The table provides a breakdown of revenue for ...</td>\n",
              "      <td>what was noninterest revenue as a percent of t...</td>\n",
              "      <td>Step 1: Divide 51693 by 102694. This gives the...</td>\n",
              "      <td>[[Year ended December 31, (in millions), 2010,...</td>\n",
              "      <td>[{'arg1': '51693', 'arg2': '102694', 'op': 'di...</td>\n",
              "      <td>1</td>\n",
              "      <td>None</td>\n",
              "    </tr>\n",
              "    <tr>\n",
              "      <th>484</th>\n",
              "      <td>AAPL/2008/page_38.pdf-2</td>\n",
              "      <td>The given table provides the stock prices of A...</td>\n",
              "      <td>what was the change in cumulative total return...</td>\n",
              "      <td>Step 1: Subtract 114 from const_100. This give...</td>\n",
              "      <td>[[, Sep-03, Sep-04, Sep-05, Sep-06, Sep-07, Se...</td>\n",
              "      <td>[{'arg1': 'const_100', 'arg2': '114', 'op': 'm...</td>\n",
              "      <td>1</td>\n",
              "      <td>None</td>\n",
              "    </tr>\n",
              "    <tr>\n",
              "      <th>487</th>\n",
              "      <td>AAPL/2012/page_38.pdf-1</td>\n",
              "      <td>The table above shows financial data for a com...</td>\n",
              "      <td>what was the increase in annual operating cash...</td>\n",
              "      <td>Step 1: Subtract 18595 from 50856. This gives ...</td>\n",
              "      <td>[[, 2012, 2011, 2010], [Cash, cash equivalents...</td>\n",
              "      <td>[{'arg1': '50856', 'arg2': '18595', 'op': 'min...</td>\n",
              "      <td>1</td>\n",
              "      <td>None</td>\n",
              "    </tr>\n",
              "    <tr>\n",
              "      <th>495</th>\n",
              "      <td>CDNS/2006/page_42.pdf-4</td>\n",
              "      <td>The table displays the allocation of expenses ...</td>\n",
              "      <td>what was the change in research and developmen...</td>\n",
              "      <td>Step 1: Subtract 29% from 31%. This gives the ...</td>\n",
              "      <td>[[, 2006, 2005, 2004], [Marketing and sales, 2...</td>\n",
              "      <td>[{'arg1': '31%', 'arg2': '29%', 'op': 'minus2-...</td>\n",
              "      <td>1</td>\n",
              "      <td>None</td>\n",
              "    </tr>\n",
              "    <tr>\n",
              "      <th>496</th>\n",
              "      <td>UPS/2015/page_108.pdf-1</td>\n",
              "      <td>The table represents the financial information...</td>\n",
              "      <td>what is the difference in total property , pla...</td>\n",
              "      <td>Step 1: Subtract 1791 from 1721. This gives th...</td>\n",
              "      <td>[[, 2015, 2014], [Vehicles, $74, $86], [Aircra...</td>\n",
              "      <td>[{'arg1': '1721', 'arg2': '1791', 'op': 'minus...</td>\n",
              "      <td>1</td>\n",
              "      <td>None</td>\n",
              "    </tr>\n",
              "  </tbody>\n",
              "</table>\n",
              "<p>153 rows × 8 columns</p>\n",
              "</div>\n",
              "    <div class=\"colab-df-buttons\">\n",
              "\n",
              "  <div class=\"colab-df-container\">\n",
              "    <button class=\"colab-df-convert\" onclick=\"convertToInteractive('df-3834e287-61de-4b2a-8c4d-88fa017334de')\"\n",
              "            title=\"Convert this dataframe to an interactive table.\"\n",
              "            style=\"display:none;\">\n",
              "\n",
              "  <svg xmlns=\"http://www.w3.org/2000/svg\" height=\"24px\" viewBox=\"0 -960 960 960\">\n",
              "    <path d=\"M120-120v-720h720v720H120Zm60-500h600v-160H180v160Zm220 220h160v-160H400v160Zm0 220h160v-160H400v160ZM180-400h160v-160H180v160Zm440 0h160v-160H620v160ZM180-180h160v-160H180v160Zm440 0h160v-160H620v160Z\"/>\n",
              "  </svg>\n",
              "    </button>\n",
              "\n",
              "  <style>\n",
              "    .colab-df-container {\n",
              "      display:flex;\n",
              "      gap: 12px;\n",
              "    }\n",
              "\n",
              "    .colab-df-convert {\n",
              "      background-color: #E8F0FE;\n",
              "      border: none;\n",
              "      border-radius: 50%;\n",
              "      cursor: pointer;\n",
              "      display: none;\n",
              "      fill: #1967D2;\n",
              "      height: 32px;\n",
              "      padding: 0 0 0 0;\n",
              "      width: 32px;\n",
              "    }\n",
              "\n",
              "    .colab-df-convert:hover {\n",
              "      background-color: #E2EBFA;\n",
              "      box-shadow: 0px 1px 2px rgba(60, 64, 67, 0.3), 0px 1px 3px 1px rgba(60, 64, 67, 0.15);\n",
              "      fill: #174EA6;\n",
              "    }\n",
              "\n",
              "    .colab-df-buttons div {\n",
              "      margin-bottom: 4px;\n",
              "    }\n",
              "\n",
              "    [theme=dark] .colab-df-convert {\n",
              "      background-color: #3B4455;\n",
              "      fill: #D2E3FC;\n",
              "    }\n",
              "\n",
              "    [theme=dark] .colab-df-convert:hover {\n",
              "      background-color: #434B5C;\n",
              "      box-shadow: 0px 1px 3px 1px rgba(0, 0, 0, 0.15);\n",
              "      filter: drop-shadow(0px 1px 2px rgba(0, 0, 0, 0.3));\n",
              "      fill: #FFFFFF;\n",
              "    }\n",
              "  </style>\n",
              "\n",
              "    <script>\n",
              "      const buttonEl =\n",
              "        document.querySelector('#df-3834e287-61de-4b2a-8c4d-88fa017334de button.colab-df-convert');\n",
              "      buttonEl.style.display =\n",
              "        google.colab.kernel.accessAllowed ? 'block' : 'none';\n",
              "\n",
              "      async function convertToInteractive(key) {\n",
              "        const element = document.querySelector('#df-3834e287-61de-4b2a-8c4d-88fa017334de');\n",
              "        const dataTable =\n",
              "          await google.colab.kernel.invokeFunction('convertToInteractive',\n",
              "                                                    [key], {});\n",
              "        if (!dataTable) return;\n",
              "\n",
              "        const docLinkHtml = 'Like what you see? Visit the ' +\n",
              "          '<a target=\"_blank\" href=https://colab.research.google.com/notebooks/data_table.ipynb>data table notebook</a>'\n",
              "          + ' to learn more about interactive tables.';\n",
              "        element.innerHTML = '';\n",
              "        dataTable['output_type'] = 'display_data';\n",
              "        await google.colab.output.renderOutput(dataTable, element);\n",
              "        const docLink = document.createElement('div');\n",
              "        docLink.innerHTML = docLinkHtml;\n",
              "        element.appendChild(docLink);\n",
              "      }\n",
              "    </script>\n",
              "  </div>\n",
              "\n",
              "\n",
              "<div id=\"df-7f07579e-2171-40b0-afbd-2c5c9616cd5e\">\n",
              "  <button class=\"colab-df-quickchart\" onclick=\"quickchart('df-7f07579e-2171-40b0-afbd-2c5c9616cd5e')\"\n",
              "            title=\"Suggest charts\"\n",
              "            style=\"display:none;\">\n",
              "\n",
              "<svg xmlns=\"http://www.w3.org/2000/svg\" height=\"24px\"viewBox=\"0 0 24 24\"\n",
              "     width=\"24px\">\n",
              "    <g>\n",
              "        <path d=\"M19 3H5c-1.1 0-2 .9-2 2v14c0 1.1.9 2 2 2h14c1.1 0 2-.9 2-2V5c0-1.1-.9-2-2-2zM9 17H7v-7h2v7zm4 0h-2V7h2v10zm4 0h-2v-4h2v4z\"/>\n",
              "    </g>\n",
              "</svg>\n",
              "  </button>\n",
              "\n",
              "<style>\n",
              "  .colab-df-quickchart {\n",
              "      --bg-color: #E8F0FE;\n",
              "      --fill-color: #1967D2;\n",
              "      --hover-bg-color: #E2EBFA;\n",
              "      --hover-fill-color: #174EA6;\n",
              "      --disabled-fill-color: #AAA;\n",
              "      --disabled-bg-color: #DDD;\n",
              "  }\n",
              "\n",
              "  [theme=dark] .colab-df-quickchart {\n",
              "      --bg-color: #3B4455;\n",
              "      --fill-color: #D2E3FC;\n",
              "      --hover-bg-color: #434B5C;\n",
              "      --hover-fill-color: #FFFFFF;\n",
              "      --disabled-bg-color: #3B4455;\n",
              "      --disabled-fill-color: #666;\n",
              "  }\n",
              "\n",
              "  .colab-df-quickchart {\n",
              "    background-color: var(--bg-color);\n",
              "    border: none;\n",
              "    border-radius: 50%;\n",
              "    cursor: pointer;\n",
              "    display: none;\n",
              "    fill: var(--fill-color);\n",
              "    height: 32px;\n",
              "    padding: 0;\n",
              "    width: 32px;\n",
              "  }\n",
              "\n",
              "  .colab-df-quickchart:hover {\n",
              "    background-color: var(--hover-bg-color);\n",
              "    box-shadow: 0 1px 2px rgba(60, 64, 67, 0.3), 0 1px 3px 1px rgba(60, 64, 67, 0.15);\n",
              "    fill: var(--button-hover-fill-color);\n",
              "  }\n",
              "\n",
              "  .colab-df-quickchart-complete:disabled,\n",
              "  .colab-df-quickchart-complete:disabled:hover {\n",
              "    background-color: var(--disabled-bg-color);\n",
              "    fill: var(--disabled-fill-color);\n",
              "    box-shadow: none;\n",
              "  }\n",
              "\n",
              "  .colab-df-spinner {\n",
              "    border: 2px solid var(--fill-color);\n",
              "    border-color: transparent;\n",
              "    border-bottom-color: var(--fill-color);\n",
              "    animation:\n",
              "      spin 1s steps(1) infinite;\n",
              "  }\n",
              "\n",
              "  @keyframes spin {\n",
              "    0% {\n",
              "      border-color: transparent;\n",
              "      border-bottom-color: var(--fill-color);\n",
              "      border-left-color: var(--fill-color);\n",
              "    }\n",
              "    20% {\n",
              "      border-color: transparent;\n",
              "      border-left-color: var(--fill-color);\n",
              "      border-top-color: var(--fill-color);\n",
              "    }\n",
              "    30% {\n",
              "      border-color: transparent;\n",
              "      border-left-color: var(--fill-color);\n",
              "      border-top-color: var(--fill-color);\n",
              "      border-right-color: var(--fill-color);\n",
              "    }\n",
              "    40% {\n",
              "      border-color: transparent;\n",
              "      border-right-color: var(--fill-color);\n",
              "      border-top-color: var(--fill-color);\n",
              "    }\n",
              "    60% {\n",
              "      border-color: transparent;\n",
              "      border-right-color: var(--fill-color);\n",
              "    }\n",
              "    80% {\n",
              "      border-color: transparent;\n",
              "      border-right-color: var(--fill-color);\n",
              "      border-bottom-color: var(--fill-color);\n",
              "    }\n",
              "    90% {\n",
              "      border-color: transparent;\n",
              "      border-bottom-color: var(--fill-color);\n",
              "    }\n",
              "  }\n",
              "</style>\n",
              "\n",
              "  <script>\n",
              "    async function quickchart(key) {\n",
              "      const quickchartButtonEl =\n",
              "        document.querySelector('#' + key + ' button');\n",
              "      quickchartButtonEl.disabled = true;  // To prevent multiple clicks.\n",
              "      quickchartButtonEl.classList.add('colab-df-spinner');\n",
              "      try {\n",
              "        const charts = await google.colab.kernel.invokeFunction(\n",
              "            'suggestCharts', [key], {});\n",
              "      } catch (error) {\n",
              "        console.error('Error during call to suggestCharts:', error);\n",
              "      }\n",
              "      quickchartButtonEl.classList.remove('colab-df-spinner');\n",
              "      quickchartButtonEl.classList.add('colab-df-quickchart-complete');\n",
              "    }\n",
              "    (() => {\n",
              "      let quickchartButtonEl =\n",
              "        document.querySelector('#df-7f07579e-2171-40b0-afbd-2c5c9616cd5e button');\n",
              "      quickchartButtonEl.style.display =\n",
              "        google.colab.kernel.accessAllowed ? 'block' : 'none';\n",
              "    })();\n",
              "  </script>\n",
              "</div>\n",
              "\n",
              "    </div>\n",
              "  </div>\n"
            ]
          },
          "metadata": {},
          "execution_count": 50
        }
      ]
    },
    {
      "cell_type": "code",
      "source": [
        "df_train_subset[df_train_subset['fewshot_answers'].isna()].loc[487,'question']"
      ],
      "metadata": {
        "colab": {
          "base_uri": "https://localhost:8080/",
          "height": 35
        },
        "id": "QJwSvteUGvQX",
        "outputId": "9418fba2-7bd3-4e27-c550-17596530cbc3"
      },
      "execution_count": 56,
      "outputs": [
        {
          "output_type": "execute_result",
          "data": {
            "text/plain": [
              "'what was the increase in annual operating cash flow between 2010 and 2012?'"
            ],
            "application/vnd.google.colaboratory.intrinsic+json": {
              "type": "string"
            }
          },
          "metadata": {},
          "execution_count": 56
        }
      ]
    },
    {
      "cell_type": "code",
      "source": [
        "df_train_subset[df_train_subset['fewshot_answers'].isna()].loc[487,'table']"
      ],
      "metadata": {
        "colab": {
          "base_uri": "https://localhost:8080/"
        },
        "id": "IvbIsdCrGo-k",
        "outputId": "ffa6227e-59e4-45b2-8d31-e78e80b86b6d"
      },
      "execution_count": 57,
      "outputs": [
        {
          "output_type": "execute_result",
          "data": {
            "text/plain": [
              "[['', '2012', '2011', '2010'],\n",
              " ['Cash, cash equivalents and marketable securities',\n",
              "  '$121,251',\n",
              "  '$81,570',\n",
              "  '$51,011'],\n",
              " ['Accounts receivable, net', '$10,930', '$5,369', '$5,510'],\n",
              " ['Inventories', '$791', '$776', '$1,051'],\n",
              " ['Working capital', '$19,111', '$17,018', '$20,956'],\n",
              " ['Annual operating cash flow', '$50,856', '$37,529', '$18,595']]"
            ]
          },
          "metadata": {},
          "execution_count": 57
        }
      ]
    },
    {
      "cell_type": "code",
      "source": [
        "df_train_subset[df_train_subset['fewshot_answers'].isna()].loc[487,'context']"
      ],
      "metadata": {
        "colab": {
          "base_uri": "https://localhost:8080/",
          "height": 87
        },
        "id": "nKC1lDk2GPUt",
        "outputId": "2c704621-e296-4abe-92f4-bac987150fcf"
      },
      "execution_count": 58,
      "outputs": [
        {
          "output_type": "execute_result",
          "data": {
            "text/plain": [
              "\"The table above shows financial data for a company for the years 2012, 2011, and 2010. The first row lists the different types of assets held by the company, including cash, cash equivalents, and marketable securities. The second row shows the value of these assets in millions of dollars for each year. \\n\\nThe next few rows show data on accounts receivable and inventories, also in millions of dollars. The final row shows the company's working capital, which is the difference between its current assets and liabilities. \\n\\nThe last row of the table shows the company's annual operating cash flow, which is the amount of cash generated by its operations each year. This figure is also shown in millions of dollars. \\n\\nOverall, the table provides a snapshot of the company's financial health over a three-year period, with data on its assets, liabilities, and cash flow.\""
            ],
            "application/vnd.google.colaboratory.intrinsic+json": {
              "type": "string"
            }
          },
          "metadata": {},
          "execution_count": 58
        }
      ]
    },
    {
      "cell_type": "markdown",
      "source": [
        "**Common Issues**\n",
        "\n",
        "\n",
        "*   Serialization dropped numbers present in the table\n",
        "*   FinQA's answer itself is flawed\n",
        "\n"
      ],
      "metadata": {
        "id": "PdlfaQz1HEf_"
      }
    },
    {
      "cell_type": "code",
      "source": [
        "print(prompt)"
      ],
      "metadata": {
        "colab": {
          "base_uri": "https://localhost:8080/"
        },
        "id": "CMNTraVykgcw",
        "outputId": "e22bbc8d-6f62-4edc-d91b-d49673347fca"
      },
      "execution_count": 48,
      "outputs": [
        {
          "output_type": "stream",
          "name": "stdout",
          "text": [
            "\n",
            "  ### Instruction: Answer the question in a single step by extracting relevant values from the context given below. Perform the necessary arithmetic operation.\n",
            "\n",
            "  ### Context:\n",
            "  In the year ended December 31, 2013, the net interest income for the company was $31 million, which decreased from $38 million in 2012. The noninterest income increased from $272 million in 2012 to $286 million in 2013. The total customer-related trading revenue was $317 million in both years. However, the securities underwriting and trading revenue decreased from $100 million in 2012 to $78 million in 2013. The company also generated $94 million and $92 million from foreign exchange in 2013 and 2012, respectively. Additionally, they earned $145 million and $118 million from financial derivatives and other sources in 2013 and 2012, respectively.\n",
            "\n",
            "  ### Question:\n",
            "  for 2013 and 2012 , what was total noninterest income in millions?\n",
            "\n",
            "  ### Answer:\n",
            "  Step 1: Add 286 and 272. This gives the result: 558\n",
            "  ---------------------------------------------------------------------------------------------------\n",
            "  ### Instruction: Answer the question in a single step by extracting relevant values from the context given below. Perform the necessary arithmetic operation.\n",
            "\n",
            "  ### Context:\n",
            "  In 2013, the nonoperating income on a GAAP basis was $116 million, whereas in 2012, it was a loss of $54 million. In 2011, it was a loss of $114 million. After subtracting the net income attributable to noncontrolling interests, the nonoperating income for 2013 was $97 million, a decrease from 2012's $36 million loss and 2011's $116 million loss. There was a gain of $80 million related to charitable contribution in 2013. Additionally, there was a compensation expense of $10 million related to the appreciation and depreciation on deferred compensation plans in 2013. When adjusted for the net income attributable to noncontrolling interests, the nonoperating income for 2013 was $7 million, whereas it was a loss of $42 million and $113 million in 2012 and 2011, respectively.\n",
            "\n",
            "  ### Question:\n",
            "  what is the tax benefit as a percentage of nonoperating income ( expense ) on a gaap basis in 2013?\n",
            "\n",
            "  ### Answer:\n",
            "  Step 1: Divide 48 by 116. This gives the result: 41.4%\n",
            "  ---------------------------------------------------------------------------------------------------\n",
            "  ### Instruction: Answer the question in a single step by extracting relevant values from the context given below. Perform the necessary arithmetic operation.\n",
            "\n",
            "  ### Context:\n",
            "  This table lists the dividend amounts, declaration dates, record dates, and payment dates for a company's stock. The first column lists the amount of the dividend, while the following columns list the dates associated with each dividend payment. The company paid a dividend of $0.0425 on February 12, 2014, with a record date of February 25, 2014, and a payment date of March 10, 2014. Subsequent dividends of the same amount were paid on May 8, 2014 (record date of May 27, 2014, payment date of June 10, 2014) and July 31, 2014 (record date of August 25, 2014, payment date of September 10, 2014). The company then increased the dividend to $0.0675, with the next payment on November 6, 2014 (record date of November 25, 2014, payment date of December 10, 2014).\n",
            "\n",
            "  ### Question:\n",
            "  if you held 1000 shares on may 30 , 2014 , how much would you receive in dividends?\n",
            "\n",
            "  ### Answer:\n",
            "  Step 1: Multiply 0.0425 by 1000. This gives the result: 42.5\n",
            "  ---------------------------------------------------------------------------------------------------\n"
          ]
        }
      ]
    },
    {
      "cell_type": "code",
      "source": [],
      "metadata": {
        "id": "SwohyriVnQ8W"
      },
      "execution_count": null,
      "outputs": []
    }
  ]
}