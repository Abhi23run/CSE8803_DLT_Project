{
 "cells": [
  {
   "cell_type": "code",
   "execution_count": 2,
   "metadata": {},
   "outputs": [],
   "source": [
    "import transformers\n",
    "import json"
   ]
  },
  {
   "cell_type": "code",
   "execution_count": 3,
   "metadata": {},
   "outputs": [],
   "source": [
    "with open(\"../finqa_dataset/train.json\") as input_file:\n",
    "        train_data = json.load(input_file)"
   ]
  },
  {
   "cell_type": "code",
   "execution_count": 4,
   "metadata": {},
   "outputs": [
    {
     "data": {
      "text/plain": [
       "6251"
      ]
     },
     "execution_count": 4,
     "metadata": {},
     "output_type": "execute_result"
    }
   ],
   "source": [
    "len(train_data)"
   ]
  },
  {
   "cell_type": "code",
   "execution_count": 6,
   "metadata": {},
   "outputs": [],
   "source": [
    "example = train_data[7]"
   ]
  },
  {
   "cell_type": "code",
   "execution_count": 7,
   "metadata": {},
   "outputs": [
    {
     "data": {
      "text/plain": [
       "{'pre_text': ['free cash flow conversion rate we believe this measure provides useful information to investors because it is important for assessing our efficiency in converting earnings to cash and returning cash to shareholders .',\n",
       "  'the calculation of free cash flow conversion rate and net cash provided by operating activities conversion rate , its equivalent gaap measure , follows: .'],\n",
       " 'post_text': ['( a ) see note 14 to the consolidated financial statements in item 8 of this report .',\n",
       "  '( b ) see note 7 to the consolidated financial statements in item 8 of this report .',\n",
       "  '( c ) see note 3 to the consolidated financial statements in item 8 of this report .',\n",
       "  '( d ) see note 4 to the consolidated financial statements in item 8 of this report .',\n",
       "  '( e ) impact of hyperinflationary accounting for our argentina subsidiary , which was sold in the third quarter of fiscal 2019 .',\n",
       "  '( f ) valuation gains on certain corporate investments .',\n",
       "  '( g ) legal recovery related to our yoplait sas subsidiary .',\n",
       "  '( h ) the cpw restructuring charges are related to initiatives designed to improve profitability and growth that were approved in fiscal 2018 and 2019 .',\n",
       "  'see our reconciliation below of the effective income tax rate as reported to the adjusted effective income tax rate for the tax impact of each item affecting comparability. .'],\n",
       " 'filename': 'GIS/2019/page_45.pdf',\n",
       " 'table_ori': [['In Millions', 'Fiscal 2019'],\n",
       "  ['Net earnings, including earnings attributable to redeemable and noncontrolling interests, asreported',\n",
       "   '$1,786.2'],\n",
       "  ['Net tax benefit (a)', '$(7.2)'],\n",
       "  ['Tax item (a)', '(72.9)'],\n",
       "  ['Mark-to-marketeffects, net of tax (b)', '27.7'],\n",
       "  ['Acquisition integration costs, net of tax (c)', '19.7'],\n",
       "  ['Divestitures loss, net of tax (c)', '16.4'],\n",
       "  ['Restructuring charges, net of tax (d)', '63.0'],\n",
       "  ['Project-related costs, net of tax (d)', '1.1'],\n",
       "  ['Asset impairments, net of tax (d)', '159.7'],\n",
       "  ['Hyperinflationary accounting, net of tax (e)', '3.2'],\n",
       "  ['Investment valuation adjustments, net of tax (f)', '(17.6)'],\n",
       "  ['Legal recovery, net of tax (g)', '(10.8)'],\n",
       "  ['CPW restructuring costs, net of tax (h)', '11.1'],\n",
       "  ['Adjusted net earnings, including earnings attributable to redeemable and noncontrollinginterests',\n",
       "   '$1,979.6'],\n",
       "  ['Net cash provided by operating activities', '$2,807.0'],\n",
       "  ['Purchases of land, buildings, and equipment', '(537.6)'],\n",
       "  ['Free cash flow', '$2,269.4'],\n",
       "  ['Net cash provided by operating activities conversion rate', '157%'],\n",
       "  ['Free cash flow conversion rate', '115%']],\n",
       " 'table': [['in millions', 'fiscal 2019'],\n",
       "  ['net earnings including earnings attributable to redeemable and noncontrolling interests asreported',\n",
       "   '$ 1786.2'],\n",
       "  ['net tax benefit ( a )', '$ -7.2 ( 7.2 )'],\n",
       "  ['tax item ( a )', '-72.9 ( 72.9 )'],\n",
       "  ['mark-to-marketeffects net of tax ( b )', '27.7'],\n",
       "  ['acquisition integration costs net of tax ( c )', '19.7'],\n",
       "  ['divestitures loss net of tax ( c )', '16.4'],\n",
       "  ['restructuring charges net of tax ( d )', '63.0'],\n",
       "  ['project-related costs net of tax ( d )', '1.1'],\n",
       "  ['asset impairments net of tax ( d )', '159.7'],\n",
       "  ['hyperinflationary accounting net of tax ( e )', '3.2'],\n",
       "  ['investment valuation adjustments net of tax ( f )', '-17.6 ( 17.6 )'],\n",
       "  ['legal recovery net of tax ( g )', '-10.8 ( 10.8 )'],\n",
       "  ['cpw restructuring costs net of tax ( h )', '11.1'],\n",
       "  ['adjusted net earnings including earnings attributable to redeemable and noncontrollinginterests',\n",
       "   '$ 1979.6'],\n",
       "  ['net cash provided by operating activities', '$ 2807.0'],\n",
       "  ['purchases of land buildings and equipment', '-537.6 ( 537.6 )'],\n",
       "  ['free cash flow', '$ 2269.4'],\n",
       "  ['net cash provided by operating activities conversion rate',\n",
       "   '157% ( 157 % )'],\n",
       "  ['free cash flow conversion rate', '115% ( 115 % )']],\n",
       " 'qa': {'question': 'in 2019 what was the percent of the net earnings to the net cash provided by operating activities',\n",
       "  'answer': '63.6%',\n",
       "  'explanation': '',\n",
       "  'ann_table_rows': [1, 15],\n",
       "  'ann_text_rows': [],\n",
       "  'steps': [{'op': 'divide1-1',\n",
       "    'arg1': '1786.2',\n",
       "    'arg2': '2807.0',\n",
       "    'res': '63.6%'}],\n",
       "  'program': 'divide(1786.2, 2807.0)',\n",
       "  'gold_inds': {'table_1': 'in millions the net earnings including earnings attributable to redeemable and noncontrolling interests asreported of fiscal 2019 is $ 1786.2 ;',\n",
       "   'table_15': 'in millions the net cash provided by operating activities of fiscal 2019 is $ 2807.0 ;'},\n",
       "  'exe_ans': 0.63634,\n",
       "  'tfidftopn': {'table_18': 'in millions The net cash provided by operating activities conversion rate of fiscal 2019 is 157% ( 157 % ) ;'},\n",
       "  'program_re': 'divide(1786.2, 2807.0)',\n",
       "  'model_input': [['table_1',\n",
       "    'in millions the net earnings including earnings attributable to redeemable and noncontrolling interests asreported of fiscal 2019 is $ 1786.2 ;'],\n",
       "   ['table_14',\n",
       "    'in millions the adjusted net earnings including earnings attributable to redeemable and noncontrollinginterests of fiscal 2019 is $ 1979.6 ;'],\n",
       "   ['table_15',\n",
       "    'in millions the net cash provided by operating activities of fiscal 2019 is $ 2807.0 ;']]},\n",
       " 'id': 'GIS/2019/page_45.pdf-1',\n",
       " 'table_retrieved': [{'score': 2.170884370803833, 'ind': 'table_15'},\n",
       "  {'score': 1.5894945859909058, 'ind': 'table_1'},\n",
       "  {'score': 0.3955131769180298, 'ind': 'table_14'},\n",
       "  {'score': 0.30231234431266785, 'ind': 'table_17'},\n",
       "  {'score': -0.2521319091320038, 'ind': 'table_18'}],\n",
       " 'text_retrieved': [],\n",
       " 'table_retrieved_all': [{'score': 2.170884370803833, 'ind': 'table_15'},\n",
       "  {'score': 1.5894945859909058, 'ind': 'table_1'},\n",
       "  {'score': 0.3955131769180298, 'ind': 'table_14'},\n",
       "  {'score': 0.30231234431266785, 'ind': 'table_17'},\n",
       "  {'score': -0.2521319091320038, 'ind': 'table_18'},\n",
       "  {'score': -0.3268060088157654, 'ind': 'table_4'},\n",
       "  {'score': -0.5348215699195862, 'ind': 'table_2'},\n",
       "  {'score': -0.5951116681098938, 'ind': 'table_9'},\n",
       "  {'score': -0.7575503587722778, 'ind': 'table_16'},\n",
       "  {'score': -0.8326815366744995, 'ind': 'table_3'},\n",
       "  {'score': -0.8625012040138245, 'ind': 'table_10'},\n",
       "  {'score': -0.9605745077133179, 'ind': 'table_6'},\n",
       "  {'score': -1.0816649198532104, 'ind': 'table_12'},\n",
       "  {'score': -1.1232224702835083, 'ind': 'table_7'},\n",
       "  {'score': -1.1812477111816406, 'ind': 'table_11'},\n",
       "  {'score': -1.3034285306930542, 'ind': 'table_8'},\n",
       "  {'score': -1.4265623092651367, 'ind': 'table_13'},\n",
       "  {'score': -1.4878422021865845, 'ind': 'table_19'},\n",
       "  {'score': -1.4944158792495728, 'ind': 'table_5'},\n",
       "  {'score': -2.3560385704040527, 'ind': 'table_0'}],\n",
       " 'text_retrieved_all': [{'score': -1.2332358360290527, 'ind': 'text_8'},\n",
       "  {'score': -1.7390214204788208, 'ind': 'text_1'},\n",
       "  {'score': -1.837683081626892, 'ind': 'text_9'},\n",
       "  {'score': -1.8946144580841064, 'ind': 'text_10'},\n",
       "  {'score': -2.114881992340088, 'ind': 'text_6'},\n",
       "  {'score': -2.254417657852173, 'ind': 'text_0'},\n",
       "  {'score': -2.310947895050049, 'ind': 'text_2'},\n",
       "  {'score': -2.3423595428466797, 'ind': 'text_4'},\n",
       "  {'score': -2.3804047107696533, 'ind': 'text_7'},\n",
       "  {'score': -2.3880045413970947, 'ind': 'text_3'},\n",
       "  {'score': -2.457237720489502, 'ind': 'text_5'}]}"
      ]
     },
     "execution_count": 7,
     "metadata": {},
     "output_type": "execute_result"
    }
   ],
   "source": [
    "example"
   ]
  },
  {
   "cell_type": "code",
   "execution_count": 8,
   "metadata": {},
   "outputs": [
    {
     "data": {
      "text/plain": [
       "'in 2019 what was the percent of the net earnings to the net cash provided by operating activities'"
      ]
     },
     "execution_count": 8,
     "metadata": {},
     "output_type": "execute_result"
    }
   ],
   "source": [
    "example[\"qa\"][\"question\"]"
   ]
  },
  {
   "cell_type": "code",
   "execution_count": 18,
   "metadata": {},
   "outputs": [
    {
     "data": {
      "text/plain": [
       "[['in millions', 'fiscal 2019'],\n",
       " ['net earnings including earnings attributable to redeemable and noncontrolling interests asreported',\n",
       "  '$ 1786.2'],\n",
       " ['net tax benefit ( a )', '$ -7.2 ( 7.2 )'],\n",
       " ['tax item ( a )', '-72.9 ( 72.9 )'],\n",
       " ['mark-to-marketeffects net of tax ( b )', '27.7'],\n",
       " ['acquisition integration costs net of tax ( c )', '19.7'],\n",
       " ['divestitures loss net of tax ( c )', '16.4'],\n",
       " ['restructuring charges net of tax ( d )', '63.0'],\n",
       " ['project-related costs net of tax ( d )', '1.1'],\n",
       " ['asset impairments net of tax ( d )', '159.7'],\n",
       " ['hyperinflationary accounting net of tax ( e )', '3.2'],\n",
       " ['investment valuation adjustments net of tax ( f )', '-17.6 ( 17.6 )'],\n",
       " ['legal recovery net of tax ( g )', '-10.8 ( 10.8 )'],\n",
       " ['cpw restructuring costs net of tax ( h )', '11.1'],\n",
       " ['adjusted net earnings including earnings attributable to redeemable and noncontrollinginterests',\n",
       "  '$ 1979.6'],\n",
       " ['net cash provided by operating activities', '$ 2807.0'],\n",
       " ['purchases of land buildings and equipment', '-537.6 ( 537.6 )'],\n",
       " ['free cash flow', '$ 2269.4'],\n",
       " ['net cash provided by operating activities conversion rate',\n",
       "  '157% ( 157 % )'],\n",
       " ['free cash flow conversion rate', '115% ( 115 % )']]"
      ]
     },
     "execution_count": 18,
     "metadata": {},
     "output_type": "execute_result"
    }
   ],
   "source": [
    "example[\"table\"]"
   ]
  },
  {
   "cell_type": "code",
   "execution_count": 9,
   "metadata": {},
   "outputs": [
    {
     "data": {
      "text/plain": [
       "[['table_1',\n",
       "  'in millions the net earnings including earnings attributable to redeemable and noncontrolling interests asreported of fiscal 2019 is $ 1786.2 ;'],\n",
       " ['table_14',\n",
       "  'in millions the adjusted net earnings including earnings attributable to redeemable and noncontrollinginterests of fiscal 2019 is $ 1979.6 ;'],\n",
       " ['table_15',\n",
       "  'in millions the net cash provided by operating activities of fiscal 2019 is $ 2807.0 ;']]"
      ]
     },
     "execution_count": 9,
     "metadata": {},
     "output_type": "execute_result"
    }
   ],
   "source": [
    "example[\"qa\"][\"model_input\"]"
   ]
  },
  {
   "cell_type": "code",
   "execution_count": 13,
   "metadata": {},
   "outputs": [],
   "source": [
    "def remove_space(text_in):\n",
    "    res = []\n",
    "\n",
    "    for tmp in text_in.split(\" \"):\n",
    "        if tmp != \"\":\n",
    "            res.append(tmp)\n",
    "\n",
    "    return \" \".join(res)\n",
    "\n",
    "def table_row_to_text(header, row):\n",
    "    '''\n",
    "    use templates to convert table row to text\n",
    "    '''\n",
    "    res = \"\"\n",
    "    \n",
    "    if header[0]:\n",
    "        res += (header[0] + \" \")\n",
    "\n",
    "    for head, cell in zip(header[1:], row[1:]):\n",
    "        res += (\"the \" + row[0] + \" of \" + head + \" is \" + cell + \" ; \")\n",
    "    \n",
    "    res = remove_space(res)\n",
    "    return res.strip()"
   ]
  },
  {
   "cell_type": "code",
   "execution_count": 14,
   "metadata": {},
   "outputs": [],
   "source": [
    "table = example[\"table\"]\n",
    "table_text = \"\"\n",
    "for row in table[1:]:\n",
    "        this_sent = table_row_to_text(table[0], row)\n",
    "        table_text += this_sent"
   ]
  },
  {
   "cell_type": "code",
   "execution_count": 16,
   "metadata": {},
   "outputs": [
    {
     "name": "stdout",
     "output_type": "stream",
     "text": [
      "in millions the net earnings including earnings attributable to redeemable and noncontrolling interests asreported of fiscal 2019 is $ 1786.2 ;in millions the net tax benefit ( a ) of fiscal 2019 is $ -7.2 ( 7.2 ) ;in millions the tax item ( a ) of fiscal 2019 is -72.9 ( 72.9 ) ;in millions the mark-to-marketeffects net of tax ( b ) of fiscal 2019 is 27.7 ;in millions the acquisition integration costs net of tax ( c ) of fiscal 2019 is 19.7 ;in millions the divestitures loss net of tax ( c ) of fiscal 2019 is 16.4 ;in millions the restructuring charges net of tax ( d ) of fiscal 2019 is 63.0 ;in millions the project-related costs net of tax ( d ) of fiscal 2019 is 1.1 ;in millions the asset impairments net of tax ( d ) of fiscal 2019 is 159.7 ;in millions the hyperinflationary accounting net of tax ( e ) of fiscal 2019 is 3.2 ;in millions the investment valuation adjustments net of tax ( f ) of fiscal 2019 is -17.6 ( 17.6 ) ;in millions the legal recovery net of tax ( g ) of fiscal 2019 is -10.8 ( 10.8 ) ;in millions the cpw restructuring costs net of tax ( h ) of fiscal 2019 is 11.1 ;in millions the adjusted net earnings including earnings attributable to redeemable and noncontrollinginterests of fiscal 2019 is $ 1979.6 ;in millions the net cash provided by operating activities of fiscal 2019 is $ 2807.0 ;in millions the purchases of land buildings and equipment of fiscal 2019 is -537.6 ( 537.6 ) ;in millions the free cash flow of fiscal 2019 is $ 2269.4 ;in millions the net cash provided by operating activities conversion rate of fiscal 2019 is 157% ( 157 % ) ;in millions the free cash flow conversion rate of fiscal 2019 is 115% ( 115 % ) ;\n"
     ]
    }
   ],
   "source": [
    "(table_text)"
   ]
  },
  {
   "cell_type": "code",
   "execution_count": 19,
   "metadata": {},
   "outputs": [],
   "source": [
    "context = \" \".join(example[\"pre_text\"]) + \" \" + \" \".join(example[\"post_text\"]) + \" \" + table_text"
   ]
  },
  {
   "cell_type": "code",
   "execution_count": 22,
   "metadata": {},
   "outputs": [
    {
     "data": {
      "text/plain": [
       "'free cash flow conversion rate we believe this measure provides useful information to investors because it is important for assessing our efficiency in converting earnings to cash and returning cash to shareholders . the calculation of free cash flow conversion rate and net cash provided by operating activities conversion rate , its equivalent gaap measure , follows: . ( a ) see note 14 to the consolidated financial statements in item 8 of this report . ( b ) see note 7 to the consolidated financial statements in item 8 of this report . ( c ) see note 3 to the consolidated financial statements in item 8 of this report . ( d ) see note 4 to the consolidated financial statements in item 8 of this report . ( e ) impact of hyperinflationary accounting for our argentina subsidiary , which was sold in the third quarter of fiscal 2019 . ( f ) valuation gains on certain corporate investments . ( g ) legal recovery related to our yoplait sas subsidiary . ( h ) the cpw restructuring charges are related to initiatives designed to improve profitability and growth that were approved in fiscal 2018 and 2019 . see our reconciliation below of the effective income tax rate as reported to the adjusted effective income tax rate for the tax impact of each item affecting comparability. . in millions the net earnings including earnings attributable to redeemable and noncontrolling interests asreported of fiscal 2019 is $ 1786.2 ;in millions the net tax benefit ( a ) of fiscal 2019 is $ -7.2 ( 7.2 ) ;in millions the tax item ( a ) of fiscal 2019 is -72.9 ( 72.9 ) ;in millions the mark-to-marketeffects net of tax ( b ) of fiscal 2019 is 27.7 ;in millions the acquisition integration costs net of tax ( c ) of fiscal 2019 is 19.7 ;in millions the divestitures loss net of tax ( c ) of fiscal 2019 is 16.4 ;in millions the restructuring charges net of tax ( d ) of fiscal 2019 is 63.0 ;in millions the project-related costs net of tax ( d ) of fiscal 2019 is 1.1 ;in millions the asset impairments net of tax ( d ) of fiscal 2019 is 159.7 ;in millions the hyperinflationary accounting net of tax ( e ) of fiscal 2019 is 3.2 ;in millions the investment valuation adjustments net of tax ( f ) of fiscal 2019 is -17.6 ( 17.6 ) ;in millions the legal recovery net of tax ( g ) of fiscal 2019 is -10.8 ( 10.8 ) ;in millions the cpw restructuring costs net of tax ( h ) of fiscal 2019 is 11.1 ;in millions the adjusted net earnings including earnings attributable to redeemable and noncontrollinginterests of fiscal 2019 is $ 1979.6 ;in millions the net cash provided by operating activities of fiscal 2019 is $ 2807.0 ;in millions the purchases of land buildings and equipment of fiscal 2019 is -537.6 ( 537.6 ) ;in millions the free cash flow of fiscal 2019 is $ 2269.4 ;in millions the net cash provided by operating activities conversion rate of fiscal 2019 is 157% ( 157 % ) ;in millions the free cash flow conversion rate of fiscal 2019 is 115% ( 115 % ) ;'"
      ]
     },
     "execution_count": 22,
     "metadata": {},
     "output_type": "execute_result"
    }
   ],
   "source": [
    "context"
   ]
  },
  {
   "cell_type": "code",
   "execution_count": 25,
   "metadata": {},
   "outputs": [],
   "source": [
    "original_question = example[\"qa\"][\"question\"] + \" \" + context.strip()"
   ]
  },
  {
   "cell_type": "code",
   "execution_count": 33,
   "metadata": {},
   "outputs": [
    {
     "data": {
      "text/plain": [
       "[0, 2, 3, 4, 5, 6, 7, 8, 9, 10]"
      ]
     },
     "execution_count": 33,
     "metadata": {},
     "output_type": "execute_result"
    }
   ],
   "source": [
    "[i for i,ex in enumerate(train_data) if len(ex[\"qa\"][\"answer\"])>0][:10]"
   ]
  },
  {
   "cell_type": "code",
   "execution_count": 39,
   "metadata": {},
   "outputs": [
    {
     "data": {
      "text/plain": [
       "'in 2019 what was the percent of the net earnings to the net cash provided by operating activities'"
      ]
     },
     "execution_count": 39,
     "metadata": {},
     "output_type": "execute_result"
    }
   ],
   "source": [
    "example[\"qa\"][\"question\"]"
   ]
  },
  {
   "cell_type": "code",
   "execution_count": 42,
   "metadata": {},
   "outputs": [
    {
     "data": {
      "text/plain": [
       "[{'op': 'divide1-1', 'arg1': '1786.2', 'arg2': '2807.0', 'res': '63.6%'}]"
      ]
     },
     "execution_count": 42,
     "metadata": {},
     "output_type": "execute_result"
    }
   ],
   "source": [
    "example[\"qa\"][\"steps\"]"
   ]
  },
  {
   "cell_type": "code",
   "execution_count": 40,
   "metadata": {},
   "outputs": [
    {
     "data": {
      "text/plain": [
       "[{'op': 'divide1-1', 'arg1': '1786.2', 'arg2': '2807.0', 'res': '63.6%'}]"
      ]
     },
     "execution_count": 40,
     "metadata": {},
     "output_type": "execute_result"
    }
   ],
   "source": [
    "example[\"qa\"][\"steps\"]"
   ]
  },
  {
   "cell_type": "code",
   "execution_count": 62,
   "metadata": {},
   "outputs": [
    {
     "data": {
      "text/plain": [
       "[]"
      ]
     },
     "execution_count": 62,
     "metadata": {},
     "output_type": "execute_result"
    }
   ],
   "source": [
    "possible_steps = [ex[\"qa\"][\"steps\"] for ex in train_data for step in ex[\"qa\"][\"steps\"] if \"table\" in step[\"op\"]]\n",
    "possible_steps"
   ]
  },
  {
   "cell_type": "code",
   "execution_count": null,
   "metadata": {},
   "outputs": [],
   "source": []
  },
  {
   "cell_type": "code",
   "execution_count": null,
   "metadata": {},
   "outputs": [],
   "source": []
  },
  {
   "cell_type": "code",
   "execution_count": null,
   "metadata": {},
   "outputs": [],
   "source": []
  },
  {
   "cell_type": "code",
   "execution_count": null,
   "metadata": {},
   "outputs": [],
   "source": []
  }
 ],
 "metadata": {
  "kernelspec": {
   "display_name": "dlt_project",
   "language": "python",
   "name": "python3"
  },
  "language_info": {
   "codemirror_mode": {
    "name": "ipython",
    "version": 3
   },
   "file_extension": ".py",
   "mimetype": "text/x-python",
   "name": "python",
   "nbconvert_exporter": "python",
   "pygments_lexer": "ipython3",
   "version": "3.10.12"
  }
 },
 "nbformat": 4,
 "nbformat_minor": 2
}
